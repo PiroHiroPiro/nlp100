{
 "cells": [
  {
   "cell_type": "markdown",
   "metadata": {},
   "source": [
    "# 第10章: ベクトル空間法 (II)\n",
    "第10章では，前章に引き続き単語ベクトルの学習に取り組む．"
   ]
  },
  {
   "cell_type": "markdown",
   "metadata": {},
   "source": [
    "## 90. word2vecによる学習\n",
    "81で作成したコーパスに対して[word2vec](https://code.google.com/p/word2vec/)を適用し，単語ベクトルを学習せよ．さらに，学習した単語ベクトルの形式を変換し，86-89のプログラムを動かせ．"
   ]
  },
  {
   "cell_type": "code",
   "execution_count": 1,
   "metadata": {
    "scrolled": true
   },
   "outputs": [
    {
     "name": "stdout",
     "output_type": "stream",
     "text": [
      "  % Total    % Received % Xferd  Average Speed   Time    Time     Time  Current\n",
      "                                 Dload  Upload   Total   Spent    Left  Speed\n",
      "100  3268    0  3268    0     0   3288      0 --:--:-- --:--:-- --:--:--  3287\n",
      "  % Total    % Received % Xferd  Average Speed   Time    Time     Time  Current\n",
      "                                 Dload  Upload   Total   Spent    Left  Speed\n",
      "100   383    0   383    0     0    492      0 --:--:-- --:--:-- --:--:--   492\n",
      "100 1570M    0 1570M    0     0  11.0M      0 --:--:--  0:02:22 --:--:-- 11.9M    0  10.2M      0 --:--:--  0:01:01 --:--:-- 12.0M      0 --:--:--  0:01:27 --:--:-- 12.2M\n"
     ]
    }
   ],
   "source": [
    "! DOWNLOAD_URL=\"https://drive.google.com`curl -c /tmp/cookies.txt \\\n",
    "        'https://drive.google.com/uc?export=download&id=0B7XkCwpI5KDYNlNUTTlSS21pQmM' \\\n",
    "        | sed -r 's/\\\"/\\n/g' | grep id=0B7XkCwpI5KDYNlNUTTlSS21pQmM | grep confirm | sed 's/&amp;/\\&/g'`\" \\\n",
    "    && curl -L -b /tmp/cookies.txt -o google_news_vectors_negative300.bin.gz \"$DOWNLOAD_URL\" \\\n",
    "    && gzip -d google_news_vectors_negative300.bin.gz \\\n",
    "    && rm -f google_news_vectors_negative300.bin.gz \\\n",
    "    && rm -f /tmp/cookies.txt"
   ]
  },
  {
   "cell_type": "code",
   "execution_count": 2,
   "metadata": {},
   "outputs": [],
   "source": [
    "import gensim.models.keyedvectors as word2vec"
   ]
  },
  {
   "cell_type": "code",
   "execution_count": 3,
   "metadata": {},
   "outputs": [
    {
     "name": "stderr",
     "output_type": "stream",
     "text": [
      "/usr/local/lib/python3.7/site-packages/smart_open/smart_open_lib.py:398: UserWarning: This function is deprecated, use smart_open.open instead. See the migration notes for details: https://github.com/RaRe-Technologies/smart_open/blob/master/README.rst#migrating-to-the-new-open-function\n",
      "  'See the migration notes for details: %s' % _MIGRATION_NOTES_URL\n"
     ]
    }
   ],
   "source": [
    "# https://stackoverflow.com/questions/49676060/unpicklingerror-invalid-load-key-3\n",
    "model = word2vec.KeyedVectors.load_word2vec_format(\"google_news_vectors_negative300.bin\", binary=True)"
   ]
  },
  {
   "cell_type": "code",
   "execution_count": 4,
   "metadata": {
    "scrolled": true
   },
   "outputs": [
    {
     "data": {
      "text/plain": [
       "array([-3.61328125e-02, -4.83398438e-02,  2.35351562e-01,  1.74804688e-01,\n",
       "       -1.46484375e-01, -7.42187500e-02, -1.01562500e-01, -7.71484375e-02,\n",
       "        1.09375000e-01, -5.71289062e-02, -1.48437500e-01, -6.00585938e-02,\n",
       "        1.74804688e-01, -7.71484375e-02,  2.58789062e-02, -7.66601562e-02,\n",
       "       -3.80859375e-02,  1.35742188e-01,  3.75976562e-02, -4.19921875e-02,\n",
       "       -3.56445312e-02,  5.34667969e-02,  3.68118286e-04, -1.66992188e-01,\n",
       "       -1.17187500e-01,  1.41601562e-01, -1.69921875e-01, -6.49414062e-02,\n",
       "       -1.66992188e-01,  1.00585938e-01,  1.15722656e-01, -2.18750000e-01,\n",
       "       -9.86328125e-02, -2.56347656e-02,  1.23046875e-01, -3.54003906e-02,\n",
       "       -1.58203125e-01, -1.60156250e-01,  2.94189453e-02,  8.15429688e-02,\n",
       "        6.88476562e-02,  1.87500000e-01,  6.49414062e-02,  1.15234375e-01,\n",
       "       -2.27050781e-02,  3.32031250e-01, -3.27148438e-02,  1.77734375e-01,\n",
       "       -2.08007812e-01,  4.54101562e-02, -1.23901367e-02,  1.19628906e-01,\n",
       "        7.44628906e-03, -9.03320312e-03,  1.14257812e-01,  1.69921875e-01,\n",
       "       -2.38281250e-01, -2.79541016e-02, -1.21093750e-01,  2.47802734e-02,\n",
       "        7.71484375e-02, -2.81982422e-02, -4.71191406e-02,  1.78222656e-02,\n",
       "       -1.23046875e-01, -5.32226562e-02,  2.68554688e-02, -3.11279297e-02,\n",
       "       -5.59082031e-02, -5.00488281e-02, -3.73535156e-02,  1.25976562e-01,\n",
       "        5.61523438e-02,  1.51367188e-01,  4.29687500e-02, -2.08007812e-01,\n",
       "       -4.78515625e-02,  2.78320312e-02,  1.81640625e-01,  2.20703125e-01,\n",
       "       -3.61328125e-02, -8.39843750e-02, -3.69548798e-05, -9.52148438e-02,\n",
       "       -1.25000000e-01, -1.95312500e-01, -1.50390625e-01, -4.15039062e-02,\n",
       "        1.31835938e-01,  1.17675781e-01,  1.91650391e-02,  5.51757812e-02,\n",
       "       -9.42382812e-02, -1.08886719e-01,  7.32421875e-02, -1.15234375e-01,\n",
       "        8.93554688e-02, -1.40625000e-01,  1.45507812e-01,  4.49218750e-02,\n",
       "       -1.10473633e-02, -1.62353516e-02,  4.05883789e-03,  3.75976562e-02,\n",
       "       -6.98242188e-02, -5.46875000e-02,  2.17285156e-02, -9.47265625e-02,\n",
       "        4.24804688e-02,  1.81884766e-02, -1.73339844e-02,  4.63867188e-02,\n",
       "       -1.42578125e-01,  1.99218750e-01,  1.10839844e-01,  2.58789062e-02,\n",
       "       -7.08007812e-02, -5.54199219e-02,  3.45703125e-01,  1.61132812e-01,\n",
       "       -2.44140625e-01, -2.59765625e-01, -9.71679688e-02,  8.00781250e-02,\n",
       "       -8.78906250e-02, -7.22656250e-02,  1.42578125e-01, -8.54492188e-02,\n",
       "       -3.18359375e-01,  8.30078125e-02,  6.34765625e-02,  1.64062500e-01,\n",
       "       -1.92382812e-01, -1.17675781e-01, -5.41992188e-02, -1.56250000e-01,\n",
       "       -1.21582031e-01, -4.95605469e-02,  1.20117188e-01, -3.83300781e-02,\n",
       "        5.51757812e-02, -8.97216797e-03,  4.32128906e-02,  6.93359375e-02,\n",
       "        8.93554688e-02,  2.53906250e-01,  1.65039062e-01,  1.64062500e-01,\n",
       "       -1.41601562e-01,  4.58984375e-02,  1.97265625e-01, -8.98437500e-02,\n",
       "        3.90625000e-02, -1.51367188e-01, -8.60595703e-03, -1.17675781e-01,\n",
       "       -1.97265625e-01, -1.12792969e-01,  1.29882812e-01,  1.96289062e-01,\n",
       "        1.56402588e-03,  3.93066406e-02,  2.17773438e-01, -1.43554688e-01,\n",
       "        6.03027344e-02, -1.35742188e-01,  1.16210938e-01, -1.59912109e-02,\n",
       "        2.79296875e-01,  1.46484375e-01, -1.19628906e-01,  1.76757812e-01,\n",
       "        1.28906250e-01, -1.49414062e-01,  6.93359375e-02, -1.72851562e-01,\n",
       "        9.22851562e-02,  1.33056641e-02, -2.00195312e-01, -9.76562500e-02,\n",
       "       -1.65039062e-01, -2.46093750e-01, -2.35595703e-02, -2.11914062e-01,\n",
       "        1.84570312e-01, -1.85546875e-02,  2.16796875e-01,  5.05371094e-02,\n",
       "        2.02636719e-02,  4.25781250e-01,  1.28906250e-01, -2.77099609e-02,\n",
       "        1.29882812e-01, -1.15722656e-01, -2.05078125e-02,  1.49414062e-01,\n",
       "        7.81250000e-03, -2.05078125e-01, -8.05664062e-02, -2.67578125e-01,\n",
       "       -2.29492188e-02, -8.20312500e-02,  8.64257812e-02,  7.61718750e-02,\n",
       "       -3.66210938e-02,  5.22460938e-02, -1.22070312e-01, -1.44042969e-02,\n",
       "       -2.69531250e-01,  8.44726562e-02, -2.52685547e-02, -2.96630859e-02,\n",
       "       -1.68945312e-01,  1.93359375e-01, -1.08398438e-01,  1.94091797e-02,\n",
       "       -1.80664062e-01,  1.93359375e-01, -7.08007812e-02,  5.85937500e-02,\n",
       "       -1.01562500e-01, -1.31835938e-01,  7.51953125e-02, -7.66601562e-02,\n",
       "        3.37219238e-03, -8.59375000e-02,  1.25000000e-01,  2.92968750e-02,\n",
       "        1.70898438e-01, -9.37500000e-02, -1.09375000e-01, -2.50244141e-02,\n",
       "        2.11914062e-01, -4.44335938e-02,  6.12792969e-02,  2.62451172e-02,\n",
       "       -1.77734375e-01,  1.23046875e-01, -7.42187500e-02, -1.67968750e-01,\n",
       "       -1.08886719e-01, -9.04083252e-04, -7.37304688e-02,  5.49316406e-02,\n",
       "        6.03027344e-02,  8.39843750e-02,  9.17968750e-02, -1.32812500e-01,\n",
       "        1.22070312e-01, -8.78906250e-03,  1.19140625e-01, -1.94335938e-01,\n",
       "       -6.64062500e-02, -2.07031250e-01,  7.37304688e-02,  8.93554688e-02,\n",
       "        1.81884766e-02, -1.20605469e-01, -2.61230469e-02,  2.67333984e-02,\n",
       "        7.76367188e-02, -8.30078125e-02,  6.78710938e-02, -3.54003906e-02,\n",
       "        3.10546875e-01, -2.42919922e-02, -1.41601562e-01, -2.08007812e-01,\n",
       "       -4.57763672e-03, -6.54296875e-02, -4.95605469e-02,  2.22656250e-01,\n",
       "        1.53320312e-01, -1.38671875e-01, -5.24902344e-02,  4.24804688e-02,\n",
       "       -2.38281250e-01,  1.56250000e-01,  5.83648682e-04, -1.20605469e-01,\n",
       "       -9.22851562e-02, -4.44335938e-02,  3.61328125e-02, -1.86767578e-02,\n",
       "       -8.25195312e-02, -8.25195312e-02, -4.05273438e-02,  1.19018555e-02,\n",
       "        1.69921875e-01, -2.80761719e-02,  3.03649902e-03,  9.32617188e-02,\n",
       "       -8.49609375e-02,  1.57470703e-02,  7.03125000e-02,  1.62353516e-02,\n",
       "       -2.27050781e-02,  3.51562500e-02,  2.47070312e-01, -2.67333984e-02],\n",
       "      dtype=float32)"
      ]
     },
     "execution_count": 4,
     "metadata": {},
     "output_type": "execute_result"
    }
   ],
   "source": [
    "model[\"United_States\"]"
   ]
  },
  {
   "cell_type": "code",
   "execution_count": 5,
   "metadata": {},
   "outputs": [],
   "source": [
    "from scipy.spatial.distance import cosine"
   ]
  },
  {
   "cell_type": "code",
   "execution_count": 6,
   "metadata": {},
   "outputs": [],
   "source": [
    "def cosine_sim(v1, v2):\n",
    "    return max(1- cosine(v1, v2), 0)"
   ]
  },
  {
   "cell_type": "code",
   "execution_count": 7,
   "metadata": {
    "scrolled": true
   },
   "outputs": [
    {
     "data": {
      "text/plain": [
       "0.3638412058353424"
      ]
     },
     "execution_count": 7,
     "metadata": {},
     "output_type": "execute_result"
    }
   ],
   "source": [
    "cosine_sim(model[\"United_States\"], model[\"U.S\"])"
   ]
  },
  {
   "cell_type": "code",
   "execution_count": 8,
   "metadata": {},
   "outputs": [],
   "source": [
    "def similary_n_words(target_word, n=10):\n",
    "    return model.most_similar(positive=[target_word], topn=n)"
   ]
  },
  {
   "cell_type": "code",
   "execution_count": 9,
   "metadata": {},
   "outputs": [
    {
     "data": {
      "text/plain": [
       "[('stock_symbol_BNK', 0.7334469556808472),\n",
       " ('ticker_symbol_BNK', 0.7256011962890625),\n",
       " ('Engand', 0.6351369619369507),\n",
       " ('Wales', 0.6337509155273438),\n",
       " ('Engalnd', 0.6287516355514526),\n",
       " ('FOOTBALL_::', 0.6109525561332703),\n",
       " ('Graner_contradicted', 0.6092768907546997),\n",
       " ('Englad', 0.5995262861251831),\n",
       " ('LSO_St_Lukes', 0.593121349811554),\n",
       " ('Lakenheath_Airfield', 0.586760938167572)]"
      ]
     },
     "execution_count": 9,
     "metadata": {},
     "output_type": "execute_result"
    }
   ],
   "source": [
    "similary_n_words(\"England\")"
   ]
  },
  {
   "cell_type": "code",
   "execution_count": 10,
   "metadata": {},
   "outputs": [],
   "source": [
    "vector = model[\"Spain\"] - model[\"Madrid\"] + model[\"Athens\"]"
   ]
  },
  {
   "cell_type": "code",
   "execution_count": 11,
   "metadata": {},
   "outputs": [],
   "source": [
    "def similary_n_words_by_word2vec_vector(target_vector, n=10):\n",
    "    return model.most_similar([target_vector], [], n)"
   ]
  },
  {
   "cell_type": "code",
   "execution_count": 12,
   "metadata": {},
   "outputs": [
    {
     "data": {
      "text/plain": [
       "[('Athens', 0.7528455853462219),\n",
       " ('Greece', 0.6685472130775452),\n",
       " ('Aristeidis_Grigoriadis', 0.5495778322219849),\n",
       " ('Ioannis_Drymonakos', 0.5361457467079163),\n",
       " ('Greeks', 0.5351786613464355),\n",
       " ('Ioannis_Christou', 0.5330225825309753),\n",
       " ('Hrysopiyi_Devetzi', 0.5088489651679993),\n",
       " ('Iraklion', 0.5059264898300171),\n",
       " ('Greek', 0.5040615797042847),\n",
       " ('Athens_Greece', 0.5034109354019165)]"
      ]
     },
     "execution_count": 12,
     "metadata": {},
     "output_type": "execute_result"
    }
   ],
   "source": [
    "similary_n_words_by_word2vec_vector(vector)"
   ]
  },
  {
   "cell_type": "markdown",
   "metadata": {},
   "source": [
    "## 91. アナロジーデータの準備\n",
    "[単語アナロジーの評価データ](https://word2vec.googlecode.com/svn/trunk/questions-words.txt)をダウンロードせよ．このデータ中で\": \"で始まる行はセクション名を表す．例えば，\": capital-common-countries\"という行は，\"capital-common-countries\"というセクションの開始を表している．ダウンロードした評価データの中で，\"family\"というセクションに含まれる評価事例を抜き出してファイルに保存せよ．"
   ]
  },
  {
   "cell_type": "code",
   "execution_count": 13,
   "metadata": {
    "scrolled": true
   },
   "outputs": [
    {
     "name": "stdout",
     "output_type": "stream",
     "text": [
      "  % Total    % Received % Xferd  Average Speed   Time    Time     Time  Current\n",
      "                                 Dload  Upload   Total   Spent    Left  Speed\n",
      "100  218k  100  218k    0     0   216k      0  0:00:01  0:00:01 --:--:--  216k\n",
      "Archive:  source-archive.zip\n",
      "   creating: word2vec/\n",
      "   creating: word2vec/.svn/\n",
      "  inflating: word2vec/.svn/all-wcprops  \n",
      "   creating: word2vec/.svn/tmp/\n",
      "   creating: word2vec/.svn/tmp/prop-base/\n",
      "   creating: word2vec/.svn/tmp/props/\n",
      "   creating: word2vec/.svn/tmp/text-base/\n",
      "   creating: word2vec/.svn/prop-base/\n",
      "   creating: word2vec/.svn/props/\n",
      "   creating: word2vec/.svn/text-base/\n",
      "  inflating: word2vec/.svn/entries   \n",
      "   creating: word2vec/trunk/\n",
      "  inflating: word2vec/trunk/demo-phrases.sh  \n",
      "  inflating: word2vec/trunk/demo-word.sh  \n",
      "  inflating: word2vec/trunk/questions-phrases.txt  \n",
      "  inflating: word2vec/trunk/demo-word-accuracy.sh  \n",
      "  inflating: word2vec/trunk/README.txt  \n",
      "  inflating: word2vec/trunk/makefile  \n",
      "  inflating: word2vec/trunk/word2phrase.c  \n",
      "  inflating: word2vec/trunk/compute-accuracy.c  \n",
      "   creating: word2vec/trunk/.svn/\n",
      "  inflating: word2vec/trunk/.svn/all-wcprops  \n",
      "   creating: word2vec/trunk/.svn/tmp/\n",
      "   creating: word2vec/trunk/.svn/tmp/prop-base/\n",
      "   creating: word2vec/trunk/.svn/tmp/props/\n",
      "   creating: word2vec/trunk/.svn/tmp/text-base/\n",
      "   creating: word2vec/trunk/.svn/prop-base/\n",
      " extracting: word2vec/trunk/.svn/prop-base/demo-train-big-model-v1.sh.svn-base  \n",
      "   creating: word2vec/trunk/.svn/props/\n",
      "   creating: word2vec/trunk/.svn/text-base/\n",
      "  inflating: word2vec/trunk/.svn/text-base/word2phrase.c.svn-base  \n",
      "  inflating: word2vec/trunk/.svn/text-base/questions-words.txt.svn-base  \n",
      "  inflating: word2vec/trunk/.svn/text-base/demo-classes.sh.svn-base  \n",
      "  inflating: word2vec/trunk/.svn/text-base/makefile.svn-base  \n",
      "  inflating: word2vec/trunk/.svn/text-base/compute-accuracy.c.svn-base  \n",
      "  inflating: word2vec/trunk/.svn/text-base/distance.c.svn-base  \n",
      "  inflating: word2vec/trunk/.svn/text-base/demo-analogy.sh.svn-base  \n",
      "  inflating: word2vec/trunk/.svn/text-base/README.txt.svn-base  \n",
      "  inflating: word2vec/trunk/.svn/text-base/word2vec.c.svn-base  \n",
      "  inflating: word2vec/trunk/.svn/text-base/demo-phrases.sh.svn-base  \n",
      "  inflating: word2vec/trunk/.svn/text-base/demo-train-big-model-v1.sh.svn-base  \n",
      "  inflating: word2vec/trunk/.svn/text-base/demo-phrase-accuracy.sh.svn-base  \n",
      "  inflating: word2vec/trunk/.svn/text-base/questions-phrases.txt.svn-base  \n",
      "  inflating: word2vec/trunk/.svn/text-base/LICENSE.svn-base  \n",
      "  inflating: word2vec/trunk/.svn/text-base/word-analogy.c.svn-base  \n",
      "  inflating: word2vec/trunk/.svn/text-base/demo-word-accuracy.sh.svn-base  \n",
      "  inflating: word2vec/trunk/.svn/text-base/demo-word.sh.svn-base  \n",
      "  inflating: word2vec/trunk/.svn/entries  \n",
      "  inflating: word2vec/trunk/demo-classes.sh  \n",
      "  inflating: word2vec/trunk/demo-analogy.sh  \n",
      "  inflating: word2vec/trunk/demo-train-big-model-v1.sh  \n",
      "  inflating: word2vec/trunk/word-analogy.c  \n",
      "  inflating: word2vec/trunk/demo-phrase-accuracy.sh  \n",
      "  inflating: word2vec/trunk/distance.c  \n",
      "  inflating: word2vec/trunk/word2vec.c  \n",
      "  inflating: word2vec/trunk/questions-words.txt  \n",
      "  inflating: word2vec/trunk/LICENSE  \n"
     ]
    }
   ],
   "source": [
    "# https://github.com/RaRe-Technologies/gensim/issues/760\n",
    "! curl -o source-archive.zip https://storage.googleapis.com/google-code-archive-source/v2/code.google.com/word2vec/source-archive.zip \\\n",
    "    && unzip source-archive.zip \\\n",
    "    && mv word2vec/trunk/questions-words.txt ./ \\\n",
    "    && rm -rf word2vec \\\n",
    "    && rm -f source-archive.zip"
   ]
  },
  {
   "cell_type": "code",
   "execution_count": 14,
   "metadata": {},
   "outputs": [],
   "source": [
    "with open(\"questions-words.txt\", mode=\"r\") as f:\n",
    "    lines = f.readlines()"
   ]
  },
  {
   "cell_type": "code",
   "execution_count": 15,
   "metadata": {},
   "outputs": [],
   "source": [
    "family_lines = []\n",
    "\n",
    "for line in lines:\n",
    "    if line.startswith(\": \"):\n",
    "        section_name = line.strip().replace(\": \", \"\")\n",
    "    elif section_name == \"family\":\n",
    "        family_lines.append(line.strip())"
   ]
  },
  {
   "cell_type": "code",
   "execution_count": 16,
   "metadata": {},
   "outputs": [
    {
     "data": {
      "text/plain": [
       "['boy girl brother sister',\n",
       " 'boy girl brothers sisters',\n",
       " 'boy girl dad mom',\n",
       " 'boy girl father mother',\n",
       " 'boy girl grandfather grandmother']"
      ]
     },
     "execution_count": 16,
     "metadata": {},
     "output_type": "execute_result"
    }
   ],
   "source": [
    "family_lines[:5]"
   ]
  },
  {
   "cell_type": "code",
   "execution_count": 17,
   "metadata": {},
   "outputs": [],
   "source": [
    "with open(\"questions-words-family.txt\", mode=\"w\") as f:\n",
    "    f.write(\"\\n\".join(family_lines))"
   ]
  },
  {
   "cell_type": "markdown",
   "metadata": {},
   "source": [
    "## 92. アナロジーデータへの適用\n",
    "91で作成した評価データの各事例に対して，vec(2列目の単語) - vec(1列目の単語) + vec(3列目の単語)を計算し，そのベクトルと類似度が最も高い単語と，その類似度を求めよ．求めた単語と類似度は，各事例の末尾に追記せよ．このプログラムを85で作成した単語ベクトル，90で作成した単語ベクトルに対して適用せよ．"
   ]
  },
  {
   "cell_type": "code",
   "execution_count": 18,
   "metadata": {},
   "outputs": [],
   "source": [
    "with open(\"questions-words-family.txt\", mode=\"r\") as f:\n",
    "    family_lines = f.readlines()"
   ]
  },
  {
   "cell_type": "code",
   "execution_count": 19,
   "metadata": {},
   "outputs": [],
   "source": [
    "import joblib"
   ]
  },
  {
   "cell_type": "code",
   "execution_count": 20,
   "metadata": {},
   "outputs": [],
   "source": [
    "vectors = joblib.load(\"../ch9/vectors.pcl\")\n",
    "ordered_t_index = joblib.load(\"../ch9/ordered_t_index.pcl\")"
   ]
  },
  {
   "cell_type": "code",
   "execution_count": 21,
   "metadata": {},
   "outputs": [],
   "source": [
    "def similary_n_words_by_ch9_vector(target_vector, n=10):\n",
    "    sorted_results = sorted([(t, cosine_sim(target_vector, vectors[ordered_t_index[t]])) for t in ordered_t_index.keys()], key=lambda x: x[1], reverse=True)\n",
    "    return sorted_results[:n]"
   ]
  },
  {
   "cell_type": "code",
   "execution_count": 22,
   "metadata": {},
   "outputs": [],
   "source": [
    "from joblib import Parallel, delayed"
   ]
  },
  {
   "cell_type": "code",
   "execution_count": 23,
   "metadata": {},
   "outputs": [],
   "source": [
    "def _get_most_sim_word(line):\n",
    "    words = line.strip().split()\n",
    "    \n",
    "    if not all(map(lambda x:x in ordered_t_index, words[:3])):\n",
    "        return line, \"none\", 0.0\n",
    "    \n",
    "    vector = vectors[ordered_t_index[words[1]]] - vectors[ordered_t_index[words[0]]] + vectors[ordered_t_index[words[2]]]\n",
    "    most_sim_word, dist = similary_n_words_by_ch9_vector(vector, n=1)[0]\n",
    "\n",
    "    return (line, most_sim_word, dist)"
   ]
  },
  {
   "cell_type": "code",
   "execution_count": 24,
   "metadata": {},
   "outputs": [
    {
     "name": "stderr",
     "output_type": "stream",
     "text": [
      "[Parallel(n_jobs=-1)]: Using backend ThreadingBackend with 2 concurrent workers.\n",
      "/usr/local/lib/python3.7/site-packages/scipy/spatial/distance.py:720: RuntimeWarning: invalid value encountered in double_scalars\n",
      "  dist = 1.0 - uv / np.sqrt(uu * vv)\n",
      "[Parallel(n_jobs=-1)]: Done  28 tasks      | elapsed:  9.8min\n",
      "[Parallel(n_jobs=-1)]: Done 124 tasks      | elapsed: 52.1min\n",
      "[Parallel(n_jobs=-1)]: Done 284 tasks      | elapsed: 94.0min\n",
      "[Parallel(n_jobs=-1)]: Done 506 out of 506 | elapsed: 166.4min finished\n"
     ]
    }
   ],
   "source": [
    "results = Parallel(n_jobs=-1, backend=\"threading\", verbose=3)([\n",
    "    delayed(_get_most_sim_word)\n",
    "    (line)\n",
    "    for line in family_lines\n",
    "])\n",
    "\n",
    "s = \"\\n\".join([\"%s %s %f\" % (line.strip(), most_sim_word, dist) for line, most_sim_word, dist in results])"
   ]
  },
  {
   "cell_type": "code",
   "execution_count": 25,
   "metadata": {},
   "outputs": [],
   "source": [
    "with open(\"questions-words-family-with-ch9-predict.txt\", mode=\"w\") as f:\n",
    "        f.write(s)"
   ]
  },
  {
   "cell_type": "code",
   "execution_count": 26,
   "metadata": {},
   "outputs": [],
   "source": [
    "results = []\n",
    "\n",
    "for line in family_lines:\n",
    "    words = line.strip().split()\n",
    "    vector = model[words[1]] - model[words[0]] + model[words[2]]\n",
    "    most_sim_word, dist = similary_n_words_by_word2vec_vector(vector, n=1)[0]\n",
    "    results.append((line.strip(), most_sim_word, dist))\n",
    "\n",
    "s = \"\\n\".join([\"%s %s %f\" % (line.strip(), most_sim_word, dist) for line, most_sim_word, dist in results])"
   ]
  },
  {
   "cell_type": "code",
   "execution_count": 27,
   "metadata": {},
   "outputs": [],
   "source": [
    "with open(\"questions-words-family-with-word2vec-predict.txt\", mode=\"w\") as f:\n",
    "        f.write(s)"
   ]
  },
  {
   "cell_type": "markdown",
   "metadata": {},
   "source": [
    "## 93. アナロジータスクの正解率の計算\n",
    "92で作ったデータを用い，各モデルのアナロジータスクの正解率を求めよ．"
   ]
  },
  {
   "cell_type": "code",
   "execution_count": 28,
   "metadata": {},
   "outputs": [],
   "source": [
    "def evaluate_precision(lines):\n",
    "    acc = 0.0\n",
    "\n",
    "    for line in lines:\n",
    "        words = line.split()\n",
    "        if words[3] == words[4]:\n",
    "            acc += 1\n",
    "\n",
    "    acc /= len(lines)\n",
    "    return acc"
   ]
  },
  {
   "cell_type": "code",
   "execution_count": 29,
   "metadata": {},
   "outputs": [
    {
     "data": {
      "text/plain": [
       "0.003952569169960474"
      ]
     },
     "execution_count": 29,
     "metadata": {},
     "output_type": "execute_result"
    }
   ],
   "source": [
    "with open(\"questions-words-family-with-ch9-predict.txt\", mode=\"r\") as f:\n",
    "    family_lines = f.readlines()\n",
    "\n",
    "evaluate_precision(family_lines)"
   ]
  },
  {
   "cell_type": "code",
   "execution_count": 30,
   "metadata": {},
   "outputs": [
    {
     "data": {
      "text/plain": [
       "0.34980237154150196"
      ]
     },
     "execution_count": 30,
     "metadata": {},
     "output_type": "execute_result"
    }
   ],
   "source": [
    "with open(\"questions-words-family-with-word2vec-predict.txt\", mode=\"r\") as f:\n",
    "    family_lines = f.readlines()\n",
    "\n",
    "evaluate_precision(family_lines)"
   ]
  },
  {
   "cell_type": "markdown",
   "metadata": {},
   "source": [
    "## 94. WordSimilarity-353での類似度計算\n",
    "[The WordSimilarity-353 Test Collection](http://www.cs.technion.ac.il/~gabr/resources/data/wordsim353/)の評価データを入力とし，1列目と2列目の単語の類似度を計算し，各行の末尾に類似度の値を追加するプログラムを作成せよ．このプログラムを85で作成した単語ベクトル，90で作成した単語ベクトルに対して適用せよ．"
   ]
  },
  {
   "cell_type": "code",
   "execution_count": 31,
   "metadata": {},
   "outputs": [
    {
     "name": "stdout",
     "output_type": "stream",
     "text": [
      "  % Total    % Received % Xferd  Average Speed   Time    Time     Time  Current\n",
      "                                 Dload  Upload   Total   Spent    Left  Speed\n",
      "100 23257  100 23257    0     0   4590      0  0:00:05  0:00:05 --:--:--  4839\n",
      "Archive:  wordsim353.zip\n",
      "  inflating: wordsim353/combined.csv  \n",
      "  inflating: wordsim353/set1.csv     \n",
      "  inflating: wordsim353/set2.csv     \n",
      "  inflating: wordsim353/combined.tab  \n",
      "  inflating: wordsim353/set1.tab     \n",
      "  inflating: wordsim353/set2.tab     \n",
      "  inflating: wordsim353/instructions.txt  \n"
     ]
    }
   ],
   "source": [
    "! curl -o wordsim353.zip http://www.cs.technion.ac.il/~gabr/resources/data/wordsim353/wordsim353.zip \\\n",
    "    && unzip wordsim353.zip -d wordsim353 \\\n",
    "    && mv wordsim353/combined.csv ./ \\\n",
    "    && rm -rf wordsim353 \\\n",
    "    && rm -f wordsim353.zip"
   ]
  },
  {
   "cell_type": "code",
   "execution_count": 32,
   "metadata": {},
   "outputs": [],
   "source": [
    "with open(\"combined.csv\", mode=\"r\") as f:\n",
    "    lines = f.readlines()"
   ]
  },
  {
   "cell_type": "code",
   "execution_count": 33,
   "metadata": {},
   "outputs": [],
   "source": [
    "from scipy.spatial.distance import cosine"
   ]
  },
  {
   "cell_type": "code",
   "execution_count": 34,
   "metadata": {},
   "outputs": [],
   "source": [
    "def cosine_sim(v1, v2):\n",
    "    return max(1- cosine(v1, v2), 0)"
   ]
  },
  {
   "cell_type": "code",
   "execution_count": 35,
   "metadata": {},
   "outputs": [],
   "source": [
    "def _cosine_sim_between_words(line):\n",
    "    words = line.strip().split(\",\")\n",
    "    \n",
    "    if not all(map(lambda x:x in ordered_t_index, words[:2])):\n",
    "        return (line, 0.0)\n",
    "    \n",
    "    vector1 = vectors[ordered_t_index[words[0]]]\n",
    "    vector2 = vectors[ordered_t_index[words[1]]]\n",
    "    dist = cosine_sim(vector1, vector2)\n",
    "    \n",
    "    if dist != dist:\n",
    "        dist = 0.0\n",
    "    \n",
    "    return (line, dist)"
   ]
  },
  {
   "cell_type": "code",
   "execution_count": 36,
   "metadata": {},
   "outputs": [
    {
     "name": "stderr",
     "output_type": "stream",
     "text": [
      "[Parallel(n_jobs=-1)]: Using backend ThreadingBackend with 2 concurrent workers.\n",
      "[Parallel(n_jobs=-1)]: Done  28 tasks      | elapsed:    0.0s\n",
      "[Parallel(n_jobs=-1)]: Done 124 tasks      | elapsed:    0.1s\n",
      "[Parallel(n_jobs=-1)]: Done 284 tasks      | elapsed:    0.1s\n",
      "[Parallel(n_jobs=-1)]: Done 354 out of 354 | elapsed:    0.1s finished\n"
     ]
    }
   ],
   "source": [
    "results = Parallel(n_jobs=-1, backend=\"threading\", verbose=3)([\n",
    "    delayed(_cosine_sim_between_words)\n",
    "    (line)\n",
    "    for line in lines\n",
    "])\n",
    "\n",
    "s = \"\\n\".join([\"%s,%f\" % (line.strip(), dist) for line, dist in results])"
   ]
  },
  {
   "cell_type": "code",
   "execution_count": 37,
   "metadata": {},
   "outputs": [],
   "source": [
    "with open(\"combined-ch9-predict.csv\", mode=\"w\") as f:\n",
    "        f.write(s)"
   ]
  },
  {
   "cell_type": "code",
   "execution_count": 38,
   "metadata": {},
   "outputs": [],
   "source": [
    "results = []\n",
    "\n",
    "for line in lines:\n",
    "    words = line.strip().split(\",\")\n",
    "    \n",
    "    if not all(map(lambda x:x in model, words[:2])):\n",
    "        results.append((line.strip(), 0.0))\n",
    "        continue\n",
    "    \n",
    "    vector1 = model[words[0]]\n",
    "    vector2 = model[words[1]]\n",
    "    dist = cosine_sim(vector1, vector2)\n",
    "    results.append((line.strip(), dist))\n",
    "\n",
    "s = \"\\n\".join([\"%s,%f\" % (line.strip(), dist) for line, dist in results])"
   ]
  },
  {
   "cell_type": "code",
   "execution_count": 39,
   "metadata": {},
   "outputs": [],
   "source": [
    "with open(\"combined-word2vec-predict.csv\", mode=\"w\") as f:\n",
    "        f.write(s)"
   ]
  },
  {
   "cell_type": "markdown",
   "metadata": {},
   "source": [
    "## 95. WordSimilarity-353での評価\n",
    "94で作ったデータを用い，各モデルが出力する類似度のランキングと，人間の類似度判定のランキングの間のスピアマン相関係数を計算せよ．"
   ]
  },
  {
   "cell_type": "code",
   "execution_count": 40,
   "metadata": {},
   "outputs": [],
   "source": [
    "from scipy.stats import spearmanr"
   ]
  },
  {
   "cell_type": "code",
   "execution_count": 41,
   "metadata": {},
   "outputs": [],
   "source": [
    "def evaluate_spearman(correct, predict):\n",
    "    correlation, pvalue = spearmanr(correct, predict)\n",
    "    return correlation"
   ]
  },
  {
   "cell_type": "code",
   "execution_count": 42,
   "metadata": {},
   "outputs": [],
   "source": [
    "with open(\"combined-ch9-predict.csv\", mode=\"r\") as f:\n",
    "    lines = f.readlines()"
   ]
  },
  {
   "cell_type": "code",
   "execution_count": 43,
   "metadata": {},
   "outputs": [
    {
     "data": {
      "text/plain": [
       "0.21162000283408422"
      ]
     },
     "execution_count": 43,
     "metadata": {},
     "output_type": "execute_result"
    }
   ],
   "source": [
    "correct = []\n",
    "predict = []\n",
    "\n",
    "for line in lines[1:]:\n",
    "    words = line.strip().split(\",\")\n",
    "    correct.append(float(words[2]))\n",
    "    predict.append(float(words[3]))\n",
    "    \n",
    "evaluate_spearman(correct, predict)"
   ]
  },
  {
   "cell_type": "code",
   "execution_count": 44,
   "metadata": {},
   "outputs": [],
   "source": [
    "with open(\"combined-word2vec-predict.csv\", mode=\"r\") as f:\n",
    "    lines = f.readlines()"
   ]
  },
  {
   "cell_type": "code",
   "execution_count": 45,
   "metadata": {},
   "outputs": [
    {
     "data": {
      "text/plain": [
       "0.7000336108937079"
      ]
     },
     "execution_count": 45,
     "metadata": {},
     "output_type": "execute_result"
    }
   ],
   "source": [
    "correct = []\n",
    "predict = []\n",
    "\n",
    "for line in lines[1:]:\n",
    "    words = line.strip().split(\",\")\n",
    "    correct.append(float(words[2]))\n",
    "    predict.append(float(words[3]))\n",
    "    \n",
    "evaluate_spearman(correct, predict)"
   ]
  },
  {
   "cell_type": "markdown",
   "metadata": {},
   "source": [
    "## 96. 国名に関するベクトルの抽出\n",
    "word2vecの学習結果から，国名に関するベクトルのみを抜き出せ．"
   ]
  },
  {
   "cell_type": "code",
   "execution_count": 46,
   "metadata": {},
   "outputs": [],
   "source": [
    "import pandas as pd"
   ]
  },
  {
   "cell_type": "code",
   "execution_count": 47,
   "metadata": {},
   "outputs": [],
   "source": [
    "df = pd.read_csv(\"english_country_name.csv\")"
   ]
  },
  {
   "cell_type": "code",
   "execution_count": 48,
   "metadata": {},
   "outputs": [
    {
     "data": {
      "text/plain": [
       "{'C.H',\n",
       " 'MUS',\n",
       " 'Nepal',\n",
       " 'KGZ',\n",
       " 'N.R',\n",
       " 'Christmas Island',\n",
       " 'A.U.S',\n",
       " 'Marshall Islands',\n",
       " 'Timor-Leste',\n",
       " 'SLV',\n",
       " 'PW',\n",
       " 'FO',\n",
       " 'MNG',\n",
       " 'B.L',\n",
       " 'L.U',\n",
       " 'V.E',\n",
       " 'W.L.F',\n",
       " 'P.S.E',\n",
       " 'CA',\n",
       " 'TR',\n",
       " 'TUV',\n",
       " 'B.G.D',\n",
       " 'M.Y.S',\n",
       " 'MYT',\n",
       " 'DJ',\n",
       " 'P.F',\n",
       " 'PT',\n",
       " 'GBR',\n",
       " 'TO',\n",
       " 'D.E',\n",
       " 'A.W',\n",
       " 'Bonaire Saint Eustatius and Saba',\n",
       " 'Congo',\n",
       " 'BQ',\n",
       " 'G.U.F',\n",
       " 'N.P',\n",
       " 'SVK',\n",
       " 'Cambodia',\n",
       " 'U.G',\n",
       " 'FJI',\n",
       " 'K.A.Z',\n",
       " 'Sierra Leone',\n",
       " 'VAT',\n",
       " 'M.M',\n",
       " 'CYP',\n",
       " 'NIU',\n",
       " 'MSR',\n",
       " 'C.P.V',\n",
       " 'Paraguay',\n",
       " 'F.L.K',\n",
       " 'Guernsey',\n",
       " 'D.E.U',\n",
       " 'M.L.T',\n",
       " 'KI',\n",
       " 'Kiribati',\n",
       " 'India',\n",
       " 'H.R',\n",
       " 'WSM',\n",
       " 'EST',\n",
       " 'Guyana',\n",
       " 'Martinique',\n",
       " 'B.E.L',\n",
       " 'H.M',\n",
       " 'AE',\n",
       " 'CZE',\n",
       " 'Namibia',\n",
       " 'C.O.D',\n",
       " 'China',\n",
       " 'G.Y',\n",
       " 'GUY',\n",
       " 'Singapore',\n",
       " 'ERI',\n",
       " 'CYM',\n",
       " 'T.H',\n",
       " 'J.O',\n",
       " 'G.N',\n",
       " 'I.T.A',\n",
       " 'C.U.W',\n",
       " 'I.E',\n",
       " 'M.U',\n",
       " 'PLW',\n",
       " 'SH',\n",
       " 'A.S',\n",
       " 'MN',\n",
       " 'A.L.A',\n",
       " 'PCN',\n",
       " 'CR',\n",
       " 'A.T.G',\n",
       " 'T.T',\n",
       " 'P.K',\n",
       " 'L.K.A',\n",
       " 'Azerbaijan',\n",
       " 'KIR',\n",
       " 'Wallis and Futuna',\n",
       " 'VE',\n",
       " 'EC',\n",
       " 'T.J',\n",
       " 'M.N.E',\n",
       " 'Brunei Darussalam',\n",
       " 'AM',\n",
       " 'Finland',\n",
       " 'UG',\n",
       " 'PH',\n",
       " 'N.C.L',\n",
       " 'V.N',\n",
       " 'KWT',\n",
       " 'DNK',\n",
       " 'P.E.R',\n",
       " 'Morocco',\n",
       " 'EG',\n",
       " 'Saint Barthélemy',\n",
       " 'Saint Lucia',\n",
       " 'Moldova Republic of',\n",
       " 'P.N.G',\n",
       " 'G.H',\n",
       " 'France',\n",
       " 'C.V',\n",
       " 'J.E.Y',\n",
       " 'K.G',\n",
       " 'M.H',\n",
       " 'B.R.B',\n",
       " 'Nigeria',\n",
       " 'SAU',\n",
       " 'P.R.K',\n",
       " 'HM',\n",
       " 'MR',\n",
       " 'BEN',\n",
       " 'LVA',\n",
       " 'GIB',\n",
       " 'Solomon Islands',\n",
       " 'S.N',\n",
       " 'BTN',\n",
       " 'W.F',\n",
       " 'MU',\n",
       " 'GE',\n",
       " 'SO',\n",
       " 'MV',\n",
       " 'S.W.E',\n",
       " 'Chad',\n",
       " 'I.R.Q',\n",
       " 'QA',\n",
       " 'M.D.A',\n",
       " 'L.R',\n",
       " 'AF',\n",
       " 'Kuwait',\n",
       " 'Netherlands',\n",
       " 'Germany',\n",
       " 'COL',\n",
       " 'Liechtenstein',\n",
       " 'Somalia',\n",
       " 'SYC',\n",
       " 'B.F',\n",
       " 'BGD',\n",
       " 'M.R',\n",
       " 'B.V',\n",
       " 'B.Z',\n",
       " 'South Africa',\n",
       " 'Puerto Rico',\n",
       " 'M.G',\n",
       " 'FLK',\n",
       " 'PF',\n",
       " 'SV',\n",
       " 'Eritrea',\n",
       " 'D.O',\n",
       " 'AU',\n",
       " 'S.T.P',\n",
       " 'E.E',\n",
       " 'Curaçao',\n",
       " 'S.D',\n",
       " 'H.N',\n",
       " 'IE',\n",
       " 'H.K',\n",
       " 'Z.A',\n",
       " 'SMR',\n",
       " 'P.L.W',\n",
       " 'B.S',\n",
       " 'TN',\n",
       " 'J.P',\n",
       " 'C.F',\n",
       " 'L.K',\n",
       " 'S.X',\n",
       " 'BB',\n",
       " 'OMN',\n",
       " 'M.O.Z',\n",
       " 'YT',\n",
       " 'JAM',\n",
       " 'TCA',\n",
       " 'RE',\n",
       " 'M.D.G',\n",
       " 'A.R.G',\n",
       " 'SD',\n",
       " 'E.C',\n",
       " 'T.C.D',\n",
       " 'VIR',\n",
       " 'KR',\n",
       " 'AT',\n",
       " 'PR',\n",
       " 'I.S',\n",
       " 'GB',\n",
       " 'E.G.Y',\n",
       " 'MDG',\n",
       " 'Luxembourg',\n",
       " 'A.R.M',\n",
       " 'ARE',\n",
       " 'Latvia',\n",
       " 'N.U',\n",
       " 'Niger',\n",
       " 'K.E',\n",
       " 'T.W.N',\n",
       " 'Angola',\n",
       " 'A.Q',\n",
       " 'AG',\n",
       " 'MAF',\n",
       " 'F.K',\n",
       " 'C.H.L',\n",
       " 'VCT',\n",
       " 'GTM',\n",
       " 'U.M.I',\n",
       " 'BEL',\n",
       " 'T.K',\n",
       " 'J.E',\n",
       " 'R.W.A',\n",
       " 'PSE',\n",
       " 'SR',\n",
       " 'San Marino',\n",
       " 'Palestinian Territory Occupied',\n",
       " 'V.U.T',\n",
       " 'Tuvalu',\n",
       " 'S.L.V',\n",
       " 'S.L.B',\n",
       " 'ATA',\n",
       " 'Sweden',\n",
       " 'French Polynesia',\n",
       " 'LTU',\n",
       " 'G.P',\n",
       " 'UKR',\n",
       " 'ALB',\n",
       " 'IQ',\n",
       " 'FIN',\n",
       " 'BL',\n",
       " 'Andorra',\n",
       " 'TKL',\n",
       " 'Saint Kitts and Nevis',\n",
       " 'BHR',\n",
       " 'Qatar',\n",
       " 'BA',\n",
       " 'S.P.M',\n",
       " 'S.O',\n",
       " 'JO',\n",
       " 'New Zealand',\n",
       " 'Albania',\n",
       " 'N.G',\n",
       " 'S.O.M',\n",
       " 'Turkmenistan',\n",
       " 'SVN',\n",
       " 'MC',\n",
       " 'AX',\n",
       " 'TM',\n",
       " 'Tonga',\n",
       " 'KP',\n",
       " 'TKM',\n",
       " 'T.V',\n",
       " 'Virgin Islands U.S',\n",
       " 'TH',\n",
       " 'T.U.N',\n",
       " 'G.R.L',\n",
       " 'BES',\n",
       " 'M.A',\n",
       " 'L.B.N',\n",
       " 'B.D.I',\n",
       " 'V.C',\n",
       " 'Bermuda',\n",
       " 'Panama',\n",
       " 'ATG',\n",
       " 'TD',\n",
       " 'MHL',\n",
       " 'A.G.O',\n",
       " 'P.R.T',\n",
       " 'Libya',\n",
       " 'Aruba',\n",
       " \"Côte d'Ivoire\",\n",
       " 'B.L.Z',\n",
       " 'United States Minor Outlying Islands',\n",
       " 'BG',\n",
       " 'ME',\n",
       " 'MS',\n",
       " 'CPV',\n",
       " 'Zimbabwe',\n",
       " 'Svalbard and Jan Mayen',\n",
       " 'Antarctica',\n",
       " 'IRL',\n",
       " 'MNE',\n",
       " 'BM',\n",
       " 'GP',\n",
       " 'BLR',\n",
       " 'HR',\n",
       " 'Papua New Guinea',\n",
       " 'A.F.G',\n",
       " 'LA',\n",
       " 'El Salvador',\n",
       " 'CW',\n",
       " 'T.H.A',\n",
       " 'Mexico',\n",
       " 'VG',\n",
       " 'I.N',\n",
       " 'GS',\n",
       " 'MM',\n",
       " 'Kenya',\n",
       " 'GT',\n",
       " 'Zambia',\n",
       " 'ISR',\n",
       " 'FSM',\n",
       " 'C.I.V',\n",
       " 'L.B.Y',\n",
       " 'Lithuania',\n",
       " 'IT',\n",
       " 'S.E.N',\n",
       " 'Burkina Faso',\n",
       " 'BHS',\n",
       " 'Senegal',\n",
       " 'K.N.A',\n",
       " 'L.T.U',\n",
       " 'Macedonia the former Yugoslav Republic of',\n",
       " 'G.R',\n",
       " 'Mauritania',\n",
       " 'G.A.B',\n",
       " 'B.H.R',\n",
       " 'French Southern Territories',\n",
       " 'MRT',\n",
       " 'TTO',\n",
       " 'C.O.L',\n",
       " 'C.D',\n",
       " 'PNG',\n",
       " 'ST',\n",
       " 'M.S.R',\n",
       " 'BLM',\n",
       " 'T.C',\n",
       " 'K.H',\n",
       " 'N.F',\n",
       " 'M.A.R',\n",
       " 'LT',\n",
       " 'Western Sahara',\n",
       " 'T.L.S',\n",
       " 'T.Z',\n",
       " 'MD',\n",
       " 'Turkey',\n",
       " 'NGA',\n",
       " 'Ethiopia',\n",
       " 'ABW',\n",
       " 'GUF',\n",
       " 'G.I.B',\n",
       " 'ESP',\n",
       " 'Tokelau',\n",
       " 'British Indian Ocean Territory',\n",
       " 'Swaziland',\n",
       " 'Z.M',\n",
       " 'EH',\n",
       " 'AQ',\n",
       " 'BS',\n",
       " 'MAR',\n",
       " 'M.W',\n",
       " 'DO',\n",
       " 'A.Z.E',\n",
       " 'Ghana',\n",
       " 'T.D',\n",
       " 'Jamaica',\n",
       " 'M.Y',\n",
       " 'C.I',\n",
       " 'C.N',\n",
       " 'B.L.R',\n",
       " 'B.I',\n",
       " 'CX',\n",
       " 'G.L',\n",
       " 'Canada',\n",
       " 'L.I.E',\n",
       " 'I.R.N',\n",
       " 'Serbia',\n",
       " 'N.E.R',\n",
       " 'LCA',\n",
       " 'TUN',\n",
       " 'Guadeloupe',\n",
       " 'SE',\n",
       " 'A.Z',\n",
       " 'MYS',\n",
       " 'B.W.A',\n",
       " 'DMA',\n",
       " 'NOR',\n",
       " 'N.L',\n",
       " 'GD',\n",
       " 'E.S.P',\n",
       " 'T.M',\n",
       " 'AIA',\n",
       " 'GRD',\n",
       " 'M.Z',\n",
       " 'CY',\n",
       " 'S.X.M',\n",
       " 'E.C.U',\n",
       " 'Botswana',\n",
       " 'S.R.B',\n",
       " 'P.O.L',\n",
       " 'DEU',\n",
       " 'G.R.C',\n",
       " 'BE',\n",
       " 'Ireland',\n",
       " 'M.K.D',\n",
       " 'AZE',\n",
       " 'IM',\n",
       " 'B.D',\n",
       " 'Palau',\n",
       " 'N.R.U',\n",
       " 'O.M',\n",
       " 'Myanmar',\n",
       " 'K.P',\n",
       " 'TZA',\n",
       " 'B.O.L',\n",
       " 'Tanzania United Republic of',\n",
       " 'ID',\n",
       " 'S.J',\n",
       " 'V.I.R',\n",
       " 'PE',\n",
       " 'MZ',\n",
       " 'L.C.A',\n",
       " 'BFA',\n",
       " 'Armenia',\n",
       " 'TJK',\n",
       " 'Liberia',\n",
       " 'ALA',\n",
       " 'Cayman Islands',\n",
       " 'KAZ',\n",
       " 'MDV',\n",
       " 'Norfolk Island',\n",
       " 'G.S',\n",
       " 'A.B.W',\n",
       " 'NCL',\n",
       " 'HU',\n",
       " 'Algeria',\n",
       " 'R.E.U',\n",
       " 'Saint Helena Ascension and Tristan da Cunha',\n",
       " 'N.I.C',\n",
       " 'GI',\n",
       " 'ZM',\n",
       " 'I.Q',\n",
       " 'CZ',\n",
       " 'C.L',\n",
       " 'P.S',\n",
       " 'S.M.R',\n",
       " 'H.U',\n",
       " 'CL',\n",
       " 'Congo the Democratic Republic of the',\n",
       " 'BZ',\n",
       " 'K.M',\n",
       " 'BIH',\n",
       " 'BR',\n",
       " 'V.E.N',\n",
       " 'E.T.H',\n",
       " 'P.W',\n",
       " 'NAM',\n",
       " 'D.J.I',\n",
       " 'K.E.N',\n",
       " 'EGY',\n",
       " 'A.U',\n",
       " 'Korea Republic of',\n",
       " 'QAT',\n",
       " 'K.Z',\n",
       " 'B.O',\n",
       " 'P.A.N',\n",
       " 'Poland',\n",
       " 'G.G.Y',\n",
       " 'M.A.C',\n",
       " 'C.R',\n",
       " 'A.G',\n",
       " 'T.O.N',\n",
       " 'N.C',\n",
       " 'Bosnia and Herzegovina',\n",
       " 'United Arab Emirates',\n",
       " 'T.R',\n",
       " 'RS',\n",
       " 'BN',\n",
       " 'SEN',\n",
       " 'Ecuador',\n",
       " 'B.G',\n",
       " 'Croatia',\n",
       " 'BGR',\n",
       " 'COM',\n",
       " 'SLB',\n",
       " 'TJ',\n",
       " 'G.F',\n",
       " 'A.T.F',\n",
       " 'Dominica',\n",
       " 'R.W',\n",
       " 'F.J',\n",
       " 'B.E.S',\n",
       " 'YEM',\n",
       " 'South Georgia and the South Sandwich Islands',\n",
       " 'C.M.R',\n",
       " 'PL',\n",
       " 'M.R.T',\n",
       " 'CHE',\n",
       " 'R.E',\n",
       " 'LI',\n",
       " 'TL',\n",
       " 'Jersey',\n",
       " 'PRY',\n",
       " 'TUR',\n",
       " 'Cocos Keeling Islands',\n",
       " 'I.O',\n",
       " 'Sri Lanka',\n",
       " 'M.A.F',\n",
       " 'S.V',\n",
       " 'SY',\n",
       " 'Peru',\n",
       " 'Guatemala',\n",
       " 'SDN',\n",
       " 'TLS',\n",
       " 'Malawi',\n",
       " 'DJI',\n",
       " 'M.S',\n",
       " 'H.R.V',\n",
       " 'Mongolia',\n",
       " 'CRI',\n",
       " 'PYF',\n",
       " 'GGY',\n",
       " 'Z.M.B',\n",
       " 'Anguilla',\n",
       " 'K.Y',\n",
       " 'FJ',\n",
       " 'A.F',\n",
       " 'T.Z.A',\n",
       " 'G.T',\n",
       " 'S.B',\n",
       " 'NER',\n",
       " 'Jordan',\n",
       " 'D.M.A',\n",
       " 'UZB',\n",
       " 'C.G',\n",
       " 'P.R.Y',\n",
       " 'N.Z',\n",
       " 'K.I',\n",
       " 'Burundi',\n",
       " 'BV',\n",
       " 'Benin',\n",
       " 'GA',\n",
       " 'N.I',\n",
       " 'Romania',\n",
       " 'Q.A',\n",
       " 'VGB',\n",
       " 'U.A',\n",
       " 'A.T',\n",
       " 'N.E',\n",
       " 'AL',\n",
       " 'F.M',\n",
       " 'Belarus',\n",
       " 'Montserrat',\n",
       " 'ISL',\n",
       " 'K.N',\n",
       " 'Austria',\n",
       " 'ASM',\n",
       " 'P.Y',\n",
       " 'IDN',\n",
       " 'MT',\n",
       " 'LY',\n",
       " 'Guinea',\n",
       " 'SC',\n",
       " 'CCK',\n",
       " 'S.U.R',\n",
       " 'ML',\n",
       " 'I.R',\n",
       " 'M.P',\n",
       " 'G.M',\n",
       " 'J.O.R',\n",
       " 'B.T',\n",
       " 'Comoros',\n",
       " 'J.M',\n",
       " 'THA',\n",
       " 'C.C.K',\n",
       " 'N.F.K',\n",
       " 'PY',\n",
       " 'MO',\n",
       " 'A.X',\n",
       " 'Isle of Man',\n",
       " 'French Guiana',\n",
       " 'B.I.H',\n",
       " 'S.M',\n",
       " 'PG',\n",
       " 'Syrian Arab Republic',\n",
       " 'D.K',\n",
       " 'FK',\n",
       " 'MW',\n",
       " 'Cameroon',\n",
       " 'B.H.S',\n",
       " 'M.Y.T',\n",
       " 'GH',\n",
       " 'Philippines',\n",
       " 'CD',\n",
       " 'V.A.T',\n",
       " 'BO',\n",
       " 'I.M',\n",
       " 'T.N',\n",
       " 'T.T.O',\n",
       " 'Y.E',\n",
       " 'IO',\n",
       " 'CF',\n",
       " 'Bahamas',\n",
       " 'NL',\n",
       " 'HRV',\n",
       " 'Tajikistan',\n",
       " 'AND',\n",
       " 'S.A.U',\n",
       " 'T.L',\n",
       " 'M.K',\n",
       " 'MX',\n",
       " 'B.F.A',\n",
       " 'P.L',\n",
       " 'S.L',\n",
       " 'HMD',\n",
       " 'T.U.V',\n",
       " 'L.C',\n",
       " 'L.S.O',\n",
       " 'OM',\n",
       " 'VI',\n",
       " 'G.N.Q',\n",
       " 'Antigua and Barbuda',\n",
       " 'H.T',\n",
       " 'F.S.M',\n",
       " 'BRA',\n",
       " 'T.W',\n",
       " 'A.N.D',\n",
       " 'SSD',\n",
       " 'NI',\n",
       " 'D.M',\n",
       " 'UGA',\n",
       " 'Seychelles',\n",
       " 'RUS',\n",
       " 'B.J',\n",
       " 'M.L.I',\n",
       " 'Kazakhstan',\n",
       " 'UMI',\n",
       " 'KM',\n",
       " 'GR',\n",
       " 'S.Y.C',\n",
       " 'CI',\n",
       " 'S.D.N',\n",
       " 'SPM',\n",
       " 'M.W.I',\n",
       " 'KH',\n",
       " 'Fiji',\n",
       " 'VU',\n",
       " 'LR',\n",
       " 'V.I',\n",
       " 'TC',\n",
       " 'C.R.I',\n",
       " 'CXR',\n",
       " 'S.I',\n",
       " 'Sudan',\n",
       " 'Brazil',\n",
       " 'P.C.N',\n",
       " 'E.S.H',\n",
       " 'BI',\n",
       " 'Sao Tome and Principe',\n",
       " 'L.Y',\n",
       " 'MKD',\n",
       " 'B.G.R',\n",
       " 'LBY',\n",
       " 'TW',\n",
       " 'T.F',\n",
       " 'DOM',\n",
       " 'E.T',\n",
       " 'CMR',\n",
       " 'F.R.A',\n",
       " 'SJM',\n",
       " 'WF',\n",
       " 'V.U',\n",
       " 'FM',\n",
       " 'POL',\n",
       " 'M.N.P',\n",
       " 'S.J.M',\n",
       " 'NZL',\n",
       " \"Lao People's Democratic Republic\",\n",
       " 'LK',\n",
       " 'NFK',\n",
       " 'SN',\n",
       " 'G.D',\n",
       " 'I.T',\n",
       " 'GNB',\n",
       " 'SWZ',\n",
       " 'V.C.T',\n",
       " 'Norway',\n",
       " 'PER',\n",
       " 'LUX',\n",
       " 'BY',\n",
       " 'SM',\n",
       " 'S.V.K',\n",
       " 'ZAF',\n",
       " 'AUS',\n",
       " 'A.D',\n",
       " 'KN',\n",
       " 'V.G.B',\n",
       " 'MQ',\n",
       " 'MTQ',\n",
       " 'RWA',\n",
       " 'MDA',\n",
       " 'CU',\n",
       " 'KEN',\n",
       " 'C.H.E',\n",
       " 'CG',\n",
       " 'Guam',\n",
       " 'Pakistan',\n",
       " 'S.G.P',\n",
       " 'Bhutan',\n",
       " 'BD',\n",
       " 'M.E',\n",
       " 'TON',\n",
       " 'G.L.P',\n",
       " 'CK',\n",
       " 'M.V',\n",
       " 'Samoa',\n",
       " 'UM',\n",
       " 'UY',\n",
       " 'CO',\n",
       " 'K.H.M',\n",
       " 'BT',\n",
       " 'Australia',\n",
       " 'E.H',\n",
       " 'ATF',\n",
       " 'LKA',\n",
       " 'MOZ',\n",
       " 'GN',\n",
       " 'HK',\n",
       " 'T.J.K',\n",
       " 'Hong Kong',\n",
       " 'SRB',\n",
       " 'A.I.A',\n",
       " 'K.W',\n",
       " 'P.A',\n",
       " 'GMB',\n",
       " 'C.K',\n",
       " 'E.S',\n",
       " 'T.G.O',\n",
       " 'Maldives',\n",
       " 'ARG',\n",
       " 'NIC',\n",
       " 'N.Z.L',\n",
       " 'COG',\n",
       " 'Åland Islands',\n",
       " 'S.R',\n",
       " 'UZ',\n",
       " 'TGO',\n",
       " 'KW',\n",
       " 'HTI',\n",
       " 'Saint Vincent and the Grenadines',\n",
       " 'IN',\n",
       " 'Cape Verde',\n",
       " 'TV',\n",
       " 'N.G.A',\n",
       " 'GQ',\n",
       " 'LAO',\n",
       " 'NG',\n",
       " 'IRQ',\n",
       " 'CHL',\n",
       " 'NR',\n",
       " 'IR',\n",
       " 'JP',\n",
       " 'Virgin Islands British',\n",
       " 'T.C.A',\n",
       " 'G.E',\n",
       " 'SS',\n",
       " 'Holy See Vatican City State',\n",
       " 'TCD',\n",
       " 'GIN',\n",
       " 'Saint Martin French part',\n",
       " 'BRB',\n",
       " 'FRO',\n",
       " 'PAN',\n",
       " 'L.V.A',\n",
       " 'L.V',\n",
       " 'Uganda',\n",
       " 'SK',\n",
       " 'I.O.T',\n",
       " 'ET',\n",
       " 'DZA',\n",
       " 'CIV',\n",
       " 'L.A',\n",
       " 'A.I',\n",
       " 'GLP',\n",
       " 'NLD',\n",
       " 'F.R.O',\n",
       " 'K.O.R',\n",
       " 'F.I',\n",
       " 'Hungary',\n",
       " 'H.K.G',\n",
       " 'B.L.M',\n",
       " 'ZW',\n",
       " 'STP',\n",
       " 'A.T.A',\n",
       " 'Belgium',\n",
       " 'C.A.N',\n",
       " 'T.G',\n",
       " 'P.H.L',\n",
       " 'SXM',\n",
       " 'M.Q',\n",
       " 'Cook Islands',\n",
       " 'B.V.T',\n",
       " 'G.H.A',\n",
       " 'LV',\n",
       " 'GU',\n",
       " 'N.P.L',\n",
       " 'P.T',\n",
       " 'MLT',\n",
       " 'Grenada',\n",
       " 'SGS',\n",
       " 'EE',\n",
       " 'B.A',\n",
       " 'Bangladesh',\n",
       " 'Sint Maarten Dutch part',\n",
       " 'HUN',\n",
       " 'TG',\n",
       " 'A.U.T',\n",
       " 'Mauritius',\n",
       " 'NC',\n",
       " 'AR',\n",
       " 'N.O',\n",
       " 'DK',\n",
       " 'A.O',\n",
       " 'LU',\n",
       " 'G.B.R',\n",
       " 'NZ',\n",
       " 'G.T.M',\n",
       " 'D.N.K',\n",
       " 'J.P.N',\n",
       " 'ITA',\n",
       " 'Z.W',\n",
       " 'AUT',\n",
       " 'Thailand',\n",
       " 'S.H',\n",
       " 'LIE',\n",
       " 'T.O',\n",
       " 'Czech Republic',\n",
       " 'Cyprus',\n",
       " 'Z.A.F',\n",
       " 'Y.E.M',\n",
       " 'P.Y.F',\n",
       " 'B.Y',\n",
       " 'H.U.N',\n",
       " 'Denmark',\n",
       " 'LSO',\n",
       " 'I.D',\n",
       " 'AD',\n",
       " 'B.M.U',\n",
       " 'Slovenia',\n",
       " 'Nauru',\n",
       " 'NF',\n",
       " 'S.G.S',\n",
       " 'S.Z',\n",
       " 'MLI',\n",
       " 'SI',\n",
       " 'Greenland',\n",
       " 'MP',\n",
       " 'O.M.N',\n",
       " 'P.H',\n",
       " 'B.M',\n",
       " 'AFG',\n",
       " 'GAB',\n",
       " 'Egypt',\n",
       " 'C.Z',\n",
       " 'CH',\n",
       " 'Equatorial Guinea',\n",
       " 'BF',\n",
       " 'Lebanon',\n",
       " 'P.N',\n",
       " 'C.A',\n",
       " 'PAK',\n",
       " 'Uruguay',\n",
       " 'G.B',\n",
       " 'Saudi Arabia',\n",
       " 'TZ',\n",
       " 'Rwanda',\n",
       " 'S.V.N',\n",
       " 'E.G',\n",
       " 'C.X.R',\n",
       " 'F.O',\n",
       " 'MG',\n",
       " 'ES',\n",
       " 'PS',\n",
       " 'K.G.Z',\n",
       " 'I.S.R',\n",
       " 'KY',\n",
       " 'S.S.D',\n",
       " 'Turks and Caicos Islands',\n",
       " 'BW',\n",
       " 'L.A.O',\n",
       " 'D.J',\n",
       " 'B.Q',\n",
       " 'BDI',\n",
       " 'K.R',\n",
       " 'M.C.O',\n",
       " 'N.L.D',\n",
       " 'J.A.M',\n",
       " 'KHM',\n",
       " 'Lesotho',\n",
       " 'K.W.T',\n",
       " 'ECU',\n",
       " 'VN',\n",
       " 'G.R.D',\n",
       " 'I.R.L',\n",
       " 'Bahrain',\n",
       " 'G.G',\n",
       " 'GL',\n",
       " 'VNM',\n",
       " 'P.A.K',\n",
       " 'S.K',\n",
       " 'S.C',\n",
       " 'ESH',\n",
       " 'Belize',\n",
       " 'E.S.T',\n",
       " 'DM',\n",
       " 'Ukraine',\n",
       " 'N.O.R',\n",
       " 'GHA',\n",
       " 'U.S.A',\n",
       " 'Dominican Republic',\n",
       " 'M.M.R',\n",
       " 'Gabon',\n",
       " 'I.L',\n",
       " 'HKG',\n",
       " 'M.N.G',\n",
       " 'SA',\n",
       " 'KNA',\n",
       " 'WLF',\n",
       " 'A.M',\n",
       " 'C.M',\n",
       " 'United States',\n",
       " 'LBR',\n",
       " 'S.L.E',\n",
       " 'Montenegro',\n",
       " 'S.W.Z',\n",
       " 'Uzbekistan',\n",
       " 'SZ',\n",
       " 'Faroe Islands',\n",
       " 'Russian Federation',\n",
       " 'MAC',\n",
       " 'M.H.L',\n",
       " 'MCO',\n",
       " 'MF',\n",
       " 'COD',\n",
       " 'GUM',\n",
       " 'GNQ',\n",
       " 'G.I.N',\n",
       " 'Gibraltar',\n",
       " 'Suriname',\n",
       " 'Indonesia',\n",
       " 'New Caledonia',\n",
       " 'C.O.M',\n",
       " 'MEX',\n",
       " 'KG',\n",
       " 'REU',\n",
       " 'C.U',\n",
       " 'CV',\n",
       " 'Mozambique',\n",
       " 'M.O',\n",
       " 'ZWE',\n",
       " 'C.A.F',\n",
       " 'B.B',\n",
       " 'M.X',\n",
       " 'E.R',\n",
       " 'U.Z.B',\n",
       " 'C.X',\n",
       " 'H.T.I',\n",
       " 'F.J.I',\n",
       " 'Haiti',\n",
       " 'G.N.B',\n",
       " 'IND',\n",
       " 'UA',\n",
       " 'P.M',\n",
       " 'S.G',\n",
       " 'IOT',\n",
       " 'M.E.X',\n",
       " 'MWI',\n",
       " 'GRC',\n",
       " 'Iraq',\n",
       " 'Viet Nam',\n",
       " 'Malta',\n",
       " 'TK',\n",
       " 'I.D.N',\n",
       " 'RO',\n",
       " 'JOR',\n",
       " 'AGO',\n",
       " 'CHN',\n",
       " 'SGP',\n",
       " 'G.A',\n",
       " 'M.D',\n",
       " 'KE',\n",
       " 'TF',\n",
       " 'M.T',\n",
       " 'Gambia',\n",
       " 'GM',\n",
       " 'Z.W.E',\n",
       " 'VEN',\n",
       " 'Barbados',\n",
       " 'NPL',\n",
       " 'Guinea-Bissau',\n",
       " ...}"
      ]
     },
     "execution_count": 48,
     "metadata": {},
     "output_type": "execute_result"
    }
   ],
   "source": [
    "country_names = set([\" \".join([part.strip().strip(\".,!?;:()[]'\\\"\") for part in country_name.split(\" \")]) for country_name in df[\"英語名\"].to_list()])\n",
    "\n",
    "country_names |= set([\"\".join([c.strip().strip(\".,!?;:()[]'\\\"\") for c in country_name]) for country_name in df[\"三字\"].to_list()])\n",
    "country_names |= set([\"\".join([c.strip().strip(\".,!?;:()[]'\\\"\") for c in country_name]) for country_name in df[\"二字\"].to_list() if country_name == country_name ])\n",
    "\n",
    "country_names |= set([\".\".join([c.strip().strip(\".,!?;:()[]'\\\"\") for c in country_name]) for country_name in df[\"三字\"].to_list()])\n",
    "country_names |= set([\".\".join([c.strip().strip(\".,!?;:()[]'\\\"\") for c in country_name]) for country_name in df[\"二字\"].to_list() if country_name == country_name ])\n",
    "\n",
    "country_names"
   ]
  },
  {
   "cell_type": "code",
   "execution_count": 49,
   "metadata": {},
   "outputs": [],
   "source": [
    "country_vectors = {}\n",
    "for country_name in country_names:\n",
    "    if country_name not in model:\n",
    "        continue\n",
    "    country_vector = model[country_name]\n",
    "    country_vectors[country_name] = country_vector"
   ]
  },
  {
   "cell_type": "code",
   "execution_count": 50,
   "metadata": {
    "scrolled": true
   },
   "outputs": [
    {
     "data": {
      "text/plain": [
       "dict_keys(['MUS', 'Nepal', 'SLV', 'PW', 'FO', 'MNG', 'CA', 'TR', 'TUV', 'MYT', 'DJ', 'PT', 'GBR', 'TO', 'Congo', 'BQ', 'SVK', 'Cambodia', 'FJI', 'VAT', 'CYP', 'NIU', 'MSR', 'Paraguay', 'Guernsey', 'KI', 'Kiribati', 'India', 'WSM', 'EST', 'Guyana', 'Martinique', 'AE', 'CZE', 'Namibia', 'China', 'GUY', 'Singapore', 'ERI', 'CYM', 'PLW', 'SH', 'MN', 'PCN', 'CR', 'Azerbaijan', 'KIR', 'VE', 'EC', 'AM', 'Finland', 'UG', 'PH', 'KWT', 'DNK', 'Morocco', 'EG', 'France', 'Nigeria', 'SAU', 'HM', 'MR', 'BEN', 'LVA', 'GIB', 'BTN', 'MU', 'GE', 'SO', 'MV', 'Chad', 'QA', 'AF', 'Kuwait', 'Netherlands', 'Germany', 'COL', 'Liechtenstein', 'Somalia', 'SYC', 'BGD', 'FLK', 'PF', 'SV', 'Eritrea', 'AU', 'Curaçao', 'IE', 'SMR', 'TN', 'BB', 'OMN', 'YT', 'JAM', 'TCA', 'RE', 'SD', 'VIR', 'KR', 'AT', 'PR', 'GB', 'MDG', 'Luxembourg', 'ARE', 'Latvia', 'Niger', 'Angola', 'AG', 'MAF', 'VCT', 'GTM', 'BEL', 'PSE', 'SR', 'Tuvalu', 'ATA', 'Sweden', 'LTU', 'UKR', 'ALB', 'IQ', 'FIN', 'BL', 'Andorra', 'TKL', 'BHR', 'Qatar', 'BA', 'JO', 'Albania', 'Turkmenistan', 'SVN', 'MC', 'AX', 'TM', 'Tonga', 'KP', 'TKM', 'TH', 'BES', 'Bermuda', 'Panama', 'ATG', 'TD', 'MHL', 'Libya', 'Aruba', 'BG', 'ME', 'MS', 'CPV', 'Zimbabwe', 'Antarctica', 'IRL', 'MNE', 'BM', 'GP', 'BLR', 'HR', 'LA', 'CW', 'Mexico', 'VG', 'GS', 'MM', 'Kenya', 'GT', 'Zambia', 'ISR', 'FSM', 'Lithuania', 'IT', 'BHS', 'Senegal', 'Mauritania', 'MRT', 'TTO', 'PNG', 'ST', 'BLM', 'LT', 'MD', 'Turkey', 'NGA', 'Ethiopia', 'ABW', 'GUF', 'ESP', 'Tokelau', 'Swaziland', 'EH', 'AQ', 'BS', 'MAR', 'DO', 'Ghana', 'Jamaica', 'CX', 'Canada', 'Serbia', 'LCA', 'TUN', 'Guadeloupe', 'SE', 'MYS', 'DMA', 'NOR', 'GD', 'AIA', 'GRD', 'CY', 'Botswana', 'DEU', 'BE', 'Ireland', 'AZE', 'IM', 'Palau', 'Myanmar', 'TZA', 'ID', 'PE', 'MZ', 'BFA', 'Armenia', 'TJK', 'Liberia', 'ALA', 'KAZ', 'MDV', 'NCL', 'HU', 'Algeria', 'GI', 'ZM', 'CZ', 'CL', 'BZ', 'BIH', 'BR', 'NAM', 'EGY', 'QAT', 'Poland', 'RS', 'BN', 'SEN', 'Ecuador', 'Croatia', 'BGR', 'COM', 'SLB', 'TJ', 'Dominica', 'YEM', 'PL', 'CHE', 'LI', 'TL', 'Jersey', 'PRY', 'TUR', 'SY', 'Peru', 'Guatemala', 'SDN', 'TLS', 'Malawi', 'DJI', 'Mongolia', 'CRI', 'PYF', 'GGY', 'Anguilla', 'FJ', 'NER', 'Jordan', 'UZB', 'Burundi', 'BV', 'Benin', 'GA', 'Romania', 'VGB', 'AL', 'Belarus', 'Montserrat', 'ISL', 'Austria', 'ASM', 'IDN', 'MT', 'LY', 'Guinea', 'SC', 'CCK', 'ML', 'Comoros', 'THA', 'PY', 'MO', 'PG', 'FK', 'MW', 'Cameroon', 'GH', 'Philippines', 'CD', 'BO', 'IO', 'CF', 'Bahamas', 'NL', 'HRV', 'Tajikistan', 'AND', 'MX', 'HMD', 'OM', 'VI', 'BRA', 'SSD', 'NI', 'UGA', 'Seychelles', 'RUS', 'Kazakhstan', 'UMI', 'KM', 'GR', 'CI', 'SPM', 'KH', 'Fiji', 'VU', 'LR', 'TC', 'CXR', 'Sudan', 'Brazil', 'BI', 'MKD', 'LBY', 'TW', 'DOM', 'CMR', 'SJM', 'WF', 'FM', 'POL', 'NZL', 'LK', 'NFK', 'SN', 'GNB', 'SWZ', 'Norway', 'PER', 'LUX', 'BY', 'SM', 'ZAF', 'AUS', 'KN', 'MQ', 'MTQ', 'RWA', 'MDA', 'CU', 'KEN', 'CG', 'Guam', 'Pakistan', 'Bhutan', 'BD', 'TON', 'CK', 'Samoa', 'UM', 'UY', 'CO', 'BT', 'Australia', 'ATF', 'LKA', 'MOZ', 'GN', 'HK', 'SRB', 'GMB', 'Maldives', 'ARG', 'NIC', 'COG', 'UZ', 'TGO', 'KW', 'HTI', 'IN', 'TV', 'GQ', 'LAO', 'NG', 'IRQ', 'CHL', 'NR', 'IR', 'JP', 'SS', 'TCD', 'GIN', 'BRB', 'FRO', 'PAN', 'Uganda', 'SK', 'ET', 'DZA', 'CIV', 'L.A', 'A.I', 'GLP', 'NLD', 'Hungary', 'ZW', 'STP', 'Belgium', 'SXM', 'LV', 'GU', 'MLT', 'Grenada', 'SGS', 'EE', 'Bangladesh', 'HUN', 'TG', 'Mauritius', 'NC', 'AR', 'DK', 'LU', 'NZ', 'ITA', 'AUT', 'Thailand', 'LIE', 'Cyprus', 'Denmark', 'LSO', 'AD', 'Slovenia', 'Nauru', 'NF', 'MLI', 'SI', 'Greenland', 'MP', 'AFG', 'GAB', 'Egypt', 'CH', 'BF', 'Lebanon', 'PAK', 'Uruguay', 'TZ', 'Rwanda', 'MG', 'ES', 'PS', 'KY', 'BW', 'BDI', 'KHM', 'Lesotho', 'ECU', 'VN', 'Bahrain', 'GL', 'VNM', 'ESH', 'Belize', 'DM', 'Ukraine', 'GHA', 'Gabon', 'HKG', 'SA', 'KNA', 'WLF', 'LBR', 'Montenegro', 'Uzbekistan', 'SZ', 'MAC', 'MCO', 'MF', 'COD', 'GUM', 'Gibraltar', 'Suriname', 'Indonesia', 'MEX', 'KG', 'REU', 'CV', 'Mozambique', 'Haiti', 'IND', 'UA', 'IOT', 'MWI', 'GRC', 'Iraq', 'Malta', 'TK', 'RO', 'JOR', 'AGO', 'CHN', 'SGP', 'KE', 'TF', 'Gambia', 'GM', 'VEN', 'Barbados', 'NPL', 'ARM', 'CC', 'PK', 'Yemen', 'VA', 'PA', 'LC', 'Djibouti', 'ZMB', 'AS', 'Nicaragua', 'PHL', 'Portugal', 'PN', 'AO', 'U.S', 'LS', 'Italy', 'NO', 'Chile', 'Colombia', 'JE', 'ZA', 'SHN', 'CAN', 'JPN', 'GY', 'PRK', 'GG', 'SG', 'AZ', 'FRA', 'ETH', 'JM', 'Mayotte', 'SWE', 'BWA', 'MH', 'CUW', 'Honduras', 'Estonia', 'URY', 'HN', 'Macao', 'Bulgaria', 'BLZ', 'PRT', 'SX', 'Niue', 'Mali', 'GW', 'Monaco', 'Cuba', 'Japan', 'Greece', 'Spain', 'SYR', 'HND', 'BRN', 'IS', 'SL', 'Pitcairn', 'GRL', 'GEO', 'SUR', 'BVT', 'ROU', 'KZ', 'Togo', 'GF', 'KOR', 'Georgia', 'PM', 'NE', 'CN', 'PRI', 'FI', 'TWN', 'FR', 'NU', 'BMU', 'WS', 'Kyrgyzstan', 'SB', 'SJ', 'USA', 'Israel', 'RW', 'VC', 'SOM', 'SLE', 'HT', 'Madagascar', 'Tunisia', 'NRU', 'US', 'TT', 'IL', 'MMR', 'Iceland', 'MY', 'IRN', 'CAF', 'Afghanistan', 'Réunion', 'Vanuatu', 'Slovakia', 'NP', 'LB', 'BJ', 'BH', 'Oman', 'YE', 'AI', 'CUB', 'Malaysia', 'DE', 'AW', 'MA', 'MK', 'BOL', 'CM', 'ER', 'MNP', 'RU', 'VUT', 'Switzerland', 'Argentina', 'IMN', 'DZ', 'LBN', 'COK'])"
      ]
     },
     "execution_count": 50,
     "metadata": {},
     "output_type": "execute_result"
    }
   ],
   "source": [
    "country_vectors.keys()"
   ]
  },
  {
   "cell_type": "markdown",
   "metadata": {},
   "source": [
    "## 97. k-meansクラスタリング\n",
    "96の単語ベクトルに対して，k-meansクラスタリングをクラスタ数k=5として実行せよ．"
   ]
  },
  {
   "cell_type": "code",
   "execution_count": 51,
   "metadata": {},
   "outputs": [],
   "source": [
    "from sklearn.cluster import KMeans"
   ]
  },
  {
   "cell_type": "code",
   "execution_count": 52,
   "metadata": {},
   "outputs": [],
   "source": [
    "country_names = list(country_vectors.keys())"
   ]
  },
  {
   "cell_type": "code",
   "execution_count": 53,
   "metadata": {},
   "outputs": [],
   "source": [
    "X = [country_vectors[country_name] for country_name in country_names]"
   ]
  },
  {
   "cell_type": "code",
   "execution_count": 54,
   "metadata": {},
   "outputs": [],
   "source": [
    "kmeans = KMeans(n_clusters=5, random_state=0)"
   ]
  },
  {
   "cell_type": "code",
   "execution_count": 55,
   "metadata": {},
   "outputs": [
    {
     "data": {
      "text/plain": [
       "KMeans(algorithm='auto', copy_x=True, init='k-means++', max_iter=300,\n",
       "       n_clusters=5, n_init=10, n_jobs=None, precompute_distances='auto',\n",
       "       random_state=0, tol=0.0001, verbose=0)"
      ]
     },
     "execution_count": 55,
     "metadata": {},
     "output_type": "execute_result"
    }
   ],
   "source": [
    "kmeans.fit(X)"
   ]
  },
  {
   "cell_type": "code",
   "execution_count": 56,
   "metadata": {
    "scrolled": true
   },
   "outputs": [
    {
     "data": {
      "text/plain": [
       "array([1, 0, 4, 1, 1, 4, 4, 1, 4, 4, 1, 1, 2, 2, 0, 4, 2, 0, 4, 4, 4, 4,\n",
       "       4, 3, 3, 1, 3, 0, 4, 4, 3, 3, 1, 2, 0, 0, 2, 3, 4, 4, 4, 1, 1, 4,\n",
       "       1, 0, 4, 1, 4, 1, 3, 1, 1, 2, 4, 0, 1, 3, 0, 4, 1, 1, 2, 4, 4, 4,\n",
       "       4, 4, 2, 1, 1, 4, 1, 0, 3, 3, 2, 3, 0, 4, 4, 4, 1, 1, 0, 4, 3, 4,\n",
       "       4, 1, 1, 4, 1, 1, 4, 1, 1, 4, 1, 2, 4, 4, 4, 3, 2, 3, 0, 0, 1, 4,\n",
       "       4, 4, 2, 4, 1, 3, 4, 3, 4, 2, 4, 4, 2, 1, 3, 4, 4, 0, 4, 1, 0, 0,\n",
       "       4, 1, 1, 4, 3, 1, 4, 1, 4, 3, 3, 4, 4, 4, 0, 3, 1, 1, 1, 4, 0, 3,\n",
       "       4, 4, 1, 4, 2, 4, 1, 1, 3, 1, 1, 1, 0, 1, 0, 4, 4, 3, 4, 4, 0, 0,\n",
       "       4, 4, 0, 1, 4, 1, 1, 0, 4, 0, 4, 4, 4, 3, 0, 1, 1, 1, 2, 1, 0, 3,\n",
       "       4, 3, 0, 4, 2, 3, 1, 4, 4, 2, 1, 4, 4, 1, 0, 4, 1, 3, 4, 4, 3, 0,\n",
       "       4, 4, 4, 1, 4, 0, 4, 0, 4, 2, 4, 4, 1, 0, 4, 1, 1, 1, 1, 4, 1, 4,\n",
       "       2, 2, 3, 1, 4, 4, 3, 3, 4, 1, 4, 1, 3, 4, 1, 4, 1, 1, 3, 4, 2, 1,\n",
       "       3, 3, 4, 4, 0, 2, 0, 4, 4, 4, 3, 1, 4, 4, 2, 0, 1, 0, 1, 3, 4, 1,\n",
       "       0, 3, 4, 3, 4, 4, 1, 1, 0, 1, 4, 1, 0, 4, 1, 1, 1, 1, 4, 0, 1, 3,\n",
       "       4, 1, 4, 4, 3, 4, 4, 0, 2, 4, 4, 1, 4, 2, 4, 4, 4, 3, 2, 0, 4, 1,\n",
       "       1, 4, 4, 1, 3, 1, 1, 1, 4, 0, 3, 4, 4, 2, 1, 2, 1, 4, 1, 1, 2, 2,\n",
       "       1, 4, 1, 4, 4, 3, 2, 2, 2, 1, 2, 2, 1, 4, 2, 4, 4, 4, 2, 1, 3, 0,\n",
       "       0, 1, 2, 1, 3, 4, 4, 1, 4, 3, 4, 4, 4, 1, 4, 4, 4, 3, 2, 4, 4, 4,\n",
       "       4, 1, 4, 2, 4, 4, 4, 1, 4, 4, 1, 1, 1, 1, 4, 2, 4, 4, 4, 0, 1, 4,\n",
       "       4, 1, 4, 4, 4, 0, 3, 1, 4, 3, 4, 1, 1, 4, 3, 4, 1, 0, 2, 1, 3, 1,\n",
       "       1, 1, 4, 3, 2, 2, 0, 2, 3, 3, 4, 1, 3, 3, 1, 4, 1, 3, 4, 4, 4, 0,\n",
       "       1, 1, 0, 2, 3, 1, 0, 1, 1, 1, 1, 1, 4, 4, 0, 4, 1, 0, 1, 4, 4, 3,\n",
       "       1, 0, 4, 0, 2, 3, 4, 4, 4, 3, 0, 1, 4, 4, 1, 4, 2, 3, 3, 0, 2, 1,\n",
       "       4, 1, 0, 3, 2, 4, 4, 4, 4, 0, 3, 1, 1, 1, 4, 2, 4, 1, 1, 0, 4, 2,\n",
       "       3, 4, 4, 1, 1, 0, 4, 1, 1, 0, 4, 2, 3, 4, 3, 1, 1, 2, 1, 3, 2, 3,\n",
       "       3, 1, 2, 4, 2, 2, 2, 2, 1, 1, 1, 2, 2, 1, 3, 2, 4, 1, 4, 3, 3, 4,\n",
       "       1, 3, 3, 4, 4, 1, 3, 0, 4, 3, 3, 3, 3, 3, 2, 4, 2, 2, 1, 3, 4, 4,\n",
       "       2, 4, 2, 2, 0, 1, 2, 3, 1, 1, 4, 4, 1, 4, 2, 4, 4, 1, 0, 1, 1, 3,\n",
       "       0, 1, 4, 4, 4, 1, 0, 0, 4, 4, 1, 1, 4, 3, 2, 4, 4, 0, 3, 3, 3, 1,\n",
       "       1, 1, 1, 0, 2, 4, 4, 0, 2, 1, 1, 1, 2, 1, 1, 4, 1, 4, 3, 3, 4, 1,\n",
       "       4, 4], dtype=int32)"
      ]
     },
     "execution_count": 56,
     "metadata": {},
     "output_type": "execute_result"
    }
   ],
   "source": [
    "predict = kmeans.predict(X)\n",
    "predict"
   ]
  },
  {
   "cell_type": "markdown",
   "metadata": {},
   "source": [
    "## 98. Ward法によるクラスタリング\n",
    "96の単語ベクトルに対して，Ward法による階層型クラスタリングを実行せよ．さらに，クラスタリング結果をデンドログラムとして可視化せよ．"
   ]
  },
  {
   "cell_type": "code",
   "execution_count": 57,
   "metadata": {},
   "outputs": [],
   "source": [
    "from scipy.cluster.hierarchy import linkage, dendrogram"
   ]
  },
  {
   "cell_type": "code",
   "execution_count": 58,
   "metadata": {},
   "outputs": [],
   "source": [
    "result = linkage(X, method=\"ward\")"
   ]
  },
  {
   "cell_type": "code",
   "execution_count": 59,
   "metadata": {},
   "outputs": [],
   "source": [
    "import matplotlib.pyplot as plt\n",
    "%matplotlib inline"
   ]
  },
  {
   "cell_type": "code",
   "execution_count": 60,
   "metadata": {},
   "outputs": [
    {
     "data": {
      "image/png": "[encoded data removed]",
      "text/plain": [
       "<Figure size 432x288 with 1 Axes>"
      ]
     },
     "metadata": {
      "needs_background": "light"
     },
     "output_type": "display_data"
    }
   ],
   "source": [
    "dendrogram(result)\n",
    "plt.title(\"Dedrogram\")\n",
    "plt.ylabel(\"Threshold\")\n",
    "plt.show()"
   ]
  },
  {
   "cell_type": "markdown",
   "metadata": {},
   "source": [
    "## 99. t-SNEによる可視化\n",
    "96の単語ベクトルに対して，ベクトル空間をt-SNEで可視化せよ．"
   ]
  },
  {
   "cell_type": "code",
   "execution_count": 61,
   "metadata": {},
   "outputs": [],
   "source": [
    "from sklearn.manifold import TSNE"
   ]
  },
  {
   "cell_type": "code",
   "execution_count": 62,
   "metadata": {},
   "outputs": [],
   "source": [
    "tsne = TSNE(n_components=2, random_state=0)"
   ]
  },
  {
   "cell_type": "code",
   "execution_count": 63,
   "metadata": {},
   "outputs": [],
   "source": [
    "X_embedded = tsne.fit_transform(X)"
   ]
  },
  {
   "cell_type": "code",
   "execution_count": 64,
   "metadata": {},
   "outputs": [
    {
     "data": {
      "image/png": "[encoded data removed]",
      "text/plain": [
       "<Figure size 432x288 with 2 Axes>"
      ]
     },
     "metadata": {
      "needs_background": "light"
     },
     "output_type": "display_data"
    }
   ],
   "source": [
    "plt.scatter(X_embedded[:, 0], X_embedded[:, 1])\n",
    "plt.colorbar()\n",
    "plt.show()"
   ]
  },
  {
   "cell_type": "code",
   "execution_count": null,
   "metadata": {},
   "outputs": [],
   "source": []
  }
 ],
 "metadata": {
  "kernelspec": {
   "display_name": "Python 3",
   "language": "python",
   "name": "python3"
  },
  "language_info": {
   "codemirror_mode": {
    "name": "ipython",
    "version": 3
   },
   "file_extension": ".py",
   "mimetype": "text/x-python",
   "name": "python",
   "nbconvert_exporter": "python",
   "pygments_lexer": "ipython3",
   "version": "3.7.3"
  }
 },
 "nbformat": 4,
 "nbformat_minor": 2
}
