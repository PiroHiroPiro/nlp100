{
 "cells": [
  {
   "cell_type": "markdown",
   "metadata": {},
   "source": [
    "# 第9章: ベクトル空間法 (I)\n",
    "[enwiki-20150112-400-r10-105752.txt.bz2](http://www.cl.ecei.tohoku.ac.jp/nlp100/data/enwiki-20150112-400-r10-105752.txt.bz2)は，2015年1月12日時点の英語のWikipedia記事のうち，約400語以上で構成される記事の中から，ランダムに1/10サンプリングした105,752記事のテキストをbzip2形式で圧縮したものである．このテキストをコーパスとして，単語の意味を表すベクトル（分散表現）を学習したい．第9章の前半では，コーパスから作成した単語文脈共起行列に主成分分析を適用し，単語ベクトルを学習する過程を，いくつかの処理に分けて実装する．第9章の後半では，学習で得られた単語ベクトル（300次元）を用い，単語の類似度計算やアナロジー（類推）を行う．\n",
    "\n",
    "なお，問題83を素直に実装すると，大量（約7GB）の主記憶が必要になる． メモリが不足する場合は，処理を工夫するか，1/100サンプリングのコーパス[enwiki-20150112-400-r100-10576.txt.bz2](http://www.cl.ecei.tohoku.ac.jp/nlp100/data/enwiki-20150112-400-r100-10576.txt.bz2)を用いよ．"
   ]
  },
  {
   "cell_type": "code",
   "execution_count": 1,
   "metadata": {
    "scrolled": false
   },
   "outputs": [
    {
     "name": "stdout",
     "output_type": "stream",
     "text": [
      "  % Total    % Received % Xferd  Average Speed   Time    Time     Time  Current\n",
      "                                 Dload  Upload   Total   Spent    Left  Speed\n",
      "100 21.0M  100 21.0M    0     0   256k      0  0:01:23  0:01:23 --:--:--  368k\n"
     ]
    }
   ],
   "source": [
    "! curl -o enwiki-20150112-400-r100-10576.txt.bz2 http://www.cl.ecei.tohoku.ac.jp/nlp100/data/enwiki-20150112-400-r100-10576.txt.bz2"
   ]
  },
  {
   "cell_type": "code",
   "execution_count": 2,
   "metadata": {
    "scrolled": false
   },
   "outputs": [],
   "source": [
    "# ! curl -o enwiki-20150112-400-r10-105752.txt.bz2 http://www.cl.ecei.tohoku.ac.jp/nlp100/data/enwiki-20150112-400-r10-105752.txt.bz2"
   ]
  },
  {
   "cell_type": "markdown",
   "metadata": {},
   "source": [
    "## 80. コーパスの整形\n",
    "文を単語列に変換する最も単純な方法は，空白文字で単語に区切ることである． ただ，この方法では文末のピリオドや括弧などの記号が単語に含まれてしまう． そこで，コーパスの各行のテキストを空白文字でトークンのリストに分割した後，各トークンに以下の処理を施し，単語から記号を除去せよ．\n",
    "\n",
    "- トークンの先頭と末尾に出現する次の文字を削除: `.,!?;:()[]'\"`\n",
    "- 空文字列となったトークンは削除\n",
    "\n",
    "以上の処理を適用した後，トークンをスペースで連結してファイルに保存せよ．"
   ]
  },
  {
   "cell_type": "code",
   "execution_count": 3,
   "metadata": {},
   "outputs": [],
   "source": [
    "import bz2"
   ]
  },
  {
   "cell_type": "code",
   "execution_count": 4,
   "metadata": {},
   "outputs": [],
   "source": [
    "with bz2.open(\"enwiki-20150112-400-r100-10576.txt.bz2\", mode=\"rt\") as f:\n",
    "    text = f.readlines()"
   ]
  },
  {
   "cell_type": "code",
   "execution_count": 5,
   "metadata": {},
   "outputs": [],
   "source": [
    "# with bz2.open(\"enwiki-20150112-400-r10-105752.txt.bz2\", mode=\"rt\") as f:\n",
    "#     text = f.readlines()"
   ]
  },
  {
   "cell_type": "code",
   "execution_count": 6,
   "metadata": {},
   "outputs": [
    {
     "data": {
      "text/plain": [
       "['Anarchism\\n',\n",
       " '\\n',\n",
       " 'Anarchism is a political philosophy that advocates stateless societies often defined as self-governed voluntary institutions, but that several authors have defined as more specific institutions based on non-hierarchical free associations. Anarchism holds the state to be undesirable, unnecessary, or harmful. While anti-statism is central, anarchism entails opposing authority or hierarchical organisation in the conduct of human relations, including, but not limited to, the state system.\\n',\n",
       " 'As a subtle and anti-dogmatic philosophy, anarchism draws on many currents of thought and strategy. Anarchism does not offer a fixed body of doctrine from a single particular world view, instead fluxing and flowing as a philosophy. There are many types and traditions of anarchism, not all of which are mutually exclusive. Anarchist schools of thought can differ fundamentally, supporting anything from extreme individualism to complete collectivism. Strains of anarchism have often been divided into the categories of social and individualist anarchism or similar dual classifications. Anarchism is usually considered a radical left-wing ideology, and much of anarchist economics and anarchist legal philosophy reflect anti-authoritarian interpretations of communism, collectivism, syndicalism, mutualism, or participatory economics.\\n',\n",
       " 'The central tendency of anarchism as a social movement has been represented by anarcho-communism and anarcho-syndicalism, with individualist anarchism being primarily a literary phenomenon which nevertheless did have an impact on the bigger currents and individualists have also participated in large anarchist organisations. Many anarchists oppose all forms of aggression, supporting self-defense or non-violence (anarcho-pacifism), while others have supported the use of some coercive measures, including violent revolution and propaganda of the deed as means to achieve anarchist ends.\\n']"
      ]
     },
     "execution_count": 6,
     "metadata": {},
     "output_type": "execute_result"
    }
   ],
   "source": [
    "text[:5]"
   ]
  },
  {
   "cell_type": "code",
   "execution_count": 7,
   "metadata": {},
   "outputs": [],
   "source": [
    "lines = []\n",
    "\n",
    "for line in text:\n",
    "    words = [word.strip().strip(\".,!?;:()[]'\\\"\") for word in line.strip().split(\" \")]\n",
    "    lines.append(\" \".join([word for word in words if word != \"\"]))"
   ]
  },
  {
   "cell_type": "code",
   "execution_count": 8,
   "metadata": {},
   "outputs": [
    {
     "data": {
      "text/plain": [
       "['Anarchism',\n",
       " '',\n",
       " 'Anarchism is a political philosophy that advocates stateless societies often defined as self-governed voluntary institutions but that several authors have defined as more specific institutions based on non-hierarchical free associations Anarchism holds the state to be undesirable unnecessary or harmful While anti-statism is central anarchism entails opposing authority or hierarchical organisation in the conduct of human relations including but not limited to the state system',\n",
       " 'As a subtle and anti-dogmatic philosophy anarchism draws on many currents of thought and strategy Anarchism does not offer a fixed body of doctrine from a single particular world view instead fluxing and flowing as a philosophy There are many types and traditions of anarchism not all of which are mutually exclusive Anarchist schools of thought can differ fundamentally supporting anything from extreme individualism to complete collectivism Strains of anarchism have often been divided into the categories of social and individualist anarchism or similar dual classifications Anarchism is usually considered a radical left-wing ideology and much of anarchist economics and anarchist legal philosophy reflect anti-authoritarian interpretations of communism collectivism syndicalism mutualism or participatory economics',\n",
       " 'The central tendency of anarchism as a social movement has been represented by anarcho-communism and anarcho-syndicalism with individualist anarchism being primarily a literary phenomenon which nevertheless did have an impact on the bigger currents and individualists have also participated in large anarchist organisations Many anarchists oppose all forms of aggression supporting self-defense or non-violence anarcho-pacifism while others have supported the use of some coercive measures including violent revolution and propaganda of the deed as means to achieve anarchist ends']"
      ]
     },
     "execution_count": 8,
     "metadata": {},
     "output_type": "execute_result"
    }
   ],
   "source": [
    "lines[:5]"
   ]
  },
  {
   "cell_type": "code",
   "execution_count": 9,
   "metadata": {},
   "outputs": [],
   "source": [
    "with open(\"output_80.txt\", mode=\"w\") as f:\n",
    "    f.write(\"\\n\".join(lines))"
   ]
  },
  {
   "cell_type": "code",
   "execution_count": 10,
   "metadata": {},
   "outputs": [
    {
     "name": "stdout",
     "output_type": "stream",
     "text": [
      "Anarchism\r\n",
      "\r\n",
      "Anarchism is a political philosophy that advocates stateless societies often defined as self-governed voluntary institutions but that several authors have defined as more specific institutions based on non-hierarchical free associations Anarchism holds the state to be undesirable unnecessary or harmful While anti-statism is central anarchism entails opposing authority or hierarchical organisation in the conduct of human relations including but not limited to the state system\r\n",
      "As a subtle and anti-dogmatic philosophy anarchism draws on many currents of thought and strategy Anarchism does not offer a fixed body of doctrine from a single particular world view instead fluxing and flowing as a philosophy There are many types and traditions of anarchism not all of which are mutually exclusive Anarchist schools of thought can differ fundamentally supporting anything from extreme individualism to complete collectivism Strains of anarchism have often been divided into the categories of social and individualist anarchism or similar dual classifications Anarchism is usually considered a radical left-wing ideology and much of anarchist economics and anarchist legal philosophy reflect anti-authoritarian interpretations of communism collectivism syndicalism mutualism or participatory economics\r\n",
      "The central tendency of anarchism as a social movement has been represented by anarcho-communism and anarcho-syndicalism with individualist anarchism being primarily a literary phenomenon which nevertheless did have an impact on the bigger currents and individualists have also participated in large anarchist organisations Many anarchists oppose all forms of aggression supporting self-defense or non-violence anarcho-pacifism while others have supported the use of some coercive measures including violent revolution and propaganda of the deed as means to achieve anarchist ends\r\n"
     ]
    }
   ],
   "source": [
    "! head -n 5 output_80.txt"
   ]
  },
  {
   "cell_type": "markdown",
   "metadata": {},
   "source": [
    "## 81. 複合語からなる国名への対処\n",
    "英語では，複数の語の連接が意味を成すことがある．例えば，アメリカ合衆国は\"United States\"，イギリスは\"United Kingdom\"と表現されるが，\"United\"や\"States\"，\"Kingdom\"という単語だけでは，指し示している概念・実体が曖昧である．そこで，コーパス中に含まれる複合語を認識し，複合語を1語として扱うことで，複合語の意味を推定したい．しかしながら，複合語を正確に認定するのは大変むずかしいので，ここでは複合語からなる国名を認定したい．\n",
    "\n",
    "インターネット上から国名リストを各自で入手し，80のコーパス中に出現する複合語の国名に関して，スペースをアンダーバーに置換せよ．例えば，\"United States\"は\"United_States\"，\"Isle of Man\"は\"Isle_of_Man\"になるはずである．"
   ]
  },
  {
   "cell_type": "code",
   "execution_count": 11,
   "metadata": {},
   "outputs": [],
   "source": [
    "import pandas as pd"
   ]
  },
  {
   "cell_type": "code",
   "execution_count": 12,
   "metadata": {},
   "outputs": [],
   "source": [
    "df = pd.read_csv(\"english_country_name.csv\")"
   ]
  },
  {
   "cell_type": "code",
   "execution_count": 13,
   "metadata": {},
   "outputs": [
    {
     "data": {
      "text/html": [
       "<div>\n",
       "<style scoped>\n",
       "    .dataframe tbody tr th:only-of-type {\n",
       "        vertical-align: middle;\n",
       "    }\n",
       "\n",
       "    .dataframe tbody tr th {\n",
       "        vertical-align: top;\n",
       "    }\n",
       "\n",
       "    .dataframe thead th {\n",
       "        text-align: right;\n",
       "    }\n",
       "</style>\n",
       "<table border=\"1\" class=\"dataframe\">\n",
       "  <thead>\n",
       "    <tr style=\"text-align: right;\">\n",
       "      <th></th>\n",
       "      <th>国・地域名</th>\n",
       "      <th>英語名</th>\n",
       "      <th>数</th>\n",
       "      <th>三字</th>\n",
       "      <th>二字</th>\n",
       "      <th>場所</th>\n",
       "      <th>各行政区分</th>\n",
       "    </tr>\n",
       "  </thead>\n",
       "  <tbody>\n",
       "    <tr>\n",
       "      <th>0</th>\n",
       "      <td>アイスランド</td>\n",
       "      <td>Iceland</td>\n",
       "      <td>352</td>\n",
       "      <td>ISL</td>\n",
       "      <td>IS</td>\n",
       "      <td>北ヨーロッパ</td>\n",
       "      <td>ISO 3166-2:IS</td>\n",
       "    </tr>\n",
       "    <tr>\n",
       "      <th>1</th>\n",
       "      <td>アイルランド</td>\n",
       "      <td>Ireland</td>\n",
       "      <td>372</td>\n",
       "      <td>IRL</td>\n",
       "      <td>IE</td>\n",
       "      <td>西ヨーロッパ</td>\n",
       "      <td>ISO 3166-2:IE</td>\n",
       "    </tr>\n",
       "    <tr>\n",
       "      <th>2</th>\n",
       "      <td>アゼルバイジャン</td>\n",
       "      <td>Azerbaijan</td>\n",
       "      <td>31</td>\n",
       "      <td>AZE</td>\n",
       "      <td>AZ</td>\n",
       "      <td>東ヨーロッパ</td>\n",
       "      <td>ISO 3166-2:AZ</td>\n",
       "    </tr>\n",
       "    <tr>\n",
       "      <th>3</th>\n",
       "      <td>アフガニスタン</td>\n",
       "      <td>Afghanistan</td>\n",
       "      <td>4</td>\n",
       "      <td>AFG</td>\n",
       "      <td>AF</td>\n",
       "      <td>中東</td>\n",
       "      <td>ISO 3166-2:AF</td>\n",
       "    </tr>\n",
       "    <tr>\n",
       "      <th>4</th>\n",
       "      <td>アメリカ合衆国</td>\n",
       "      <td>United States</td>\n",
       "      <td>840</td>\n",
       "      <td>USA</td>\n",
       "      <td>US</td>\n",
       "      <td>北アメリカ</td>\n",
       "      <td>ISO 3166-2:US</td>\n",
       "    </tr>\n",
       "    <tr>\n",
       "      <th>5</th>\n",
       "      <td>アメリカ領ヴァージン諸島</td>\n",
       "      <td>Virgin Islands, U.S.</td>\n",
       "      <td>850</td>\n",
       "      <td>VIR</td>\n",
       "      <td>VI</td>\n",
       "      <td>中央アメリカ</td>\n",
       "      <td>ISO 3166-2:VI</td>\n",
       "    </tr>\n",
       "    <tr>\n",
       "      <th>6</th>\n",
       "      <td>アメリカ領サモア</td>\n",
       "      <td>American Samoa</td>\n",
       "      <td>16</td>\n",
       "      <td>ASM</td>\n",
       "      <td>AS</td>\n",
       "      <td>オセアニア</td>\n",
       "      <td>ISO 3166-2:AS</td>\n",
       "    </tr>\n",
       "    <tr>\n",
       "      <th>7</th>\n",
       "      <td>アラブ首長国連邦</td>\n",
       "      <td>United Arab Emirates</td>\n",
       "      <td>784</td>\n",
       "      <td>ARE</td>\n",
       "      <td>AE</td>\n",
       "      <td>中東</td>\n",
       "      <td>ISO 3166-2:AE</td>\n",
       "    </tr>\n",
       "    <tr>\n",
       "      <th>8</th>\n",
       "      <td>アルジェリア</td>\n",
       "      <td>Algeria</td>\n",
       "      <td>12</td>\n",
       "      <td>DZA</td>\n",
       "      <td>DZ</td>\n",
       "      <td>北アフリカ</td>\n",
       "      <td>ISO 3166-2:DZ</td>\n",
       "    </tr>\n",
       "    <tr>\n",
       "      <th>9</th>\n",
       "      <td>アルゼンチン</td>\n",
       "      <td>Argentina</td>\n",
       "      <td>32</td>\n",
       "      <td>ARG</td>\n",
       "      <td>AR</td>\n",
       "      <td>南アメリカ</td>\n",
       "      <td>ISO 3166-2:AR</td>\n",
       "    </tr>\n",
       "    <tr>\n",
       "      <th>10</th>\n",
       "      <td>アルバ</td>\n",
       "      <td>Aruba</td>\n",
       "      <td>533</td>\n",
       "      <td>ABW</td>\n",
       "      <td>AW</td>\n",
       "      <td>中央アメリカ</td>\n",
       "      <td>ISO 3166-2:AW</td>\n",
       "    </tr>\n",
       "    <tr>\n",
       "      <th>11</th>\n",
       "      <td>アルバニア</td>\n",
       "      <td>Albania</td>\n",
       "      <td>8</td>\n",
       "      <td>ALB</td>\n",
       "      <td>AL</td>\n",
       "      <td>東ヨーロッパ</td>\n",
       "      <td>ISO 3166-2:AL</td>\n",
       "    </tr>\n",
       "    <tr>\n",
       "      <th>12</th>\n",
       "      <td>アルメニア</td>\n",
       "      <td>Armenia</td>\n",
       "      <td>51</td>\n",
       "      <td>ARM</td>\n",
       "      <td>AM</td>\n",
       "      <td>東ヨーロッパ</td>\n",
       "      <td>ISO 3166-2:AM</td>\n",
       "    </tr>\n",
       "    <tr>\n",
       "      <th>13</th>\n",
       "      <td>アンギラ</td>\n",
       "      <td>Anguilla</td>\n",
       "      <td>660</td>\n",
       "      <td>AIA</td>\n",
       "      <td>AI</td>\n",
       "      <td>中央アメリカ</td>\n",
       "      <td>ISO 3166-2:AI</td>\n",
       "    </tr>\n",
       "    <tr>\n",
       "      <th>14</th>\n",
       "      <td>アンゴラ</td>\n",
       "      <td>Angola</td>\n",
       "      <td>24</td>\n",
       "      <td>AGO</td>\n",
       "      <td>AO</td>\n",
       "      <td>南アフリカ</td>\n",
       "      <td>ISO 3166-2:AO</td>\n",
       "    </tr>\n",
       "    <tr>\n",
       "      <th>15</th>\n",
       "      <td>アンティグア・バーブーダ</td>\n",
       "      <td>Antigua and Barbuda</td>\n",
       "      <td>28</td>\n",
       "      <td>ATG</td>\n",
       "      <td>AG</td>\n",
       "      <td>中央アメリカ</td>\n",
       "      <td>ISO 3166-2:AG</td>\n",
       "    </tr>\n",
       "    <tr>\n",
       "      <th>16</th>\n",
       "      <td>アンドラ</td>\n",
       "      <td>Andorra</td>\n",
       "      <td>20</td>\n",
       "      <td>AND</td>\n",
       "      <td>AD</td>\n",
       "      <td>西ヨーロッパ</td>\n",
       "      <td>ISO 3166-2:AD</td>\n",
       "    </tr>\n",
       "    <tr>\n",
       "      <th>17</th>\n",
       "      <td>イエメン</td>\n",
       "      <td>Yemen</td>\n",
       "      <td>887</td>\n",
       "      <td>YEM</td>\n",
       "      <td>YE</td>\n",
       "      <td>中東</td>\n",
       "      <td>ISO 3166-2:YE</td>\n",
       "    </tr>\n",
       "    <tr>\n",
       "      <th>18</th>\n",
       "      <td>イギリス</td>\n",
       "      <td>United Kingdom</td>\n",
       "      <td>826</td>\n",
       "      <td>GBR</td>\n",
       "      <td>GB</td>\n",
       "      <td>西ヨーロッパ</td>\n",
       "      <td>ISO 3166-2:GB</td>\n",
       "    </tr>\n",
       "    <tr>\n",
       "      <th>19</th>\n",
       "      <td>イギリス領インド洋地域</td>\n",
       "      <td>British Indian Ocean Territory</td>\n",
       "      <td>86</td>\n",
       "      <td>IOT</td>\n",
       "      <td>IO</td>\n",
       "      <td>インド洋地域</td>\n",
       "      <td>ISO 3166-2:IO</td>\n",
       "    </tr>\n",
       "    <tr>\n",
       "      <th>20</th>\n",
       "      <td>イギリス領ヴァージン諸島</td>\n",
       "      <td>Virgin Islands, British</td>\n",
       "      <td>92</td>\n",
       "      <td>VGB</td>\n",
       "      <td>VG</td>\n",
       "      <td>中央アメリカ</td>\n",
       "      <td>ISO 3166-2:VG</td>\n",
       "    </tr>\n",
       "    <tr>\n",
       "      <th>21</th>\n",
       "      <td>イスラエル</td>\n",
       "      <td>Israel</td>\n",
       "      <td>376</td>\n",
       "      <td>ISR</td>\n",
       "      <td>IL</td>\n",
       "      <td>中東</td>\n",
       "      <td>ISO 3166-2:IL</td>\n",
       "    </tr>\n",
       "    <tr>\n",
       "      <th>22</th>\n",
       "      <td>イタリア</td>\n",
       "      <td>Italy</td>\n",
       "      <td>380</td>\n",
       "      <td>ITA</td>\n",
       "      <td>IT</td>\n",
       "      <td>西ヨーロッパ</td>\n",
       "      <td>ISO 3166-2:IT</td>\n",
       "    </tr>\n",
       "    <tr>\n",
       "      <th>23</th>\n",
       "      <td>イラク</td>\n",
       "      <td>Iraq</td>\n",
       "      <td>368</td>\n",
       "      <td>IRQ</td>\n",
       "      <td>IQ</td>\n",
       "      <td>中東</td>\n",
       "      <td>ISO 3166-2:IQ</td>\n",
       "    </tr>\n",
       "    <tr>\n",
       "      <th>24</th>\n",
       "      <td>イラン|イラン・イスラム共和国</td>\n",
       "      <td>Iran, Islamic Republic of</td>\n",
       "      <td>364</td>\n",
       "      <td>IRN</td>\n",
       "      <td>IR</td>\n",
       "      <td>中東</td>\n",
       "      <td>ISO 3166-2:IR</td>\n",
       "    </tr>\n",
       "    <tr>\n",
       "      <th>25</th>\n",
       "      <td>インド</td>\n",
       "      <td>India</td>\n",
       "      <td>356</td>\n",
       "      <td>IND</td>\n",
       "      <td>IN</td>\n",
       "      <td>南アジア</td>\n",
       "      <td>ISO 3166-2:IN</td>\n",
       "    </tr>\n",
       "    <tr>\n",
       "      <th>26</th>\n",
       "      <td>インドネシア</td>\n",
       "      <td>Indonesia</td>\n",
       "      <td>360</td>\n",
       "      <td>IDN</td>\n",
       "      <td>ID</td>\n",
       "      <td>東南アジア</td>\n",
       "      <td>ISO 3166-2:ID</td>\n",
       "    </tr>\n",
       "    <tr>\n",
       "      <th>27</th>\n",
       "      <td>ウォリス・フツナ</td>\n",
       "      <td>Wallis and Futuna</td>\n",
       "      <td>876</td>\n",
       "      <td>WLF</td>\n",
       "      <td>WF</td>\n",
       "      <td>オセアニア</td>\n",
       "      <td>ISO 3166-2:WF</td>\n",
       "    </tr>\n",
       "    <tr>\n",
       "      <th>28</th>\n",
       "      <td>ウガンダ</td>\n",
       "      <td>Uganda</td>\n",
       "      <td>800</td>\n",
       "      <td>UGA</td>\n",
       "      <td>UG</td>\n",
       "      <td>中央アフリカ</td>\n",
       "      <td>ISO 3166-2:UG</td>\n",
       "    </tr>\n",
       "    <tr>\n",
       "      <th>29</th>\n",
       "      <td>ウクライナ</td>\n",
       "      <td>Ukraine</td>\n",
       "      <td>804</td>\n",
       "      <td>UKR</td>\n",
       "      <td>UA</td>\n",
       "      <td>東ヨーロッパ</td>\n",
       "      <td>ISO 3166-2:UA</td>\n",
       "    </tr>\n",
       "    <tr>\n",
       "      <th>...</th>\n",
       "      <td>...</td>\n",
       "      <td>...</td>\n",
       "      <td>...</td>\n",
       "      <td>...</td>\n",
       "      <td>...</td>\n",
       "      <td>...</td>\n",
       "      <td>...</td>\n",
       "    </tr>\n",
       "    <tr>\n",
       "      <th>219</th>\n",
       "      <td>マン島</td>\n",
       "      <td>Isle of Man</td>\n",
       "      <td>833</td>\n",
       "      <td>IMN</td>\n",
       "      <td>IM</td>\n",
       "      <td>西ヨーロッパ</td>\n",
       "      <td>ISO 3166-2:IM</td>\n",
       "    </tr>\n",
       "    <tr>\n",
       "      <th>220</th>\n",
       "      <td>ミクロネシア連邦</td>\n",
       "      <td>Micronesia, Federated States of</td>\n",
       "      <td>583</td>\n",
       "      <td>FSM</td>\n",
       "      <td>FM</td>\n",
       "      <td>オセアニア</td>\n",
       "      <td>ISO 3166-2:FM</td>\n",
       "    </tr>\n",
       "    <tr>\n",
       "      <th>221</th>\n",
       "      <td>南アフリカ共和国|南アフリカ</td>\n",
       "      <td>South Africa</td>\n",
       "      <td>710</td>\n",
       "      <td>ZAF</td>\n",
       "      <td>ZA</td>\n",
       "      <td>南アフリカ</td>\n",
       "      <td>ISO 3166-2:ZA</td>\n",
       "    </tr>\n",
       "    <tr>\n",
       "      <th>222</th>\n",
       "      <td>南スーダン</td>\n",
       "      <td>South Sudan</td>\n",
       "      <td>728</td>\n",
       "      <td>SSD</td>\n",
       "      <td>SS</td>\n",
       "      <td>東アフリカ</td>\n",
       "      <td>ISO 3166-2:SS</td>\n",
       "    </tr>\n",
       "    <tr>\n",
       "      <th>223</th>\n",
       "      <td>ミャンマー</td>\n",
       "      <td>Myanmar</td>\n",
       "      <td>104</td>\n",
       "      <td>MMR</td>\n",
       "      <td>MM</td>\n",
       "      <td>東南アジア</td>\n",
       "      <td>ISO 3166-2:MM</td>\n",
       "    </tr>\n",
       "    <tr>\n",
       "      <th>224</th>\n",
       "      <td>メキシコ</td>\n",
       "      <td>Mexico</td>\n",
       "      <td>484</td>\n",
       "      <td>MEX</td>\n",
       "      <td>MX</td>\n",
       "      <td>中央アメリカ</td>\n",
       "      <td>ISO 3166-2:MX</td>\n",
       "    </tr>\n",
       "    <tr>\n",
       "      <th>225</th>\n",
       "      <td>モーリシャス</td>\n",
       "      <td>Mauritius</td>\n",
       "      <td>480</td>\n",
       "      <td>MUS</td>\n",
       "      <td>MU</td>\n",
       "      <td>南アフリカ</td>\n",
       "      <td>ISO 3166-2:MU</td>\n",
       "    </tr>\n",
       "    <tr>\n",
       "      <th>226</th>\n",
       "      <td>モーリタニア</td>\n",
       "      <td>Mauritania</td>\n",
       "      <td>478</td>\n",
       "      <td>MRT</td>\n",
       "      <td>MR</td>\n",
       "      <td>西アフリカ</td>\n",
       "      <td>ISO 3166-2:MR</td>\n",
       "    </tr>\n",
       "    <tr>\n",
       "      <th>227</th>\n",
       "      <td>モザンビーク</td>\n",
       "      <td>Mozambique</td>\n",
       "      <td>508</td>\n",
       "      <td>MOZ</td>\n",
       "      <td>MZ</td>\n",
       "      <td>南アフリカ</td>\n",
       "      <td>ISO 3166-2:MZ</td>\n",
       "    </tr>\n",
       "    <tr>\n",
       "      <th>228</th>\n",
       "      <td>モナコ</td>\n",
       "      <td>Monaco</td>\n",
       "      <td>492</td>\n",
       "      <td>MCO</td>\n",
       "      <td>MC</td>\n",
       "      <td>西ヨーロッパ</td>\n",
       "      <td>ISO 3166-2:MC</td>\n",
       "    </tr>\n",
       "    <tr>\n",
       "      <th>229</th>\n",
       "      <td>モルディブ</td>\n",
       "      <td>Maldives</td>\n",
       "      <td>462</td>\n",
       "      <td>MDV</td>\n",
       "      <td>MV</td>\n",
       "      <td>インド洋地域</td>\n",
       "      <td>ISO 3166-2:MV</td>\n",
       "    </tr>\n",
       "    <tr>\n",
       "      <th>230</th>\n",
       "      <td>モルドバ|モルドバ共和国</td>\n",
       "      <td>Moldova, Republic of</td>\n",
       "      <td>498</td>\n",
       "      <td>MDA</td>\n",
       "      <td>MD</td>\n",
       "      <td>東ヨーロッパ</td>\n",
       "      <td>ISO 3166-2:MD</td>\n",
       "    </tr>\n",
       "    <tr>\n",
       "      <th>231</th>\n",
       "      <td>モロッコ</td>\n",
       "      <td>Morocco</td>\n",
       "      <td>504</td>\n",
       "      <td>MAR</td>\n",
       "      <td>MA</td>\n",
       "      <td>北アフリカ</td>\n",
       "      <td>ISO 3166-2:MA</td>\n",
       "    </tr>\n",
       "    <tr>\n",
       "      <th>232</th>\n",
       "      <td>モンゴル国|モンゴル</td>\n",
       "      <td>Mongolia</td>\n",
       "      <td>496</td>\n",
       "      <td>MNG</td>\n",
       "      <td>MN</td>\n",
       "      <td>東アジア</td>\n",
       "      <td>ISO 3166-2:MN</td>\n",
       "    </tr>\n",
       "    <tr>\n",
       "      <th>233</th>\n",
       "      <td>モンテネグロ</td>\n",
       "      <td>Montenegro</td>\n",
       "      <td>499</td>\n",
       "      <td>MNE</td>\n",
       "      <td>ME</td>\n",
       "      <td>東ヨーロッパ</td>\n",
       "      <td>ISO 3166-2:ME</td>\n",
       "    </tr>\n",
       "    <tr>\n",
       "      <th>234</th>\n",
       "      <td>モントセラト</td>\n",
       "      <td>Montserrat</td>\n",
       "      <td>500</td>\n",
       "      <td>MSR</td>\n",
       "      <td>MS</td>\n",
       "      <td>中央アメリカ</td>\n",
       "      <td>ISO 3166-2:MS</td>\n",
       "    </tr>\n",
       "    <tr>\n",
       "      <th>235</th>\n",
       "      <td>ヨルダン</td>\n",
       "      <td>Jordan</td>\n",
       "      <td>400</td>\n",
       "      <td>JOR</td>\n",
       "      <td>JO</td>\n",
       "      <td>中東</td>\n",
       "      <td>ISO 3166-2:JO</td>\n",
       "    </tr>\n",
       "    <tr>\n",
       "      <th>236</th>\n",
       "      <td>ラオス|ラオス人民民主共和国</td>\n",
       "      <td>Lao People's Democratic Republic</td>\n",
       "      <td>418</td>\n",
       "      <td>LAO</td>\n",
       "      <td>LA</td>\n",
       "      <td>東南アジア</td>\n",
       "      <td>ISO 3166-2:LA</td>\n",
       "    </tr>\n",
       "    <tr>\n",
       "      <th>237</th>\n",
       "      <td>ラトビア</td>\n",
       "      <td>Latvia</td>\n",
       "      <td>428</td>\n",
       "      <td>LVA</td>\n",
       "      <td>LV</td>\n",
       "      <td>東ヨーロッパ</td>\n",
       "      <td>ISO 3166-2:LV</td>\n",
       "    </tr>\n",
       "    <tr>\n",
       "      <th>238</th>\n",
       "      <td>リトアニア</td>\n",
       "      <td>Lithuania</td>\n",
       "      <td>440</td>\n",
       "      <td>LTU</td>\n",
       "      <td>LT</td>\n",
       "      <td>東ヨーロッパ</td>\n",
       "      <td>ISO 3166-2:LT</td>\n",
       "    </tr>\n",
       "    <tr>\n",
       "      <th>239</th>\n",
       "      <td>リビア</td>\n",
       "      <td>Libya</td>\n",
       "      <td>434</td>\n",
       "      <td>LBY</td>\n",
       "      <td>LY</td>\n",
       "      <td>北アフリカ</td>\n",
       "      <td>ISO 3166-2:LY</td>\n",
       "    </tr>\n",
       "    <tr>\n",
       "      <th>240</th>\n",
       "      <td>リヒテンシュタイン</td>\n",
       "      <td>Liechtenstein</td>\n",
       "      <td>438</td>\n",
       "      <td>LIE</td>\n",
       "      <td>LI</td>\n",
       "      <td>西ヨーロッパ</td>\n",
       "      <td>ISO 3166-2:LI</td>\n",
       "    </tr>\n",
       "    <tr>\n",
       "      <th>241</th>\n",
       "      <td>リベリア</td>\n",
       "      <td>Liberia</td>\n",
       "      <td>430</td>\n",
       "      <td>LBR</td>\n",
       "      <td>LR</td>\n",
       "      <td>西アフリカ</td>\n",
       "      <td>ISO 3166-2:LR</td>\n",
       "    </tr>\n",
       "    <tr>\n",
       "      <th>242</th>\n",
       "      <td>ルーマニア</td>\n",
       "      <td>Romania</td>\n",
       "      <td>642</td>\n",
       "      <td>ROU</td>\n",
       "      <td>RO</td>\n",
       "      <td>東ヨーロッパ</td>\n",
       "      <td>ISO 3166-2:RO</td>\n",
       "    </tr>\n",
       "    <tr>\n",
       "      <th>243</th>\n",
       "      <td>ルクセンブルク</td>\n",
       "      <td>Luxembourg</td>\n",
       "      <td>442</td>\n",
       "      <td>LUX</td>\n",
       "      <td>LU</td>\n",
       "      <td>西ヨーロッパ</td>\n",
       "      <td>ISO 3166-2:LU</td>\n",
       "    </tr>\n",
       "    <tr>\n",
       "      <th>244</th>\n",
       "      <td>ルワンダ</td>\n",
       "      <td>Rwanda</td>\n",
       "      <td>646</td>\n",
       "      <td>RWA</td>\n",
       "      <td>RW</td>\n",
       "      <td>中央アフリカ</td>\n",
       "      <td>ISO 3166-2:RW</td>\n",
       "    </tr>\n",
       "    <tr>\n",
       "      <th>245</th>\n",
       "      <td>レソト</td>\n",
       "      <td>Lesotho</td>\n",
       "      <td>426</td>\n",
       "      <td>LSO</td>\n",
       "      <td>LS</td>\n",
       "      <td>南アフリカ</td>\n",
       "      <td>ISO 3166-2:LS</td>\n",
       "    </tr>\n",
       "    <tr>\n",
       "      <th>246</th>\n",
       "      <td>レバノン</td>\n",
       "      <td>Lebanon</td>\n",
       "      <td>422</td>\n",
       "      <td>LBN</td>\n",
       "      <td>LB</td>\n",
       "      <td>中東</td>\n",
       "      <td>ISO 3166-2:LB</td>\n",
       "    </tr>\n",
       "    <tr>\n",
       "      <th>247</th>\n",
       "      <td>レユニオン</td>\n",
       "      <td>Réunion</td>\n",
       "      <td>638</td>\n",
       "      <td>REU</td>\n",
       "      <td>RE</td>\n",
       "      <td>インド洋地域</td>\n",
       "      <td>ISO 3166-2:RE</td>\n",
       "    </tr>\n",
       "    <tr>\n",
       "      <th>248</th>\n",
       "      <td>ロシア|ロシア連邦</td>\n",
       "      <td>Russian Federation</td>\n",
       "      <td>643</td>\n",
       "      <td>RUS</td>\n",
       "      <td>RU</td>\n",
       "      <td>ロシア</td>\n",
       "      <td>ISO 3166-2:RU</td>\n",
       "    </tr>\n",
       "  </tbody>\n",
       "</table>\n",
       "<p>249 rows × 7 columns</p>\n",
       "</div>"
      ],
      "text/plain": [
       "               国・地域名                               英語名    数   三字  二字      場所  \\\n",
       "0             アイスランド                           Iceland  352  ISL  IS  北ヨーロッパ   \n",
       "1             アイルランド                           Ireland  372  IRL  IE  西ヨーロッパ   \n",
       "2           アゼルバイジャン                        Azerbaijan   31  AZE  AZ  東ヨーロッパ   \n",
       "3            アフガニスタン                       Afghanistan    4  AFG  AF      中東   \n",
       "4            アメリカ合衆国                     United States  840  USA  US   北アメリカ   \n",
       "5       アメリカ領ヴァージン諸島              Virgin Islands, U.S.  850  VIR  VI  中央アメリカ   \n",
       "6           アメリカ領サモア                    American Samoa   16  ASM  AS   オセアニア   \n",
       "7           アラブ首長国連邦              United Arab Emirates  784  ARE  AE      中東   \n",
       "8             アルジェリア                           Algeria   12  DZA  DZ   北アフリカ   \n",
       "9             アルゼンチン                         Argentina   32  ARG  AR   南アメリカ   \n",
       "10               アルバ                             Aruba  533  ABW  AW  中央アメリカ   \n",
       "11             アルバニア                           Albania    8  ALB  AL  東ヨーロッパ   \n",
       "12             アルメニア                           Armenia   51  ARM  AM  東ヨーロッパ   \n",
       "13              アンギラ                          Anguilla  660  AIA  AI  中央アメリカ   \n",
       "14              アンゴラ                            Angola   24  AGO  AO   南アフリカ   \n",
       "15      アンティグア・バーブーダ               Antigua and Barbuda   28  ATG  AG  中央アメリカ   \n",
       "16              アンドラ                           Andorra   20  AND  AD  西ヨーロッパ   \n",
       "17              イエメン                             Yemen  887  YEM  YE      中東   \n",
       "18              イギリス                    United Kingdom  826  GBR  GB  西ヨーロッパ   \n",
       "19       イギリス領インド洋地域    British Indian Ocean Territory   86  IOT  IO  インド洋地域   \n",
       "20      イギリス領ヴァージン諸島           Virgin Islands, British   92  VGB  VG  中央アメリカ   \n",
       "21             イスラエル                            Israel  376  ISR  IL      中東   \n",
       "22              イタリア                             Italy  380  ITA  IT  西ヨーロッパ   \n",
       "23               イラク                              Iraq  368  IRQ  IQ      中東   \n",
       "24   イラン|イラン・イスラム共和国         Iran, Islamic Republic of  364  IRN  IR      中東   \n",
       "25               インド                             India  356  IND  IN    南アジア   \n",
       "26            インドネシア                         Indonesia  360  IDN  ID   東南アジア   \n",
       "27          ウォリス・フツナ                 Wallis and Futuna  876  WLF  WF   オセアニア   \n",
       "28              ウガンダ                            Uganda  800  UGA  UG  中央アフリカ   \n",
       "29             ウクライナ                           Ukraine  804  UKR  UA  東ヨーロッパ   \n",
       "..               ...                               ...  ...  ...  ..     ...   \n",
       "219              マン島                       Isle of Man  833  IMN  IM  西ヨーロッパ   \n",
       "220         ミクロネシア連邦   Micronesia, Federated States of  583  FSM  FM   オセアニア   \n",
       "221   南アフリカ共和国|南アフリカ                      South Africa  710  ZAF  ZA   南アフリカ   \n",
       "222            南スーダン                       South Sudan  728  SSD  SS   東アフリカ   \n",
       "223            ミャンマー                           Myanmar  104  MMR  MM   東南アジア   \n",
       "224             メキシコ                            Mexico  484  MEX  MX  中央アメリカ   \n",
       "225           モーリシャス                         Mauritius  480  MUS  MU   南アフリカ   \n",
       "226           モーリタニア                        Mauritania  478  MRT  MR   西アフリカ   \n",
       "227           モザンビーク                        Mozambique  508  MOZ  MZ   南アフリカ   \n",
       "228              モナコ                            Monaco  492  MCO  MC  西ヨーロッパ   \n",
       "229            モルディブ                          Maldives  462  MDV  MV  インド洋地域   \n",
       "230     モルドバ|モルドバ共和国              Moldova, Republic of  498  MDA  MD  東ヨーロッパ   \n",
       "231             モロッコ                           Morocco  504  MAR  MA   北アフリカ   \n",
       "232       モンゴル国|モンゴル                          Mongolia  496  MNG  MN    東アジア   \n",
       "233           モンテネグロ                        Montenegro  499  MNE  ME  東ヨーロッパ   \n",
       "234           モントセラト                        Montserrat  500  MSR  MS  中央アメリカ   \n",
       "235             ヨルダン                            Jordan  400  JOR  JO      中東   \n",
       "236   ラオス|ラオス人民民主共和国  Lao People's Democratic Republic  418  LAO  LA   東南アジア   \n",
       "237             ラトビア                            Latvia  428  LVA  LV  東ヨーロッパ   \n",
       "238            リトアニア                         Lithuania  440  LTU  LT  東ヨーロッパ   \n",
       "239              リビア                             Libya  434  LBY  LY   北アフリカ   \n",
       "240        リヒテンシュタイン                     Liechtenstein  438  LIE  LI  西ヨーロッパ   \n",
       "241             リベリア                           Liberia  430  LBR  LR   西アフリカ   \n",
       "242            ルーマニア                           Romania  642  ROU  RO  東ヨーロッパ   \n",
       "243          ルクセンブルク                        Luxembourg  442  LUX  LU  西ヨーロッパ   \n",
       "244             ルワンダ                            Rwanda  646  RWA  RW  中央アフリカ   \n",
       "245              レソト                           Lesotho  426  LSO  LS   南アフリカ   \n",
       "246             レバノン                           Lebanon  422  LBN  LB      中東   \n",
       "247            レユニオン                           Réunion  638  REU  RE  インド洋地域   \n",
       "248        ロシア|ロシア連邦                Russian Federation  643  RUS  RU     ロシア   \n",
       "\n",
       "             各行政区分  \n",
       "0    ISO 3166-2:IS  \n",
       "1    ISO 3166-2:IE  \n",
       "2    ISO 3166-2:AZ  \n",
       "3    ISO 3166-2:AF  \n",
       "4    ISO 3166-2:US  \n",
       "5    ISO 3166-2:VI  \n",
       "6    ISO 3166-2:AS  \n",
       "7    ISO 3166-2:AE  \n",
       "8    ISO 3166-2:DZ  \n",
       "9    ISO 3166-2:AR  \n",
       "10   ISO 3166-2:AW  \n",
       "11   ISO 3166-2:AL  \n",
       "12   ISO 3166-2:AM  \n",
       "13   ISO 3166-2:AI  \n",
       "14   ISO 3166-2:AO  \n",
       "15   ISO 3166-2:AG  \n",
       "16   ISO 3166-2:AD  \n",
       "17   ISO 3166-2:YE  \n",
       "18   ISO 3166-2:GB  \n",
       "19   ISO 3166-2:IO  \n",
       "20   ISO 3166-2:VG  \n",
       "21   ISO 3166-2:IL  \n",
       "22   ISO 3166-2:IT  \n",
       "23   ISO 3166-2:IQ  \n",
       "24   ISO 3166-2:IR  \n",
       "25   ISO 3166-2:IN  \n",
       "26   ISO 3166-2:ID  \n",
       "27   ISO 3166-2:WF  \n",
       "28   ISO 3166-2:UG  \n",
       "29   ISO 3166-2:UA  \n",
       "..             ...  \n",
       "219  ISO 3166-2:IM  \n",
       "220  ISO 3166-2:FM  \n",
       "221  ISO 3166-2:ZA  \n",
       "222  ISO 3166-2:SS  \n",
       "223  ISO 3166-2:MM  \n",
       "224  ISO 3166-2:MX  \n",
       "225  ISO 3166-2:MU  \n",
       "226  ISO 3166-2:MR  \n",
       "227  ISO 3166-2:MZ  \n",
       "228  ISO 3166-2:MC  \n",
       "229  ISO 3166-2:MV  \n",
       "230  ISO 3166-2:MD  \n",
       "231  ISO 3166-2:MA  \n",
       "232  ISO 3166-2:MN  \n",
       "233  ISO 3166-2:ME  \n",
       "234  ISO 3166-2:MS  \n",
       "235  ISO 3166-2:JO  \n",
       "236  ISO 3166-2:LA  \n",
       "237  ISO 3166-2:LV  \n",
       "238  ISO 3166-2:LT  \n",
       "239  ISO 3166-2:LY  \n",
       "240  ISO 3166-2:LI  \n",
       "241  ISO 3166-2:LR  \n",
       "242  ISO 3166-2:RO  \n",
       "243  ISO 3166-2:LU  \n",
       "244  ISO 3166-2:RW  \n",
       "245  ISO 3166-2:LS  \n",
       "246  ISO 3166-2:LB  \n",
       "247  ISO 3166-2:RE  \n",
       "248  ISO 3166-2:RU  \n",
       "\n",
       "[249 rows x 7 columns]"
      ]
     },
     "execution_count": 13,
     "metadata": {},
     "output_type": "execute_result"
    }
   ],
   "source": [
    "df"
   ]
  },
  {
   "cell_type": "code",
   "execution_count": 14,
   "metadata": {
    "scrolled": true
   },
   "outputs": [
    {
     "data": {
      "text/plain": [
       "{'Afghanistan',\n",
       " 'Albania',\n",
       " 'Algeria',\n",
       " 'American Samoa',\n",
       " 'Andorra',\n",
       " 'Angola',\n",
       " 'Anguilla',\n",
       " 'Antarctica',\n",
       " 'Antigua and Barbuda',\n",
       " 'Argentina',\n",
       " 'Armenia',\n",
       " 'Aruba',\n",
       " 'Australia',\n",
       " 'Austria',\n",
       " 'Azerbaijan',\n",
       " 'Bahamas',\n",
       " 'Bahrain',\n",
       " 'Bangladesh',\n",
       " 'Barbados',\n",
       " 'Belarus',\n",
       " 'Belgium',\n",
       " 'Belize',\n",
       " 'Benin',\n",
       " 'Bermuda',\n",
       " 'Bhutan',\n",
       " 'Bolivia Plurinational State of',\n",
       " 'Bonaire Saint Eustatius and Saba',\n",
       " 'Bosnia and Herzegovina',\n",
       " 'Botswana',\n",
       " 'Bouvet Island',\n",
       " 'Brazil',\n",
       " 'British Indian Ocean Territory',\n",
       " 'Brunei Darussalam',\n",
       " 'Bulgaria',\n",
       " 'Burkina Faso',\n",
       " 'Burundi',\n",
       " 'Cambodia',\n",
       " 'Cameroon',\n",
       " 'Canada',\n",
       " 'Cape Verde',\n",
       " 'Cayman Islands',\n",
       " 'Central African Republic',\n",
       " 'Chad',\n",
       " 'Chile',\n",
       " 'China',\n",
       " 'Christmas Island',\n",
       " 'Cocos Keeling Islands',\n",
       " 'Colombia',\n",
       " 'Comoros',\n",
       " 'Congo',\n",
       " 'Congo the Democratic Republic of the',\n",
       " 'Cook Islands',\n",
       " 'Costa Rica',\n",
       " 'Croatia',\n",
       " 'Cuba',\n",
       " 'Curaçao',\n",
       " 'Cyprus',\n",
       " 'Czech Republic',\n",
       " \"Côte d'Ivoire\",\n",
       " 'Denmark',\n",
       " 'Djibouti',\n",
       " 'Dominica',\n",
       " 'Dominican Republic',\n",
       " 'Ecuador',\n",
       " 'Egypt',\n",
       " 'El Salvador',\n",
       " 'Equatorial Guinea',\n",
       " 'Eritrea',\n",
       " 'Estonia',\n",
       " 'Ethiopia',\n",
       " 'Falkland Islands Malvinas',\n",
       " 'Faroe Islands',\n",
       " 'Fiji',\n",
       " 'Finland',\n",
       " 'France',\n",
       " 'French Guiana',\n",
       " 'French Polynesia',\n",
       " 'French Southern Territories',\n",
       " 'Gabon',\n",
       " 'Gambia',\n",
       " 'Georgia',\n",
       " 'Germany',\n",
       " 'Ghana',\n",
       " 'Gibraltar',\n",
       " 'Greece',\n",
       " 'Greenland',\n",
       " 'Grenada',\n",
       " 'Guadeloupe',\n",
       " 'Guam',\n",
       " 'Guatemala',\n",
       " 'Guernsey',\n",
       " 'Guinea',\n",
       " 'Guinea-Bissau',\n",
       " 'Guyana',\n",
       " 'Haiti',\n",
       " 'Heard Island and McDonald Islands',\n",
       " 'Holy See Vatican City State',\n",
       " 'Honduras',\n",
       " 'Hong Kong',\n",
       " 'Hungary',\n",
       " 'Iceland',\n",
       " 'India',\n",
       " 'Indonesia',\n",
       " 'Iran Islamic Republic of',\n",
       " 'Iraq',\n",
       " 'Ireland',\n",
       " 'Isle of Man',\n",
       " 'Israel',\n",
       " 'Italy',\n",
       " 'Jamaica',\n",
       " 'Japan',\n",
       " 'Jersey',\n",
       " 'Jordan',\n",
       " 'Kazakhstan',\n",
       " 'Kenya',\n",
       " 'Kiribati',\n",
       " \"Korea Democratic People's Republic of\",\n",
       " 'Korea Republic of',\n",
       " 'Kuwait',\n",
       " 'Kyrgyzstan',\n",
       " \"Lao People's Democratic Republic\",\n",
       " 'Latvia',\n",
       " 'Lebanon',\n",
       " 'Lesotho',\n",
       " 'Liberia',\n",
       " 'Libya',\n",
       " 'Liechtenstein',\n",
       " 'Lithuania',\n",
       " 'Luxembourg',\n",
       " 'Macao',\n",
       " 'Macedonia the former Yugoslav Republic of',\n",
       " 'Madagascar',\n",
       " 'Malawi',\n",
       " 'Malaysia',\n",
       " 'Maldives',\n",
       " 'Mali',\n",
       " 'Malta',\n",
       " 'Marshall Islands',\n",
       " 'Martinique',\n",
       " 'Mauritania',\n",
       " 'Mauritius',\n",
       " 'Mayotte',\n",
       " 'Mexico',\n",
       " 'Micronesia Federated States of',\n",
       " 'Moldova Republic of',\n",
       " 'Monaco',\n",
       " 'Mongolia',\n",
       " 'Montenegro',\n",
       " 'Montserrat',\n",
       " 'Morocco',\n",
       " 'Mozambique',\n",
       " 'Myanmar',\n",
       " 'Namibia',\n",
       " 'Nauru',\n",
       " 'Nepal',\n",
       " 'Netherlands',\n",
       " 'New Caledonia',\n",
       " 'New Zealand',\n",
       " 'Nicaragua',\n",
       " 'Niger',\n",
       " 'Nigeria',\n",
       " 'Niue',\n",
       " 'Norfolk Island',\n",
       " 'Northern Mariana Islands',\n",
       " 'Norway',\n",
       " 'Oman',\n",
       " 'Pakistan',\n",
       " 'Palau',\n",
       " 'Palestinian Territory Occupied',\n",
       " 'Panama',\n",
       " 'Papua New Guinea',\n",
       " 'Paraguay',\n",
       " 'Peru',\n",
       " 'Philippines',\n",
       " 'Pitcairn',\n",
       " 'Poland',\n",
       " 'Portugal',\n",
       " 'Puerto Rico',\n",
       " 'Qatar',\n",
       " 'Romania',\n",
       " 'Russian Federation',\n",
       " 'Rwanda',\n",
       " 'Réunion',\n",
       " 'Saint Barthélemy',\n",
       " 'Saint Helena Ascension and Tristan da Cunha',\n",
       " 'Saint Kitts and Nevis',\n",
       " 'Saint Lucia',\n",
       " 'Saint Martin French part',\n",
       " 'Saint Pierre and Miquelon',\n",
       " 'Saint Vincent and the Grenadines',\n",
       " 'Samoa',\n",
       " 'San Marino',\n",
       " 'Sao Tome and Principe',\n",
       " 'Saudi Arabia',\n",
       " 'Senegal',\n",
       " 'Serbia',\n",
       " 'Seychelles',\n",
       " 'Sierra Leone',\n",
       " 'Singapore',\n",
       " 'Sint Maarten Dutch part',\n",
       " 'Slovakia',\n",
       " 'Slovenia',\n",
       " 'Solomon Islands',\n",
       " 'Somalia',\n",
       " 'South Africa',\n",
       " 'South Georgia and the South Sandwich Islands',\n",
       " 'South Sudan',\n",
       " 'Spain',\n",
       " 'Sri Lanka',\n",
       " 'Sudan',\n",
       " 'Suriname',\n",
       " 'Svalbard and Jan Mayen',\n",
       " 'Swaziland',\n",
       " 'Sweden',\n",
       " 'Switzerland',\n",
       " 'Syrian Arab Republic',\n",
       " 'Taiwan Province of China',\n",
       " 'Tajikistan',\n",
       " 'Tanzania United Republic of',\n",
       " 'Thailand',\n",
       " 'Timor-Leste',\n",
       " 'Togo',\n",
       " 'Tokelau',\n",
       " 'Tonga',\n",
       " 'Trinidad and Tobago',\n",
       " 'Tunisia',\n",
       " 'Turkey',\n",
       " 'Turkmenistan',\n",
       " 'Turks and Caicos Islands',\n",
       " 'Tuvalu',\n",
       " 'Uganda',\n",
       " 'Ukraine',\n",
       " 'United Arab Emirates',\n",
       " 'United Kingdom',\n",
       " 'United States',\n",
       " 'United States Minor Outlying Islands',\n",
       " 'Uruguay',\n",
       " 'Uzbekistan',\n",
       " 'Vanuatu',\n",
       " 'Venezuela Bolivarian Republic of',\n",
       " 'Viet Nam',\n",
       " 'Virgin Islands British',\n",
       " 'Virgin Islands U.S',\n",
       " 'Wallis and Futuna',\n",
       " 'Western Sahara',\n",
       " 'Yemen',\n",
       " 'Zambia',\n",
       " 'Zimbabwe',\n",
       " 'Åland Islands'}"
      ]
     },
     "execution_count": 14,
     "metadata": {},
     "output_type": "execute_result"
    }
   ],
   "source": [
    "country_names = set([\" \".join([part.strip().strip(\".,!?;:()[]'\\\"\") for part in country_name.split(\" \")]) for country_name in df[\"英語名\"].to_list()])\n",
    "country_names"
   ]
  },
  {
   "cell_type": "code",
   "execution_count": 15,
   "metadata": {},
   "outputs": [],
   "source": [
    "with open(\"output_80.txt\", mode=\"r\") as f:\n",
    "     text = f.readlines()"
   ]
  },
  {
   "cell_type": "code",
   "execution_count": 16,
   "metadata": {
    "scrolled": false
   },
   "outputs": [],
   "source": [
    "replaced_lines = []\n",
    "\n",
    "for line in text:\n",
    "    line = line.strip()\n",
    "    for country in country_names:\n",
    "        if country in line:\n",
    "            line = line.replace(country, country.replace(\" \", \"_\"))\n",
    "    replaced_lines.append(line)"
   ]
  },
  {
   "cell_type": "code",
   "execution_count": 17,
   "metadata": {},
   "outputs": [
    {
     "data": {
      "text/plain": [
       "['Anarchism',\n",
       " '',\n",
       " 'Anarchism is a political philosophy that advocates stateless societies often defined as self-governed voluntary institutions but that several authors have defined as more specific institutions based on non-hierarchical free associations Anarchism holds the state to be undesirable unnecessary or harmful While anti-statism is central anarchism entails opposing authority or hierarchical organisation in the conduct of human relations including but not limited to the state system',\n",
       " 'As a subtle and anti-dogmatic philosophy anarchism draws on many currents of thought and strategy Anarchism does not offer a fixed body of doctrine from a single particular world view instead fluxing and flowing as a philosophy There are many types and traditions of anarchism not all of which are mutually exclusive Anarchist schools of thought can differ fundamentally supporting anything from extreme individualism to complete collectivism Strains of anarchism have often been divided into the categories of social and individualist anarchism or similar dual classifications Anarchism is usually considered a radical left-wing ideology and much of anarchist economics and anarchist legal philosophy reflect anti-authoritarian interpretations of communism collectivism syndicalism mutualism or participatory economics',\n",
       " 'The central tendency of anarchism as a social movement has been represented by anarcho-communism and anarcho-syndicalism with individualist anarchism being primarily a literary phenomenon which nevertheless did have an impact on the bigger currents and individualists have also participated in large anarchist organisations Many anarchists oppose all forms of aggression supporting self-defense or non-violence anarcho-pacifism while others have supported the use of some coercive measures including violent revolution and propaganda of the deed as means to achieve anarchist ends']"
      ]
     },
     "execution_count": 17,
     "metadata": {},
     "output_type": "execute_result"
    }
   ],
   "source": [
    "replaced_lines[:5]"
   ]
  },
  {
   "cell_type": "code",
   "execution_count": 18,
   "metadata": {},
   "outputs": [],
   "source": [
    "with open(\"output_81.txt\", mode=\"w\") as f:\n",
    "    f.write(\"\\n\".join(replaced_lines))"
   ]
  },
  {
   "cell_type": "code",
   "execution_count": 19,
   "metadata": {},
   "outputs": [
    {
     "name": "stdout",
     "output_type": "stream",
     "text": [
      "Anarchism\r\n",
      "\r\n",
      "Anarchism is a political philosophy that advocates stateless societies often defined as self-governed voluntary institutions but that several authors have defined as more specific institutions based on non-hierarchical free associations Anarchism holds the state to be undesirable unnecessary or harmful While anti-statism is central anarchism entails opposing authority or hierarchical organisation in the conduct of human relations including but not limited to the state system\r\n",
      "As a subtle and anti-dogmatic philosophy anarchism draws on many currents of thought and strategy Anarchism does not offer a fixed body of doctrine from a single particular world view instead fluxing and flowing as a philosophy There are many types and traditions of anarchism not all of which are mutually exclusive Anarchist schools of thought can differ fundamentally supporting anything from extreme individualism to complete collectivism Strains of anarchism have often been divided into the categories of social and individualist anarchism or similar dual classifications Anarchism is usually considered a radical left-wing ideology and much of anarchist economics and anarchist legal philosophy reflect anti-authoritarian interpretations of communism collectivism syndicalism mutualism or participatory economics\r\n",
      "The central tendency of anarchism as a social movement has been represented by anarcho-communism and anarcho-syndicalism with individualist anarchism being primarily a literary phenomenon which nevertheless did have an impact on the bigger currents and individualists have also participated in large anarchist organisations Many anarchists oppose all forms of aggression supporting self-defense or non-violence anarcho-pacifism while others have supported the use of some coercive measures including violent revolution and propaganda of the deed as means to achieve anarchist ends\r\n"
     ]
    }
   ],
   "source": [
    "! head -n 5 output_81.txt"
   ]
  },
  {
   "cell_type": "markdown",
   "metadata": {},
   "source": [
    "## 82. 文脈の抽出\n",
    "81で作成したコーパス中に出現するすべての単語tに関して，単語tと文脈語cのペアをタブ区切り形式ですべて書き出せ．ただし，文脈語の定義は次の通りとする．\n",
    "\n",
    "- ある単語$t$の前後$d$単語を文脈語$c$として抽出する（ただし，文脈語に単語$t$そのものは含まない）\n",
    "- 単語$t$を選ぶ度に，文脈幅$d$は${1,2,3,4,5}$の範囲でランダムに決める．"
   ]
  },
  {
   "cell_type": "code",
   "execution_count": 20,
   "metadata": {},
   "outputs": [],
   "source": [
    "with open(\"output_81.txt\", mode=\"r\") as f:\n",
    "     text = f.readlines()"
   ]
  },
  {
   "cell_type": "code",
   "execution_count": 21,
   "metadata": {},
   "outputs": [],
   "source": [
    "from random import randint"
   ]
  },
  {
   "cell_type": "code",
   "execution_count": 22,
   "metadata": {},
   "outputs": [],
   "source": [
    "f = open(\"output_82.tsv\", mode=\"w\")\n",
    "\n",
    "for line in text:\n",
    "    words = line.strip().split(\" \")\n",
    "    words_num = len(words)\n",
    "    for i in range(words_num):\n",
    "        d = randint(1, 5)\n",
    "        for j in range(-d, d, 1):\n",
    "            if j == 0:\n",
    "                continue\n",
    "            if 0 <= i + j < words_num:\n",
    "                f.write(\"%s\\t%s\\n\" % (words[i], words[i + j]))\n",
    "f.close()"
   ]
  },
  {
   "cell_type": "code",
   "execution_count": 23,
   "metadata": {},
   "outputs": [
    {
     "name": "stdout",
     "output_type": "stream",
     "text": [
      "Anarchism\tis\r\n",
      "is\tAnarchism\r\n",
      "a\tis\r\n",
      "political\tAnarchism\r\n",
      "political\tis\r\n"
     ]
    }
   ],
   "source": [
    "! head -n 5 output_82.tsv"
   ]
  },
  {
   "cell_type": "markdown",
   "metadata": {},
   "source": [
    "## 83. 単語／文脈の頻度の計測\n",
    "82の出力を利用し，以下の出現分布，および定数を求めよ．\n",
    "\n",
    "- $f(t,c)$: 単語$t$と文脈語$c$の共起回数\n",
    "- $f(t,∗)$: 単語$t$の出現回数\n",
    "- $f(∗,c)$: 文脈語$c$の出現回数\n",
    "- $N$: 単語と文脈語のペアの総出現回数"
   ]
  },
  {
   "cell_type": "code",
   "execution_count": 24,
   "metadata": {},
   "outputs": [],
   "source": [
    "with open(\"output_82.tsv\", mode=\"r\") as f:\n",
    "     text = f.readlines()"
   ]
  },
  {
   "cell_type": "code",
   "execution_count": 25,
   "metadata": {},
   "outputs": [],
   "source": [
    "from collections import Counter"
   ]
  },
  {
   "cell_type": "code",
   "execution_count": 26,
   "metadata": {},
   "outputs": [],
   "source": [
    "t_counter, c_counter, tc_counter = Counter(), Counter(), Counter()"
   ]
  },
  {
   "cell_type": "code",
   "execution_count": 27,
   "metadata": {},
   "outputs": [],
   "source": [
    "for batch_start in range(0, len(text), 10000):\n",
    "    batch_end = batch_start + 10000 if batch_start + 10000 < len(text) else len(text)\n",
    "    t_list, c_list, tc_list  = [], [], []\n",
    "    for line in text[batch_start:batch_end]:\n",
    "        try:\n",
    "            tc = line.strip().split(\"\\t\")\n",
    "            t_list.append(tc[0])\n",
    "            c_list.append(tc[1])\n",
    "            tc_list.append(line.strip())\n",
    "        except IndexError:\n",
    "            print(tc)\n",
    "    t_counter.update(t_list)\n",
    "    c_counter.update(c_list)\n",
    "    tc_counter.update(tc_list)"
   ]
  },
  {
   "cell_type": "code",
   "execution_count": 28,
   "metadata": {},
   "outputs": [],
   "source": [
    "import joblib"
   ]
  },
  {
   "cell_type": "code",
   "execution_count": 29,
   "metadata": {},
   "outputs": [
    {
     "data": {
      "text/plain": [
       "['tc_counter.pcl']"
      ]
     },
     "execution_count": 29,
     "metadata": {},
     "output_type": "execute_result"
    }
   ],
   "source": [
    "joblib.dump(t_counter, \"t_counter.pcl\", compress=3)\n",
    "joblib.dump(c_counter, \"c_counter.pcl\", compress=3)\n",
    "joblib.dump(tc_counter, \"tc_counter.pcl\", compress=3)"
   ]
  },
  {
   "cell_type": "code",
   "execution_count": 30,
   "metadata": {},
   "outputs": [
    {
     "data": {
      "text/plain": [
       "56808555"
      ]
     },
     "execution_count": 30,
     "metadata": {},
     "output_type": "execute_result"
    }
   ],
   "source": [
    "N = len(text)\n",
    "N"
   ]
  },
  {
   "cell_type": "markdown",
   "metadata": {},
   "source": [
    "## 84. 単語文脈行列の作成\n",
    "83の出力を利用し，単語文脈行列Xを作成せよ．ただし，行列Xの各要素Xtcは次のように定義する．\n",
    "\n",
    "$f(t,c)≥10$ならば，$X_{tc}=PPMI(t,c)=max{\\log \\frac{N×f(t,c)}{f(t,∗)×f(∗,c)},0}$\n",
    "\n",
    "$f(t,c)<10$ならば，$X_{tc}=0$\n",
    "\n",
    "ここで，PPMI(t,c)はPositive Pointwise Mutual Information（正の相互情報量）と呼ばれる統計量である．なお，行列Xの行数・列数は数百万オーダとなり，行列のすべての要素を主記憶上に載せることは無理なので注意すること．幸い，行列Xのほとんどの要素は0になるので，非0の要素だけを書き出せばよい．"
   ]
  },
  {
   "cell_type": "code",
   "execution_count": 31,
   "metadata": {},
   "outputs": [],
   "source": [
    "from scipy import sparse"
   ]
  },
  {
   "cell_type": "code",
   "execution_count": 32,
   "metadata": {},
   "outputs": [],
   "source": [
    "from collections import OrderedDict"
   ]
  },
  {
   "cell_type": "code",
   "execution_count": 33,
   "metadata": {},
   "outputs": [],
   "source": [
    "size_t = len(t_counter)\n",
    "size_c = len(c_counter)\n",
    "matrix_x = sparse.lil_matrix((size_t, size_c))"
   ]
  },
  {
   "cell_type": "code",
   "execution_count": 34,
   "metadata": {},
   "outputs": [],
   "source": [
    "ordered_t_index = OrderedDict([(t, i) for i, t in enumerate(t_counter)])\n",
    "ordered_c_index = OrderedDict([(c, i) for i, c in enumerate(c_counter)])\n",
    "ordered_tc_counter = OrderedDict(tc_counter)"
   ]
  },
  {
   "cell_type": "code",
   "execution_count": 35,
   "metadata": {},
   "outputs": [],
   "source": [
    "import math"
   ]
  },
  {
   "cell_type": "code",
   "execution_count": 40,
   "metadata": {},
   "outputs": [],
   "source": [
    "for tc in tc_counter.keys():\n",
    "    t, c = tc.split(\"\\t\")\n",
    "    if tc_counter[tc] >= 10:\n",
    "        matrix_x[ordered_t_index[t], ordered_c_index[c]] = max(math.log((N * tc_counter[tc]) / (t_counter[t] * c_counter[c])), 0)"
   ]
  },
  {
   "cell_type": "code",
   "execution_count": 41,
   "metadata": {},
   "outputs": [
    {
     "data": {
      "text/plain": [
       "['ordered_c_index.pcl']"
      ]
     },
     "execution_count": 41,
     "metadata": {},
     "output_type": "execute_result"
    }
   ],
   "source": [
    "joblib.dump(matrix_x, \"matrix_x.pcl\", compress=3)\n",
    "joblib.dump(ordered_t_index, \"ordered_t_index.pcl\", compress=3)\n",
    "joblib.dump(ordered_c_index, \"ordered_c_index.pcl\", compress=3)"
   ]
  },
  {
   "cell_type": "markdown",
   "metadata": {},
   "source": [
    "## 85. 主成分分析による次元圧縮\n",
    "84で得られた単語文脈行列に対して，主成分分析を適用し，単語の意味ベクトルを300次元に圧縮せよ．"
   ]
  },
  {
   "cell_type": "code",
   "execution_count": 42,
   "metadata": {},
   "outputs": [],
   "source": [
    "from sklearn.decomposition import TruncatedSVD"
   ]
  },
  {
   "cell_type": "code",
   "execution_count": 43,
   "metadata": {},
   "outputs": [],
   "source": [
    "matrix_x = matrix_x.tocsr()"
   ]
  },
  {
   "cell_type": "code",
   "execution_count": 44,
   "metadata": {},
   "outputs": [],
   "source": [
    "truncated_svd = TruncatedSVD(300)"
   ]
  },
  {
   "cell_type": "code",
   "execution_count": 45,
   "metadata": {},
   "outputs": [],
   "source": [
    "vectors = truncated_svd.fit_transform(matrix_x)"
   ]
  },
  {
   "cell_type": "markdown",
   "metadata": {},
   "source": [
    "## 86. 単語ベクトルの表示\n",
    "85で得た単語の意味ベクトルを読み込み，\"United States\"のベクトルを表示せよ．ただし，\"United States\"は内部的には\"United_States\"と表現されていることに注意せよ．"
   ]
  },
  {
   "cell_type": "code",
   "execution_count": 46,
   "metadata": {
    "scrolled": true
   },
   "outputs": [
    {
     "data": {
      "text/plain": [
       "array([ 2.96037375e+00, -9.42029649e-01,  2.63571201e-01,  5.53874168e+00,\n",
       "        3.04979898e+00, -1.46944730e+00, -7.49094420e-01, -1.67205209e+00,\n",
       "       -6.14267613e-01, -6.04453060e-01,  2.31791195e-02,  1.13384116e+00,\n",
       "       -9.15321109e-01, -1.41221918e+00, -8.61060732e-01,  1.15377350e+00,\n",
       "        1.10576071e+00,  1.12141075e+00, -4.39001067e+00, -1.09708839e+00,\n",
       "       -2.85223890e-01,  8.16317813e-01,  6.56072030e-03, -1.64780144e-01,\n",
       "        2.31237454e+00,  1.34190585e+00,  1.73915547e+00, -2.54589787e-01,\n",
       "       -1.63157455e-01, -3.75725397e-01, -5.46964301e-01,  3.01143309e+00,\n",
       "       -3.06435040e+00, -1.35201791e+00, -2.64528595e+00,  1.34145373e+00,\n",
       "        5.77800957e-02,  4.87630482e-02,  1.12125236e+00, -2.31292363e-01,\n",
       "       -1.21426452e+00, -2.57420718e-02, -1.62385738e+00, -1.25133781e+00,\n",
       "        1.29856404e+00, -1.25999451e+00, -6.23899254e-03,  5.60531937e-01,\n",
       "       -9.92199323e-01, -3.55572020e-01,  1.39557672e+00, -8.25212051e-01,\n",
       "        8.96751098e-01, -1.00973142e+00,  4.36107790e-01,  9.98314623e-01,\n",
       "        2.77077609e-01, -7.41299674e-01, -7.81042633e-01, -1.02991462e+00,\n",
       "        6.41767281e-02, -9.58911629e-01,  4.17406767e-01, -2.05156023e-01,\n",
       "        1.35093626e+00,  6.43300593e-01, -2.10087611e-01,  9.83186421e-01,\n",
       "       -1.12112347e+00, -9.19610414e-02, -5.64508673e-01, -1.68798467e+00,\n",
       "       -5.27321578e-01, -2.18672505e+00,  7.99319215e-01, -4.71649350e-01,\n",
       "       -2.55919252e-01, -1.44510205e+00,  1.68591597e+00, -8.84523480e-01,\n",
       "        1.43157856e-01,  7.31464956e-01, -1.35384377e-02,  1.73462939e+00,\n",
       "        6.16074119e-01,  2.98587684e+00, -9.56028564e-02, -8.66355479e-01,\n",
       "       -1.60458445e+00,  5.54255981e-01, -6.36564528e-02, -4.08725515e-01,\n",
       "       -1.44976680e+00, -5.53869515e-02,  5.22131755e-01, -1.31495070e-01,\n",
       "       -3.19082473e-01, -7.37108479e-01, -9.49020372e-01,  2.12166345e+00,\n",
       "       -7.35842915e-02,  1.80340107e-01,  7.56223178e-01, -3.94729936e-01,\n",
       "        7.63592756e-01,  2.30931898e-01, -9.60951738e-01,  1.09605959e+00,\n",
       "        1.57428346e-01,  6.08451896e-02, -8.88156108e-01,  2.54570902e+00,\n",
       "       -9.01759479e-01, -2.83311050e-02,  2.24926868e+00,  5.24969510e-02,\n",
       "        4.29301827e-01, -1.15375215e+00,  4.50713933e-01, -6.83870465e-01,\n",
       "       -1.86934440e-01, -1.19076799e+00, -1.08308296e-01,  4.45430621e-01,\n",
       "       -7.15210394e-01,  3.37514771e-01,  3.74832872e-01, -4.22947234e-01,\n",
       "       -8.88470907e-01,  2.62038120e-01, -1.05248624e+00, -7.04206534e-01,\n",
       "        4.03342401e-03, -2.57640191e+00,  6.29991275e-01, -5.95376484e-01,\n",
       "       -1.54305802e+00, -1.24346464e+00, -4.26863783e-01, -2.79340291e-01,\n",
       "       -1.58829670e-01, -2.44579684e-01, -5.32651433e-01, -1.22804841e+00,\n",
       "        4.82090275e-01, -1.50233104e+00, -9.05658663e-01, -7.62721729e-01,\n",
       "       -9.98584473e-02, -2.85901539e-01, -2.46253285e+00,  1.50252575e+00,\n",
       "        5.35625781e-01,  1.96110753e+00, -1.70306279e-01, -1.21422551e+00,\n",
       "        7.74503895e-01, -1.12058335e+00,  5.73218609e-01, -9.81981287e-01,\n",
       "       -1.08359238e+00,  1.66292398e+00,  3.03262005e-01,  8.97099489e-02,\n",
       "       -6.20754020e-01, -5.83712955e-02, -1.25533764e+00, -7.33272927e-01,\n",
       "       -2.96427449e+00,  6.17044200e-01, -3.95149418e-02, -1.12243382e+00,\n",
       "        5.96969970e-01,  1.09126036e+00,  7.01326321e-01,  2.91355053e-01,\n",
       "        1.07785493e+00, -7.70791333e-01, -7.25527857e-01,  1.84195062e+00,\n",
       "       -5.85136073e-01,  2.42305065e+00,  9.63058957e-01,  1.24492802e+00,\n",
       "        7.70096975e-01, -3.38752922e-01, -5.34275493e-01, -2.96215903e-01,\n",
       "       -2.52065152e-01,  1.08394514e+00, -6.65904285e-01,  1.47812350e+00,\n",
       "       -8.29724079e-01, -1.48784371e+00, -7.49796714e-01,  1.13739521e+00,\n",
       "        1.17032674e+00,  3.90748346e-01,  4.82515371e-01,  6.60494114e-01,\n",
       "       -3.55644118e-01, -6.17625417e-01,  1.47331484e+00,  3.17779023e-01,\n",
       "       -1.47191521e-01, -3.51795029e-01, -6.15624365e-01, -6.05402403e-01,\n",
       "        5.99112153e-01,  6.74561414e-01,  5.26457577e-02,  5.05089478e-01,\n",
       "       -5.90680520e-01,  3.15205371e-01, -3.49831298e-01, -2.59829690e-01,\n",
       "        7.51822907e-01,  1.27178626e+00, -5.96277056e-01,  1.26879959e+00,\n",
       "        3.64166317e-01, -8.14075002e-01, -1.21479153e-01,  3.49846634e-01,\n",
       "        9.17869140e-01,  6.41297850e-01,  6.34901081e-01, -1.91424878e-01,\n",
       "        1.44142467e-01, -1.55619419e-02,  8.59337701e-02, -9.24539398e-01,\n",
       "       -6.45538660e-01,  4.83532260e-02,  2.54950204e-01,  1.14188483e-01,\n",
       "        3.38146057e-01, -4.65874342e-01,  9.51100387e-02,  3.30806413e-01,\n",
       "       -1.15284015e+00,  7.21207661e-01,  2.50084193e-01, -6.34382090e-01,\n",
       "       -1.94731597e-01, -1.28672831e-01,  8.70370303e-01,  7.73646612e-01,\n",
       "       -3.79180422e-01,  3.03785823e-01,  5.68671380e-01, -5.69154533e-01,\n",
       "       -3.02327538e-01,  4.51718310e-01, -3.44267110e-01,  1.21066035e+00,\n",
       "       -5.44414652e-01,  2.87358539e-01,  1.00677968e-02, -6.07600878e-01,\n",
       "        1.62497624e-01, -4.76156276e-01, -4.14247563e-01,  2.69042614e-01,\n",
       "       -7.25524576e-01, -2.06265771e-01, -1.02416284e+00,  1.71119426e-01,\n",
       "        1.46923754e-01, -2.00865049e-01, -6.40841900e-01, -2.29437064e-01,\n",
       "        2.19880007e-01, -4.10623887e-01, -9.63057772e-01, -3.08066633e-02,\n",
       "        3.97070682e-01, -3.41410267e-01, -3.11137491e-01, -7.05270709e-01,\n",
       "        6.69494810e-01, -7.40631457e-01,  1.57356185e+00,  2.36897527e-01,\n",
       "        9.53763237e-01, -2.72716716e-01,  1.86475539e-01,  7.18220977e-02,\n",
       "        9.67219935e-01, -5.11519961e-01,  5.83373862e-01,  5.19033479e-01,\n",
       "       -8.12685476e-01, -5.12281411e-01, -7.54845353e-01, -6.74694449e-01,\n",
       "        2.69565702e-01, -1.30934264e-01,  2.84253296e-01,  5.98084500e-01])"
      ]
     },
     "execution_count": 46,
     "metadata": {},
     "output_type": "execute_result"
    }
   ],
   "source": [
    "vectors[ordered_t_index[\"United_States\"]]"
   ]
  },
  {
   "cell_type": "markdown",
   "metadata": {},
   "source": [
    "## 87. 単語の類似度\n",
    "85で得た単語の意味ベクトルを読み込み，\"United States\"と\"U.S.\"のコサイン類似度を計算せよ．ただし，\"U.S.\"は内部的に\"U.S\"と表現されていることに注意せよ．"
   ]
  },
  {
   "cell_type": "code",
   "execution_count": 47,
   "metadata": {},
   "outputs": [],
   "source": [
    "from scipy.spatial.distance import cosine"
   ]
  },
  {
   "cell_type": "code",
   "execution_count": 48,
   "metadata": {},
   "outputs": [],
   "source": [
    "def cosine_sim(v1, v2):\n",
    "    return max(1- cosine(v1, v2), 0)"
   ]
  },
  {
   "cell_type": "code",
   "execution_count": 49,
   "metadata": {},
   "outputs": [
    {
     "data": {
      "text/plain": [
       "0.8132832724828232"
      ]
     },
     "execution_count": 49,
     "metadata": {},
     "output_type": "execute_result"
    }
   ],
   "source": [
    "cosine_sim(vectors[ordered_t_index[\"United_States\"]], vectors[ordered_t_index[\"U.S\"]])"
   ]
  },
  {
   "cell_type": "markdown",
   "metadata": {},
   "source": [
    "## 88. 類似度の高い単語10件\n",
    "85で得た単語の意味ベクトルを読み込み，\"England\"とコサイン類似度が高い10語と，その類似度を出力せよ．"
   ]
  },
  {
   "cell_type": "code",
   "execution_count": 50,
   "metadata": {},
   "outputs": [],
   "source": [
    "def similary_n_words(target_word, n=10):\n",
    "    target_vector = vectors[ordered_t_index[target_word]]\n",
    "    sorted_results = sorted([(t, cosine_sim(target_vector, vectors[ordered_t_index[t]])) for t in ordered_t_index.keys() if t != target_word], key=lambda x: x[1], reverse=True)\n",
    "    return sorted_results[:n]"
   ]
  },
  {
   "cell_type": "code",
   "execution_count": 51,
   "metadata": {},
   "outputs": [
    {
     "name": "stderr",
     "output_type": "stream",
     "text": [
      "/usr/local/lib/python3.7/site-packages/scipy/spatial/distance.py:720: RuntimeWarning: invalid value encountered in double_scalars\n",
      "  dist = 1.0 - uv / np.sqrt(uu * vv)\n"
     ]
    },
    {
     "data": {
      "text/plain": [
       "[('France', 0.5558261533890336),\n",
       " ('central', 0.2923368410455002),\n",
       " ('represented', 0.24200896267723027),\n",
       " ('world', 0.22837274579565348),\n",
       " ('outside', 0.2270432074435229),\n",
       " ('United_States', 0.21260347582012584),\n",
       " ('first', 0.17618781035511588),\n",
       " ('William', 0.15408748939550254),\n",
       " ('revolt', 0.15036620090691621),\n",
       " ('next', 0.1473028345728261)]"
      ]
     },
     "execution_count": 51,
     "metadata": {},
     "output_type": "execute_result"
    }
   ],
   "source": [
    "similary_n_words(\"England\")"
   ]
  },
  {
   "cell_type": "markdown",
   "metadata": {},
   "source": [
    "## 89. 加法構成性によるアナロジー\n",
    "85で得た単語の意味ベクトルを読み込み，vec(\"Spain\") - vec(\"Madrid\") + vec(\"Athens\")を計算し，そのベクトルと類似度の高い10語とその類似度を出力せよ．"
   ]
  },
  {
   "cell_type": "code",
   "execution_count": 52,
   "metadata": {},
   "outputs": [],
   "source": [
    "vector = vectors[ordered_t_index[\"Spain\"]] - vectors[ordered_t_index[\"Madrid\"]] + vectors[ordered_t_index[\"Athens\"]]"
   ]
  },
  {
   "cell_type": "code",
   "execution_count": 53,
   "metadata": {},
   "outputs": [],
   "source": [
    "def similary_n_words_by_vector(target_vector, n=10):\n",
    "    sorted_results = sorted([(t, cosine_sim(target_vector, vectors[ordered_t_index[t]])) for t in ordered_t_index.keys()], key=lambda x: x[1], reverse=True)\n",
    "    return sorted_results[:n]"
   ]
  },
  {
   "cell_type": "code",
   "execution_count": 54,
   "metadata": {
    "scrolled": true
   },
   "outputs": [
    {
     "data": {
      "text/plain": [
       "[('France', 0.5363502333887389),\n",
       " ('revolt', 0.31057984074110245),\n",
       " ('represented', 0.2609437904081817),\n",
       " ('participated', 0.207322799146068),\n",
       " ('Wilhelm', 0.20676002584934305),\n",
       " ('propaganda', 0.20296480553577556),\n",
       " ('self-defense', 0.18553646262420875),\n",
       " ('during', 0.15654757237009087),\n",
       " ('United_States', 0.1557120026323402),\n",
       " ('communism', 0.15285970374512603)]"
      ]
     },
     "execution_count": 54,
     "metadata": {},
     "output_type": "execute_result"
    }
   ],
   "source": [
    "similary_n_words_by_vector(vector)"
   ]
  },
  {
   "cell_type": "code",
   "execution_count": 55,
   "metadata": {},
   "outputs": [
    {
     "data": {
      "text/plain": [
       "[('France', 0.5679562757908425),\n",
       " ('revolt', 0.30344814337730663),\n",
       " ('represented', 0.24286264011781333),\n",
       " ('Wilhelm', 0.23526887766523186),\n",
       " ('propaganda', 0.19632402696040463),\n",
       " ('during', 0.16685893588231693),\n",
       " ('United_States', 0.15411833035437483),\n",
       " ('William', 0.1450442552256489),\n",
       " ('measures', 0.141387106961254),\n",
       " ('attack', 0.13418359484346687)]"
      ]
     },
     "execution_count": 55,
     "metadata": {},
     "output_type": "execute_result"
    }
   ],
   "source": [
    "vector = vectors[ordered_t_index[\"Spain\"]] - vectors[ordered_t_index[\"Madrid\"]]\n",
    "similary_n_words_by_vector(vector)"
   ]
  },
  {
   "cell_type": "code",
   "execution_count": null,
   "metadata": {},
   "outputs": [],
   "source": []
  }
 ],
 "metadata": {
  "kernelspec": {
   "display_name": "Python 3",
   "language": "python",
   "name": "python3"
  },
  "language_info": {
   "codemirror_mode": {
    "name": "ipython",
    "version": 3
   },
   "file_extension": ".py",
   "mimetype": "text/x-python",
   "name": "python",
   "nbconvert_exporter": "python",
   "pygments_lexer": "ipython3",
   "version": "3.7.3"
  }
 },
 "nbformat": 4,
 "nbformat_minor": 2
}
