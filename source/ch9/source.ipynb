{
 "cells": [
  {
   "cell_type": "markdown",
   "metadata": {},
   "source": [
    "# 第9章: ベクトル空間法 (I)\n",
    "[enwiki-20150112-400-r10-105752.txt.bz2](http://www.cl.ecei.tohoku.ac.jp/nlp100/data/enwiki-20150112-400-r10-105752.txt.bz2)は，2015年1月12日時点の英語のWikipedia記事のうち，約400語以上で構成される記事の中から，ランダムに1/10サンプリングした105,752記事のテキストをbzip2形式で圧縮したものである．このテキストをコーパスとして，単語の意味を表すベクトル（分散表現）を学習したい．第9章の前半では，コーパスから作成した単語文脈共起行列に主成分分析を適用し，単語ベクトルを学習する過程を，いくつかの処理に分けて実装する．第9章の後半では，学習で得られた単語ベクトル（300次元）を用い，単語の類似度計算やアナロジー（類推）を行う．\n",
    "\n",
    "なお，問題83を素直に実装すると，大量（約7GB）の主記憶が必要になる． メモリが不足する場合は，処理を工夫するか，1/100サンプリングのコーパス[enwiki-20150112-400-r100-10576.txt.bz2](http://www.cl.ecei.tohoku.ac.jp/nlp100/data/enwiki-20150112-400-r100-10576.txt.bz2)を用いよ．"
   ]
  },
  {
   "cell_type": "code",
   "execution_count": 1,
   "metadata": {
    "scrolled": false
   },
   "outputs": [
    {
     "name": "stdout",
     "output_type": "stream",
     "text": [
      "  % Total    % Received % Xferd  Average Speed   Time    Time     Time  Current\n",
      "                                 Dload  Upload   Total   Spent    Left  Speed\n",
      "100 21.0M  100 21.0M    0     0  4925k      0  0:00:04  0:00:04 --:--:-- 4926k\n"
     ]
    }
   ],
   "source": [
    "! curl -o enwiki-20150112-400-r100-10576.txt.bz2 http://www.cl.ecei.tohoku.ac.jp/nlp100/data/enwiki-20150112-400-r100-10576.txt.bz2"
   ]
  },
  {
   "cell_type": "code",
   "execution_count": 2,
   "metadata": {
    "scrolled": false
   },
   "outputs": [],
   "source": [
    "# ! curl -o enwiki-20150112-400-r10-105752.txt.bz2 http://www.cl.ecei.tohoku.ac.jp/nlp100/data/enwiki-20150112-400-r10-105752.txt.bz2"
   ]
  },
  {
   "cell_type": "markdown",
   "metadata": {},
   "source": [
    "## 80. コーパスの整形\n",
    "文を単語列に変換する最も単純な方法は，空白文字で単語に区切ることである． ただ，この方法では文末のピリオドや括弧などの記号が単語に含まれてしまう． そこで，コーパスの各行のテキストを空白文字でトークンのリストに分割した後，各トークンに以下の処理を施し，単語から記号を除去せよ．\n",
    "\n",
    "- トークンの先頭と末尾に出現する次の文字を削除: `.,!?;:()[]'\"`\n",
    "- 空文字列となったトークンは削除\n",
    "\n",
    "以上の処理を適用した後，トークンをスペースで連結してファイルに保存せよ．"
   ]
  },
  {
   "cell_type": "code",
   "execution_count": 3,
   "metadata": {},
   "outputs": [],
   "source": [
    "import bz2"
   ]
  },
  {
   "cell_type": "code",
   "execution_count": 4,
   "metadata": {},
   "outputs": [],
   "source": [
    "with bz2.open(\"enwiki-20150112-400-r100-10576.txt.bz2\", mode=\"rt\") as f:\n",
    "    text = f.readlines()"
   ]
  },
  {
   "cell_type": "code",
   "execution_count": 5,
   "metadata": {},
   "outputs": [],
   "source": [
    "# with bz2.open(\"enwiki-20150112-400-r10-105752.txt.bz2\", mode=\"rt\") as f:\n",
    "#     text = f.readlines()"
   ]
  },
  {
   "cell_type": "code",
   "execution_count": 6,
   "metadata": {},
   "outputs": [
    {
     "data": {
      "text/plain": [
       "['Anarchism\\n',\n",
       " '\\n',\n",
       " 'Anarchism is a political philosophy that advocates stateless societies often defined as self-governed voluntary institutions, but that several authors have defined as more specific institutions based on non-hierarchical free associations. Anarchism holds the state to be undesirable, unnecessary, or harmful. While anti-statism is central, anarchism entails opposing authority or hierarchical organisation in the conduct of human relations, including, but not limited to, the state system.\\n',\n",
       " 'As a subtle and anti-dogmatic philosophy, anarchism draws on many currents of thought and strategy. Anarchism does not offer a fixed body of doctrine from a single particular world view, instead fluxing and flowing as a philosophy. There are many types and traditions of anarchism, not all of which are mutually exclusive. Anarchist schools of thought can differ fundamentally, supporting anything from extreme individualism to complete collectivism. Strains of anarchism have often been divided into the categories of social and individualist anarchism or similar dual classifications. Anarchism is usually considered a radical left-wing ideology, and much of anarchist economics and anarchist legal philosophy reflect anti-authoritarian interpretations of communism, collectivism, syndicalism, mutualism, or participatory economics.\\n',\n",
       " 'The central tendency of anarchism as a social movement has been represented by anarcho-communism and anarcho-syndicalism, with individualist anarchism being primarily a literary phenomenon which nevertheless did have an impact on the bigger currents and individualists have also participated in large anarchist organisations. Many anarchists oppose all forms of aggression, supporting self-defense or non-violence (anarcho-pacifism), while others have supported the use of some coercive measures, including violent revolution and propaganda of the deed as means to achieve anarchist ends.\\n']"
      ]
     },
     "execution_count": 6,
     "metadata": {},
     "output_type": "execute_result"
    }
   ],
   "source": [
    "text[:5]"
   ]
  },
  {
   "cell_type": "code",
   "execution_count": 7,
   "metadata": {},
   "outputs": [],
   "source": [
    "lines = []\n",
    "\n",
    "for line in text:\n",
    "    words = [word.strip().strip(\".,!?;:()[]'\\\"\") for word in line.strip().split(\" \")]\n",
    "    lines.append(\" \".join([word for word in words if word != \"\"]))"
   ]
  },
  {
   "cell_type": "code",
   "execution_count": 8,
   "metadata": {},
   "outputs": [
    {
     "data": {
      "text/plain": [
       "['Anarchism',\n",
       " '',\n",
       " 'Anarchism is a political philosophy that advocates stateless societies often defined as self-governed voluntary institutions but that several authors have defined as more specific institutions based on non-hierarchical free associations Anarchism holds the state to be undesirable unnecessary or harmful While anti-statism is central anarchism entails opposing authority or hierarchical organisation in the conduct of human relations including but not limited to the state system',\n",
       " 'As a subtle and anti-dogmatic philosophy anarchism draws on many currents of thought and strategy Anarchism does not offer a fixed body of doctrine from a single particular world view instead fluxing and flowing as a philosophy There are many types and traditions of anarchism not all of which are mutually exclusive Anarchist schools of thought can differ fundamentally supporting anything from extreme individualism to complete collectivism Strains of anarchism have often been divided into the categories of social and individualist anarchism or similar dual classifications Anarchism is usually considered a radical left-wing ideology and much of anarchist economics and anarchist legal philosophy reflect anti-authoritarian interpretations of communism collectivism syndicalism mutualism or participatory economics',\n",
       " 'The central tendency of anarchism as a social movement has been represented by anarcho-communism and anarcho-syndicalism with individualist anarchism being primarily a literary phenomenon which nevertheless did have an impact on the bigger currents and individualists have also participated in large anarchist organisations Many anarchists oppose all forms of aggression supporting self-defense or non-violence anarcho-pacifism while others have supported the use of some coercive measures including violent revolution and propaganda of the deed as means to achieve anarchist ends']"
      ]
     },
     "execution_count": 8,
     "metadata": {},
     "output_type": "execute_result"
    }
   ],
   "source": [
    "lines[:5]"
   ]
  },
  {
   "cell_type": "code",
   "execution_count": 9,
   "metadata": {},
   "outputs": [],
   "source": [
    "with open(\"output_80.txt\", mode=\"w\") as f:\n",
    "    f.write(\"\\n\".join(lines))"
   ]
  },
  {
   "cell_type": "code",
   "execution_count": 10,
   "metadata": {},
   "outputs": [
    {
     "name": "stdout",
     "output_type": "stream",
     "text": [
      "Anarchism\r\n",
      "\r\n",
      "Anarchism is a political philosophy that advocates stateless societies often defined as self-governed voluntary institutions but that several authors have defined as more specific institutions based on non-hierarchical free associations Anarchism holds the state to be undesirable unnecessary or harmful While anti-statism is central anarchism entails opposing authority or hierarchical organisation in the conduct of human relations including but not limited to the state system\r\n",
      "As a subtle and anti-dogmatic philosophy anarchism draws on many currents of thought and strategy Anarchism does not offer a fixed body of doctrine from a single particular world view instead fluxing and flowing as a philosophy There are many types and traditions of anarchism not all of which are mutually exclusive Anarchist schools of thought can differ fundamentally supporting anything from extreme individualism to complete collectivism Strains of anarchism have often been divided into the categories of social and individualist anarchism or similar dual classifications Anarchism is usually considered a radical left-wing ideology and much of anarchist economics and anarchist legal philosophy reflect anti-authoritarian interpretations of communism collectivism syndicalism mutualism or participatory economics\r\n",
      "The central tendency of anarchism as a social movement has been represented by anarcho-communism and anarcho-syndicalism with individualist anarchism being primarily a literary phenomenon which nevertheless did have an impact on the bigger currents and individualists have also participated in large anarchist organisations Many anarchists oppose all forms of aggression supporting self-defense or non-violence anarcho-pacifism while others have supported the use of some coercive measures including violent revolution and propaganda of the deed as means to achieve anarchist ends\r\n"
     ]
    }
   ],
   "source": [
    "! head -n 5 output_80.txt"
   ]
  },
  {
   "cell_type": "markdown",
   "metadata": {},
   "source": [
    "## 81. 複合語からなる国名への対処\n",
    "英語では，複数の語の連接が意味を成すことがある．例えば，アメリカ合衆国は\"United States\"，イギリスは\"United Kingdom\"と表現されるが，\"United\"や\"States\"，\"Kingdom\"という単語だけでは，指し示している概念・実体が曖昧である．そこで，コーパス中に含まれる複合語を認識し，複合語を1語として扱うことで，複合語の意味を推定したい．しかしながら，複合語を正確に認定するのは大変むずかしいので，ここでは複合語からなる国名を認定したい．\n",
    "\n",
    "インターネット上から国名リストを各自で入手し，80のコーパス中に出現する複合語の国名に関して，スペースをアンダーバーに置換せよ．例えば，\"United States\"は\"United_States\"，\"Isle of Man\"は\"Isle_of_Man\"になるはずである．"
   ]
  },
  {
   "cell_type": "code",
   "execution_count": 11,
   "metadata": {},
   "outputs": [],
   "source": [
    "import pandas as pd"
   ]
  },
  {
   "cell_type": "code",
   "execution_count": 12,
   "metadata": {},
   "outputs": [],
   "source": [
    "df = pd.read_csv(\"english_country_name.csv\")"
   ]
  },
  {
   "cell_type": "code",
   "execution_count": 13,
   "metadata": {},
   "outputs": [
    {
     "data": {
      "text/html": [
       "<div>\n",
       "<style scoped>\n",
       "    .dataframe tbody tr th:only-of-type {\n",
       "        vertical-align: middle;\n",
       "    }\n",
       "\n",
       "    .dataframe tbody tr th {\n",
       "        vertical-align: top;\n",
       "    }\n",
       "\n",
       "    .dataframe thead th {\n",
       "        text-align: right;\n",
       "    }\n",
       "</style>\n",
       "<table border=\"1\" class=\"dataframe\">\n",
       "  <thead>\n",
       "    <tr style=\"text-align: right;\">\n",
       "      <th></th>\n",
       "      <th>国・地域名</th>\n",
       "      <th>英語名</th>\n",
       "      <th>数</th>\n",
       "      <th>三字</th>\n",
       "      <th>二字</th>\n",
       "      <th>場所</th>\n",
       "      <th>各行政区分</th>\n",
       "    </tr>\n",
       "  </thead>\n",
       "  <tbody>\n",
       "    <tr>\n",
       "      <th>0</th>\n",
       "      <td>アイスランド</td>\n",
       "      <td>Iceland</td>\n",
       "      <td>352</td>\n",
       "      <td>ISL</td>\n",
       "      <td>IS</td>\n",
       "      <td>北ヨーロッパ</td>\n",
       "      <td>ISO 3166-2:IS</td>\n",
       "    </tr>\n",
       "    <tr>\n",
       "      <th>1</th>\n",
       "      <td>アイルランド</td>\n",
       "      <td>Ireland</td>\n",
       "      <td>372</td>\n",
       "      <td>IRL</td>\n",
       "      <td>IE</td>\n",
       "      <td>西ヨーロッパ</td>\n",
       "      <td>ISO 3166-2:IE</td>\n",
       "    </tr>\n",
       "    <tr>\n",
       "      <th>2</th>\n",
       "      <td>アゼルバイジャン</td>\n",
       "      <td>Azerbaijan</td>\n",
       "      <td>31</td>\n",
       "      <td>AZE</td>\n",
       "      <td>AZ</td>\n",
       "      <td>東ヨーロッパ</td>\n",
       "      <td>ISO 3166-2:AZ</td>\n",
       "    </tr>\n",
       "    <tr>\n",
       "      <th>3</th>\n",
       "      <td>アフガニスタン</td>\n",
       "      <td>Afghanistan</td>\n",
       "      <td>4</td>\n",
       "      <td>AFG</td>\n",
       "      <td>AF</td>\n",
       "      <td>中東</td>\n",
       "      <td>ISO 3166-2:AF</td>\n",
       "    </tr>\n",
       "    <tr>\n",
       "      <th>4</th>\n",
       "      <td>アメリカ合衆国</td>\n",
       "      <td>United States</td>\n",
       "      <td>840</td>\n",
       "      <td>USA</td>\n",
       "      <td>US</td>\n",
       "      <td>北アメリカ</td>\n",
       "      <td>ISO 3166-2:US</td>\n",
       "    </tr>\n",
       "    <tr>\n",
       "      <th>5</th>\n",
       "      <td>アメリカ領ヴァージン諸島</td>\n",
       "      <td>Virgin Islands, U.S.</td>\n",
       "      <td>850</td>\n",
       "      <td>VIR</td>\n",
       "      <td>VI</td>\n",
       "      <td>中央アメリカ</td>\n",
       "      <td>ISO 3166-2:VI</td>\n",
       "    </tr>\n",
       "    <tr>\n",
       "      <th>6</th>\n",
       "      <td>アメリカ領サモア</td>\n",
       "      <td>American Samoa</td>\n",
       "      <td>16</td>\n",
       "      <td>ASM</td>\n",
       "      <td>AS</td>\n",
       "      <td>オセアニア</td>\n",
       "      <td>ISO 3166-2:AS</td>\n",
       "    </tr>\n",
       "    <tr>\n",
       "      <th>7</th>\n",
       "      <td>アラブ首長国連邦</td>\n",
       "      <td>United Arab Emirates</td>\n",
       "      <td>784</td>\n",
       "      <td>ARE</td>\n",
       "      <td>AE</td>\n",
       "      <td>中東</td>\n",
       "      <td>ISO 3166-2:AE</td>\n",
       "    </tr>\n",
       "    <tr>\n",
       "      <th>8</th>\n",
       "      <td>アルジェリア</td>\n",
       "      <td>Algeria</td>\n",
       "      <td>12</td>\n",
       "      <td>DZA</td>\n",
       "      <td>DZ</td>\n",
       "      <td>北アフリカ</td>\n",
       "      <td>ISO 3166-2:DZ</td>\n",
       "    </tr>\n",
       "    <tr>\n",
       "      <th>9</th>\n",
       "      <td>アルゼンチン</td>\n",
       "      <td>Argentina</td>\n",
       "      <td>32</td>\n",
       "      <td>ARG</td>\n",
       "      <td>AR</td>\n",
       "      <td>南アメリカ</td>\n",
       "      <td>ISO 3166-2:AR</td>\n",
       "    </tr>\n",
       "    <tr>\n",
       "      <th>10</th>\n",
       "      <td>アルバ</td>\n",
       "      <td>Aruba</td>\n",
       "      <td>533</td>\n",
       "      <td>ABW</td>\n",
       "      <td>AW</td>\n",
       "      <td>中央アメリカ</td>\n",
       "      <td>ISO 3166-2:AW</td>\n",
       "    </tr>\n",
       "    <tr>\n",
       "      <th>11</th>\n",
       "      <td>アルバニア</td>\n",
       "      <td>Albania</td>\n",
       "      <td>8</td>\n",
       "      <td>ALB</td>\n",
       "      <td>AL</td>\n",
       "      <td>東ヨーロッパ</td>\n",
       "      <td>ISO 3166-2:AL</td>\n",
       "    </tr>\n",
       "    <tr>\n",
       "      <th>12</th>\n",
       "      <td>アルメニア</td>\n",
       "      <td>Armenia</td>\n",
       "      <td>51</td>\n",
       "      <td>ARM</td>\n",
       "      <td>AM</td>\n",
       "      <td>東ヨーロッパ</td>\n",
       "      <td>ISO 3166-2:AM</td>\n",
       "    </tr>\n",
       "    <tr>\n",
       "      <th>13</th>\n",
       "      <td>アンギラ</td>\n",
       "      <td>Anguilla</td>\n",
       "      <td>660</td>\n",
       "      <td>AIA</td>\n",
       "      <td>AI</td>\n",
       "      <td>中央アメリカ</td>\n",
       "      <td>ISO 3166-2:AI</td>\n",
       "    </tr>\n",
       "    <tr>\n",
       "      <th>14</th>\n",
       "      <td>アンゴラ</td>\n",
       "      <td>Angola</td>\n",
       "      <td>24</td>\n",
       "      <td>AGO</td>\n",
       "      <td>AO</td>\n",
       "      <td>南アフリカ</td>\n",
       "      <td>ISO 3166-2:AO</td>\n",
       "    </tr>\n",
       "    <tr>\n",
       "      <th>15</th>\n",
       "      <td>アンティグア・バーブーダ</td>\n",
       "      <td>Antigua and Barbuda</td>\n",
       "      <td>28</td>\n",
       "      <td>ATG</td>\n",
       "      <td>AG</td>\n",
       "      <td>中央アメリカ</td>\n",
       "      <td>ISO 3166-2:AG</td>\n",
       "    </tr>\n",
       "    <tr>\n",
       "      <th>16</th>\n",
       "      <td>アンドラ</td>\n",
       "      <td>Andorra</td>\n",
       "      <td>20</td>\n",
       "      <td>AND</td>\n",
       "      <td>AD</td>\n",
       "      <td>西ヨーロッパ</td>\n",
       "      <td>ISO 3166-2:AD</td>\n",
       "    </tr>\n",
       "    <tr>\n",
       "      <th>17</th>\n",
       "      <td>イエメン</td>\n",
       "      <td>Yemen</td>\n",
       "      <td>887</td>\n",
       "      <td>YEM</td>\n",
       "      <td>YE</td>\n",
       "      <td>中東</td>\n",
       "      <td>ISO 3166-2:YE</td>\n",
       "    </tr>\n",
       "    <tr>\n",
       "      <th>18</th>\n",
       "      <td>イギリス</td>\n",
       "      <td>United Kingdom</td>\n",
       "      <td>826</td>\n",
       "      <td>GBR</td>\n",
       "      <td>GB</td>\n",
       "      <td>西ヨーロッパ</td>\n",
       "      <td>ISO 3166-2:GB</td>\n",
       "    </tr>\n",
       "    <tr>\n",
       "      <th>19</th>\n",
       "      <td>イギリス領インド洋地域</td>\n",
       "      <td>British Indian Ocean Territory</td>\n",
       "      <td>86</td>\n",
       "      <td>IOT</td>\n",
       "      <td>IO</td>\n",
       "      <td>インド洋地域</td>\n",
       "      <td>ISO 3166-2:IO</td>\n",
       "    </tr>\n",
       "    <tr>\n",
       "      <th>20</th>\n",
       "      <td>イギリス領ヴァージン諸島</td>\n",
       "      <td>Virgin Islands, British</td>\n",
       "      <td>92</td>\n",
       "      <td>VGB</td>\n",
       "      <td>VG</td>\n",
       "      <td>中央アメリカ</td>\n",
       "      <td>ISO 3166-2:VG</td>\n",
       "    </tr>\n",
       "    <tr>\n",
       "      <th>21</th>\n",
       "      <td>イスラエル</td>\n",
       "      <td>Israel</td>\n",
       "      <td>376</td>\n",
       "      <td>ISR</td>\n",
       "      <td>IL</td>\n",
       "      <td>中東</td>\n",
       "      <td>ISO 3166-2:IL</td>\n",
       "    </tr>\n",
       "    <tr>\n",
       "      <th>22</th>\n",
       "      <td>イタリア</td>\n",
       "      <td>Italy</td>\n",
       "      <td>380</td>\n",
       "      <td>ITA</td>\n",
       "      <td>IT</td>\n",
       "      <td>西ヨーロッパ</td>\n",
       "      <td>ISO 3166-2:IT</td>\n",
       "    </tr>\n",
       "    <tr>\n",
       "      <th>23</th>\n",
       "      <td>イラク</td>\n",
       "      <td>Iraq</td>\n",
       "      <td>368</td>\n",
       "      <td>IRQ</td>\n",
       "      <td>IQ</td>\n",
       "      <td>中東</td>\n",
       "      <td>ISO 3166-2:IQ</td>\n",
       "    </tr>\n",
       "    <tr>\n",
       "      <th>24</th>\n",
       "      <td>イラン|イラン・イスラム共和国</td>\n",
       "      <td>Iran, Islamic Republic of</td>\n",
       "      <td>364</td>\n",
       "      <td>IRN</td>\n",
       "      <td>IR</td>\n",
       "      <td>中東</td>\n",
       "      <td>ISO 3166-2:IR</td>\n",
       "    </tr>\n",
       "    <tr>\n",
       "      <th>25</th>\n",
       "      <td>インド</td>\n",
       "      <td>India</td>\n",
       "      <td>356</td>\n",
       "      <td>IND</td>\n",
       "      <td>IN</td>\n",
       "      <td>南アジア</td>\n",
       "      <td>ISO 3166-2:IN</td>\n",
       "    </tr>\n",
       "    <tr>\n",
       "      <th>26</th>\n",
       "      <td>インドネシア</td>\n",
       "      <td>Indonesia</td>\n",
       "      <td>360</td>\n",
       "      <td>IDN</td>\n",
       "      <td>ID</td>\n",
       "      <td>東南アジア</td>\n",
       "      <td>ISO 3166-2:ID</td>\n",
       "    </tr>\n",
       "    <tr>\n",
       "      <th>27</th>\n",
       "      <td>ウォリス・フツナ</td>\n",
       "      <td>Wallis and Futuna</td>\n",
       "      <td>876</td>\n",
       "      <td>WLF</td>\n",
       "      <td>WF</td>\n",
       "      <td>オセアニア</td>\n",
       "      <td>ISO 3166-2:WF</td>\n",
       "    </tr>\n",
       "    <tr>\n",
       "      <th>28</th>\n",
       "      <td>ウガンダ</td>\n",
       "      <td>Uganda</td>\n",
       "      <td>800</td>\n",
       "      <td>UGA</td>\n",
       "      <td>UG</td>\n",
       "      <td>中央アフリカ</td>\n",
       "      <td>ISO 3166-2:UG</td>\n",
       "    </tr>\n",
       "    <tr>\n",
       "      <th>29</th>\n",
       "      <td>ウクライナ</td>\n",
       "      <td>Ukraine</td>\n",
       "      <td>804</td>\n",
       "      <td>UKR</td>\n",
       "      <td>UA</td>\n",
       "      <td>東ヨーロッパ</td>\n",
       "      <td>ISO 3166-2:UA</td>\n",
       "    </tr>\n",
       "    <tr>\n",
       "      <th>...</th>\n",
       "      <td>...</td>\n",
       "      <td>...</td>\n",
       "      <td>...</td>\n",
       "      <td>...</td>\n",
       "      <td>...</td>\n",
       "      <td>...</td>\n",
       "      <td>...</td>\n",
       "    </tr>\n",
       "    <tr>\n",
       "      <th>219</th>\n",
       "      <td>マン島</td>\n",
       "      <td>Isle of Man</td>\n",
       "      <td>833</td>\n",
       "      <td>IMN</td>\n",
       "      <td>IM</td>\n",
       "      <td>西ヨーロッパ</td>\n",
       "      <td>ISO 3166-2:IM</td>\n",
       "    </tr>\n",
       "    <tr>\n",
       "      <th>220</th>\n",
       "      <td>ミクロネシア連邦</td>\n",
       "      <td>Micronesia, Federated States of</td>\n",
       "      <td>583</td>\n",
       "      <td>FSM</td>\n",
       "      <td>FM</td>\n",
       "      <td>オセアニア</td>\n",
       "      <td>ISO 3166-2:FM</td>\n",
       "    </tr>\n",
       "    <tr>\n",
       "      <th>221</th>\n",
       "      <td>南アフリカ共和国|南アフリカ</td>\n",
       "      <td>South Africa</td>\n",
       "      <td>710</td>\n",
       "      <td>ZAF</td>\n",
       "      <td>ZA</td>\n",
       "      <td>南アフリカ</td>\n",
       "      <td>ISO 3166-2:ZA</td>\n",
       "    </tr>\n",
       "    <tr>\n",
       "      <th>222</th>\n",
       "      <td>南スーダン</td>\n",
       "      <td>South Sudan</td>\n",
       "      <td>728</td>\n",
       "      <td>SSD</td>\n",
       "      <td>SS</td>\n",
       "      <td>東アフリカ</td>\n",
       "      <td>ISO 3166-2:SS</td>\n",
       "    </tr>\n",
       "    <tr>\n",
       "      <th>223</th>\n",
       "      <td>ミャンマー</td>\n",
       "      <td>Myanmar</td>\n",
       "      <td>104</td>\n",
       "      <td>MMR</td>\n",
       "      <td>MM</td>\n",
       "      <td>東南アジア</td>\n",
       "      <td>ISO 3166-2:MM</td>\n",
       "    </tr>\n",
       "    <tr>\n",
       "      <th>224</th>\n",
       "      <td>メキシコ</td>\n",
       "      <td>Mexico</td>\n",
       "      <td>484</td>\n",
       "      <td>MEX</td>\n",
       "      <td>MX</td>\n",
       "      <td>中央アメリカ</td>\n",
       "      <td>ISO 3166-2:MX</td>\n",
       "    </tr>\n",
       "    <tr>\n",
       "      <th>225</th>\n",
       "      <td>モーリシャス</td>\n",
       "      <td>Mauritius</td>\n",
       "      <td>480</td>\n",
       "      <td>MUS</td>\n",
       "      <td>MU</td>\n",
       "      <td>南アフリカ</td>\n",
       "      <td>ISO 3166-2:MU</td>\n",
       "    </tr>\n",
       "    <tr>\n",
       "      <th>226</th>\n",
       "      <td>モーリタニア</td>\n",
       "      <td>Mauritania</td>\n",
       "      <td>478</td>\n",
       "      <td>MRT</td>\n",
       "      <td>MR</td>\n",
       "      <td>西アフリカ</td>\n",
       "      <td>ISO 3166-2:MR</td>\n",
       "    </tr>\n",
       "    <tr>\n",
       "      <th>227</th>\n",
       "      <td>モザンビーク</td>\n",
       "      <td>Mozambique</td>\n",
       "      <td>508</td>\n",
       "      <td>MOZ</td>\n",
       "      <td>MZ</td>\n",
       "      <td>南アフリカ</td>\n",
       "      <td>ISO 3166-2:MZ</td>\n",
       "    </tr>\n",
       "    <tr>\n",
       "      <th>228</th>\n",
       "      <td>モナコ</td>\n",
       "      <td>Monaco</td>\n",
       "      <td>492</td>\n",
       "      <td>MCO</td>\n",
       "      <td>MC</td>\n",
       "      <td>西ヨーロッパ</td>\n",
       "      <td>ISO 3166-2:MC</td>\n",
       "    </tr>\n",
       "    <tr>\n",
       "      <th>229</th>\n",
       "      <td>モルディブ</td>\n",
       "      <td>Maldives</td>\n",
       "      <td>462</td>\n",
       "      <td>MDV</td>\n",
       "      <td>MV</td>\n",
       "      <td>インド洋地域</td>\n",
       "      <td>ISO 3166-2:MV</td>\n",
       "    </tr>\n",
       "    <tr>\n",
       "      <th>230</th>\n",
       "      <td>モルドバ|モルドバ共和国</td>\n",
       "      <td>Moldova, Republic of</td>\n",
       "      <td>498</td>\n",
       "      <td>MDA</td>\n",
       "      <td>MD</td>\n",
       "      <td>東ヨーロッパ</td>\n",
       "      <td>ISO 3166-2:MD</td>\n",
       "    </tr>\n",
       "    <tr>\n",
       "      <th>231</th>\n",
       "      <td>モロッコ</td>\n",
       "      <td>Morocco</td>\n",
       "      <td>504</td>\n",
       "      <td>MAR</td>\n",
       "      <td>MA</td>\n",
       "      <td>北アフリカ</td>\n",
       "      <td>ISO 3166-2:MA</td>\n",
       "    </tr>\n",
       "    <tr>\n",
       "      <th>232</th>\n",
       "      <td>モンゴル国|モンゴル</td>\n",
       "      <td>Mongolia</td>\n",
       "      <td>496</td>\n",
       "      <td>MNG</td>\n",
       "      <td>MN</td>\n",
       "      <td>東アジア</td>\n",
       "      <td>ISO 3166-2:MN</td>\n",
       "    </tr>\n",
       "    <tr>\n",
       "      <th>233</th>\n",
       "      <td>モンテネグロ</td>\n",
       "      <td>Montenegro</td>\n",
       "      <td>499</td>\n",
       "      <td>MNE</td>\n",
       "      <td>ME</td>\n",
       "      <td>東ヨーロッパ</td>\n",
       "      <td>ISO 3166-2:ME</td>\n",
       "    </tr>\n",
       "    <tr>\n",
       "      <th>234</th>\n",
       "      <td>モントセラト</td>\n",
       "      <td>Montserrat</td>\n",
       "      <td>500</td>\n",
       "      <td>MSR</td>\n",
       "      <td>MS</td>\n",
       "      <td>中央アメリカ</td>\n",
       "      <td>ISO 3166-2:MS</td>\n",
       "    </tr>\n",
       "    <tr>\n",
       "      <th>235</th>\n",
       "      <td>ヨルダン</td>\n",
       "      <td>Jordan</td>\n",
       "      <td>400</td>\n",
       "      <td>JOR</td>\n",
       "      <td>JO</td>\n",
       "      <td>中東</td>\n",
       "      <td>ISO 3166-2:JO</td>\n",
       "    </tr>\n",
       "    <tr>\n",
       "      <th>236</th>\n",
       "      <td>ラオス|ラオス人民民主共和国</td>\n",
       "      <td>Lao People's Democratic Republic</td>\n",
       "      <td>418</td>\n",
       "      <td>LAO</td>\n",
       "      <td>LA</td>\n",
       "      <td>東南アジア</td>\n",
       "      <td>ISO 3166-2:LA</td>\n",
       "    </tr>\n",
       "    <tr>\n",
       "      <th>237</th>\n",
       "      <td>ラトビア</td>\n",
       "      <td>Latvia</td>\n",
       "      <td>428</td>\n",
       "      <td>LVA</td>\n",
       "      <td>LV</td>\n",
       "      <td>東ヨーロッパ</td>\n",
       "      <td>ISO 3166-2:LV</td>\n",
       "    </tr>\n",
       "    <tr>\n",
       "      <th>238</th>\n",
       "      <td>リトアニア</td>\n",
       "      <td>Lithuania</td>\n",
       "      <td>440</td>\n",
       "      <td>LTU</td>\n",
       "      <td>LT</td>\n",
       "      <td>東ヨーロッパ</td>\n",
       "      <td>ISO 3166-2:LT</td>\n",
       "    </tr>\n",
       "    <tr>\n",
       "      <th>239</th>\n",
       "      <td>リビア</td>\n",
       "      <td>Libya</td>\n",
       "      <td>434</td>\n",
       "      <td>LBY</td>\n",
       "      <td>LY</td>\n",
       "      <td>北アフリカ</td>\n",
       "      <td>ISO 3166-2:LY</td>\n",
       "    </tr>\n",
       "    <tr>\n",
       "      <th>240</th>\n",
       "      <td>リヒテンシュタイン</td>\n",
       "      <td>Liechtenstein</td>\n",
       "      <td>438</td>\n",
       "      <td>LIE</td>\n",
       "      <td>LI</td>\n",
       "      <td>西ヨーロッパ</td>\n",
       "      <td>ISO 3166-2:LI</td>\n",
       "    </tr>\n",
       "    <tr>\n",
       "      <th>241</th>\n",
       "      <td>リベリア</td>\n",
       "      <td>Liberia</td>\n",
       "      <td>430</td>\n",
       "      <td>LBR</td>\n",
       "      <td>LR</td>\n",
       "      <td>西アフリカ</td>\n",
       "      <td>ISO 3166-2:LR</td>\n",
       "    </tr>\n",
       "    <tr>\n",
       "      <th>242</th>\n",
       "      <td>ルーマニア</td>\n",
       "      <td>Romania</td>\n",
       "      <td>642</td>\n",
       "      <td>ROU</td>\n",
       "      <td>RO</td>\n",
       "      <td>東ヨーロッパ</td>\n",
       "      <td>ISO 3166-2:RO</td>\n",
       "    </tr>\n",
       "    <tr>\n",
       "      <th>243</th>\n",
       "      <td>ルクセンブルク</td>\n",
       "      <td>Luxembourg</td>\n",
       "      <td>442</td>\n",
       "      <td>LUX</td>\n",
       "      <td>LU</td>\n",
       "      <td>西ヨーロッパ</td>\n",
       "      <td>ISO 3166-2:LU</td>\n",
       "    </tr>\n",
       "    <tr>\n",
       "      <th>244</th>\n",
       "      <td>ルワンダ</td>\n",
       "      <td>Rwanda</td>\n",
       "      <td>646</td>\n",
       "      <td>RWA</td>\n",
       "      <td>RW</td>\n",
       "      <td>中央アフリカ</td>\n",
       "      <td>ISO 3166-2:RW</td>\n",
       "    </tr>\n",
       "    <tr>\n",
       "      <th>245</th>\n",
       "      <td>レソト</td>\n",
       "      <td>Lesotho</td>\n",
       "      <td>426</td>\n",
       "      <td>LSO</td>\n",
       "      <td>LS</td>\n",
       "      <td>南アフリカ</td>\n",
       "      <td>ISO 3166-2:LS</td>\n",
       "    </tr>\n",
       "    <tr>\n",
       "      <th>246</th>\n",
       "      <td>レバノン</td>\n",
       "      <td>Lebanon</td>\n",
       "      <td>422</td>\n",
       "      <td>LBN</td>\n",
       "      <td>LB</td>\n",
       "      <td>中東</td>\n",
       "      <td>ISO 3166-2:LB</td>\n",
       "    </tr>\n",
       "    <tr>\n",
       "      <th>247</th>\n",
       "      <td>レユニオン</td>\n",
       "      <td>Réunion</td>\n",
       "      <td>638</td>\n",
       "      <td>REU</td>\n",
       "      <td>RE</td>\n",
       "      <td>インド洋地域</td>\n",
       "      <td>ISO 3166-2:RE</td>\n",
       "    </tr>\n",
       "    <tr>\n",
       "      <th>248</th>\n",
       "      <td>ロシア|ロシア連邦</td>\n",
       "      <td>Russian Federation</td>\n",
       "      <td>643</td>\n",
       "      <td>RUS</td>\n",
       "      <td>RU</td>\n",
       "      <td>ロシア</td>\n",
       "      <td>ISO 3166-2:RU</td>\n",
       "    </tr>\n",
       "  </tbody>\n",
       "</table>\n",
       "<p>249 rows × 7 columns</p>\n",
       "</div>"
      ],
      "text/plain": [
       "               国・地域名                               英語名    数   三字  二字      場所  \\\n",
       "0             アイスランド                           Iceland  352  ISL  IS  北ヨーロッパ   \n",
       "1             アイルランド                           Ireland  372  IRL  IE  西ヨーロッパ   \n",
       "2           アゼルバイジャン                        Azerbaijan   31  AZE  AZ  東ヨーロッパ   \n",
       "3            アフガニスタン                       Afghanistan    4  AFG  AF      中東   \n",
       "4            アメリカ合衆国                     United States  840  USA  US   北アメリカ   \n",
       "5       アメリカ領ヴァージン諸島              Virgin Islands, U.S.  850  VIR  VI  中央アメリカ   \n",
       "6           アメリカ領サモア                    American Samoa   16  ASM  AS   オセアニア   \n",
       "7           アラブ首長国連邦              United Arab Emirates  784  ARE  AE      中東   \n",
       "8             アルジェリア                           Algeria   12  DZA  DZ   北アフリカ   \n",
       "9             アルゼンチン                         Argentina   32  ARG  AR   南アメリカ   \n",
       "10               アルバ                             Aruba  533  ABW  AW  中央アメリカ   \n",
       "11             アルバニア                           Albania    8  ALB  AL  東ヨーロッパ   \n",
       "12             アルメニア                           Armenia   51  ARM  AM  東ヨーロッパ   \n",
       "13              アンギラ                          Anguilla  660  AIA  AI  中央アメリカ   \n",
       "14              アンゴラ                            Angola   24  AGO  AO   南アフリカ   \n",
       "15      アンティグア・バーブーダ               Antigua and Barbuda   28  ATG  AG  中央アメリカ   \n",
       "16              アンドラ                           Andorra   20  AND  AD  西ヨーロッパ   \n",
       "17              イエメン                             Yemen  887  YEM  YE      中東   \n",
       "18              イギリス                    United Kingdom  826  GBR  GB  西ヨーロッパ   \n",
       "19       イギリス領インド洋地域    British Indian Ocean Territory   86  IOT  IO  インド洋地域   \n",
       "20      イギリス領ヴァージン諸島           Virgin Islands, British   92  VGB  VG  中央アメリカ   \n",
       "21             イスラエル                            Israel  376  ISR  IL      中東   \n",
       "22              イタリア                             Italy  380  ITA  IT  西ヨーロッパ   \n",
       "23               イラク                              Iraq  368  IRQ  IQ      中東   \n",
       "24   イラン|イラン・イスラム共和国         Iran, Islamic Republic of  364  IRN  IR      中東   \n",
       "25               インド                             India  356  IND  IN    南アジア   \n",
       "26            インドネシア                         Indonesia  360  IDN  ID   東南アジア   \n",
       "27          ウォリス・フツナ                 Wallis and Futuna  876  WLF  WF   オセアニア   \n",
       "28              ウガンダ                            Uganda  800  UGA  UG  中央アフリカ   \n",
       "29             ウクライナ                           Ukraine  804  UKR  UA  東ヨーロッパ   \n",
       "..               ...                               ...  ...  ...  ..     ...   \n",
       "219              マン島                       Isle of Man  833  IMN  IM  西ヨーロッパ   \n",
       "220         ミクロネシア連邦   Micronesia, Federated States of  583  FSM  FM   オセアニア   \n",
       "221   南アフリカ共和国|南アフリカ                      South Africa  710  ZAF  ZA   南アフリカ   \n",
       "222            南スーダン                       South Sudan  728  SSD  SS   東アフリカ   \n",
       "223            ミャンマー                           Myanmar  104  MMR  MM   東南アジア   \n",
       "224             メキシコ                            Mexico  484  MEX  MX  中央アメリカ   \n",
       "225           モーリシャス                         Mauritius  480  MUS  MU   南アフリカ   \n",
       "226           モーリタニア                        Mauritania  478  MRT  MR   西アフリカ   \n",
       "227           モザンビーク                        Mozambique  508  MOZ  MZ   南アフリカ   \n",
       "228              モナコ                            Monaco  492  MCO  MC  西ヨーロッパ   \n",
       "229            モルディブ                          Maldives  462  MDV  MV  インド洋地域   \n",
       "230     モルドバ|モルドバ共和国              Moldova, Republic of  498  MDA  MD  東ヨーロッパ   \n",
       "231             モロッコ                           Morocco  504  MAR  MA   北アフリカ   \n",
       "232       モンゴル国|モンゴル                          Mongolia  496  MNG  MN    東アジア   \n",
       "233           モンテネグロ                        Montenegro  499  MNE  ME  東ヨーロッパ   \n",
       "234           モントセラト                        Montserrat  500  MSR  MS  中央アメリカ   \n",
       "235             ヨルダン                            Jordan  400  JOR  JO      中東   \n",
       "236   ラオス|ラオス人民民主共和国  Lao People's Democratic Republic  418  LAO  LA   東南アジア   \n",
       "237             ラトビア                            Latvia  428  LVA  LV  東ヨーロッパ   \n",
       "238            リトアニア                         Lithuania  440  LTU  LT  東ヨーロッパ   \n",
       "239              リビア                             Libya  434  LBY  LY   北アフリカ   \n",
       "240        リヒテンシュタイン                     Liechtenstein  438  LIE  LI  西ヨーロッパ   \n",
       "241             リベリア                           Liberia  430  LBR  LR   西アフリカ   \n",
       "242            ルーマニア                           Romania  642  ROU  RO  東ヨーロッパ   \n",
       "243          ルクセンブルク                        Luxembourg  442  LUX  LU  西ヨーロッパ   \n",
       "244             ルワンダ                            Rwanda  646  RWA  RW  中央アフリカ   \n",
       "245              レソト                           Lesotho  426  LSO  LS   南アフリカ   \n",
       "246             レバノン                           Lebanon  422  LBN  LB      中東   \n",
       "247            レユニオン                           Réunion  638  REU  RE  インド洋地域   \n",
       "248        ロシア|ロシア連邦                Russian Federation  643  RUS  RU     ロシア   \n",
       "\n",
       "             各行政区分  \n",
       "0    ISO 3166-2:IS  \n",
       "1    ISO 3166-2:IE  \n",
       "2    ISO 3166-2:AZ  \n",
       "3    ISO 3166-2:AF  \n",
       "4    ISO 3166-2:US  \n",
       "5    ISO 3166-2:VI  \n",
       "6    ISO 3166-2:AS  \n",
       "7    ISO 3166-2:AE  \n",
       "8    ISO 3166-2:DZ  \n",
       "9    ISO 3166-2:AR  \n",
       "10   ISO 3166-2:AW  \n",
       "11   ISO 3166-2:AL  \n",
       "12   ISO 3166-2:AM  \n",
       "13   ISO 3166-2:AI  \n",
       "14   ISO 3166-2:AO  \n",
       "15   ISO 3166-2:AG  \n",
       "16   ISO 3166-2:AD  \n",
       "17   ISO 3166-2:YE  \n",
       "18   ISO 3166-2:GB  \n",
       "19   ISO 3166-2:IO  \n",
       "20   ISO 3166-2:VG  \n",
       "21   ISO 3166-2:IL  \n",
       "22   ISO 3166-2:IT  \n",
       "23   ISO 3166-2:IQ  \n",
       "24   ISO 3166-2:IR  \n",
       "25   ISO 3166-2:IN  \n",
       "26   ISO 3166-2:ID  \n",
       "27   ISO 3166-2:WF  \n",
       "28   ISO 3166-2:UG  \n",
       "29   ISO 3166-2:UA  \n",
       "..             ...  \n",
       "219  ISO 3166-2:IM  \n",
       "220  ISO 3166-2:FM  \n",
       "221  ISO 3166-2:ZA  \n",
       "222  ISO 3166-2:SS  \n",
       "223  ISO 3166-2:MM  \n",
       "224  ISO 3166-2:MX  \n",
       "225  ISO 3166-2:MU  \n",
       "226  ISO 3166-2:MR  \n",
       "227  ISO 3166-2:MZ  \n",
       "228  ISO 3166-2:MC  \n",
       "229  ISO 3166-2:MV  \n",
       "230  ISO 3166-2:MD  \n",
       "231  ISO 3166-2:MA  \n",
       "232  ISO 3166-2:MN  \n",
       "233  ISO 3166-2:ME  \n",
       "234  ISO 3166-2:MS  \n",
       "235  ISO 3166-2:JO  \n",
       "236  ISO 3166-2:LA  \n",
       "237  ISO 3166-2:LV  \n",
       "238  ISO 3166-2:LT  \n",
       "239  ISO 3166-2:LY  \n",
       "240  ISO 3166-2:LI  \n",
       "241  ISO 3166-2:LR  \n",
       "242  ISO 3166-2:RO  \n",
       "243  ISO 3166-2:LU  \n",
       "244  ISO 3166-2:RW  \n",
       "245  ISO 3166-2:LS  \n",
       "246  ISO 3166-2:LB  \n",
       "247  ISO 3166-2:RE  \n",
       "248  ISO 3166-2:RU  \n",
       "\n",
       "[249 rows x 7 columns]"
      ]
     },
     "execution_count": 13,
     "metadata": {},
     "output_type": "execute_result"
    }
   ],
   "source": [
    "df"
   ]
  },
  {
   "cell_type": "code",
   "execution_count": 14,
   "metadata": {
    "scrolled": true
   },
   "outputs": [
    {
     "data": {
      "text/plain": [
       "{'Afghanistan',\n",
       " 'Albania',\n",
       " 'Algeria',\n",
       " 'American Samoa',\n",
       " 'Andorra',\n",
       " 'Angola',\n",
       " 'Anguilla',\n",
       " 'Antarctica',\n",
       " 'Antigua and Barbuda',\n",
       " 'Argentina',\n",
       " 'Armenia',\n",
       " 'Aruba',\n",
       " 'Australia',\n",
       " 'Austria',\n",
       " 'Azerbaijan',\n",
       " 'Bahamas',\n",
       " 'Bahrain',\n",
       " 'Bangladesh',\n",
       " 'Barbados',\n",
       " 'Belarus',\n",
       " 'Belgium',\n",
       " 'Belize',\n",
       " 'Benin',\n",
       " 'Bermuda',\n",
       " 'Bhutan',\n",
       " 'Bolivia Plurinational State of',\n",
       " 'Bonaire Saint Eustatius and Saba',\n",
       " 'Bosnia and Herzegovina',\n",
       " 'Botswana',\n",
       " 'Bouvet Island',\n",
       " 'Brazil',\n",
       " 'British Indian Ocean Territory',\n",
       " 'Brunei Darussalam',\n",
       " 'Bulgaria',\n",
       " 'Burkina Faso',\n",
       " 'Burundi',\n",
       " 'Cambodia',\n",
       " 'Cameroon',\n",
       " 'Canada',\n",
       " 'Cape Verde',\n",
       " 'Cayman Islands',\n",
       " 'Central African Republic',\n",
       " 'Chad',\n",
       " 'Chile',\n",
       " 'China',\n",
       " 'Christmas Island',\n",
       " 'Cocos Keeling Islands',\n",
       " 'Colombia',\n",
       " 'Comoros',\n",
       " 'Congo',\n",
       " 'Congo the Democratic Republic of the',\n",
       " 'Cook Islands',\n",
       " 'Costa Rica',\n",
       " 'Croatia',\n",
       " 'Cuba',\n",
       " 'Curaçao',\n",
       " 'Cyprus',\n",
       " 'Czech Republic',\n",
       " \"Côte d'Ivoire\",\n",
       " 'Denmark',\n",
       " 'Djibouti',\n",
       " 'Dominica',\n",
       " 'Dominican Republic',\n",
       " 'Ecuador',\n",
       " 'Egypt',\n",
       " 'El Salvador',\n",
       " 'Equatorial Guinea',\n",
       " 'Eritrea',\n",
       " 'Estonia',\n",
       " 'Ethiopia',\n",
       " 'Falkland Islands Malvinas',\n",
       " 'Faroe Islands',\n",
       " 'Fiji',\n",
       " 'Finland',\n",
       " 'France',\n",
       " 'French Guiana',\n",
       " 'French Polynesia',\n",
       " 'French Southern Territories',\n",
       " 'Gabon',\n",
       " 'Gambia',\n",
       " 'Georgia',\n",
       " 'Germany',\n",
       " 'Ghana',\n",
       " 'Gibraltar',\n",
       " 'Greece',\n",
       " 'Greenland',\n",
       " 'Grenada',\n",
       " 'Guadeloupe',\n",
       " 'Guam',\n",
       " 'Guatemala',\n",
       " 'Guernsey',\n",
       " 'Guinea',\n",
       " 'Guinea-Bissau',\n",
       " 'Guyana',\n",
       " 'Haiti',\n",
       " 'Heard Island and McDonald Islands',\n",
       " 'Holy See Vatican City State',\n",
       " 'Honduras',\n",
       " 'Hong Kong',\n",
       " 'Hungary',\n",
       " 'Iceland',\n",
       " 'India',\n",
       " 'Indonesia',\n",
       " 'Iran Islamic Republic of',\n",
       " 'Iraq',\n",
       " 'Ireland',\n",
       " 'Isle of Man',\n",
       " 'Israel',\n",
       " 'Italy',\n",
       " 'Jamaica',\n",
       " 'Japan',\n",
       " 'Jersey',\n",
       " 'Jordan',\n",
       " 'Kazakhstan',\n",
       " 'Kenya',\n",
       " 'Kiribati',\n",
       " \"Korea Democratic People's Republic of\",\n",
       " 'Korea Republic of',\n",
       " 'Kuwait',\n",
       " 'Kyrgyzstan',\n",
       " \"Lao People's Democratic Republic\",\n",
       " 'Latvia',\n",
       " 'Lebanon',\n",
       " 'Lesotho',\n",
       " 'Liberia',\n",
       " 'Libya',\n",
       " 'Liechtenstein',\n",
       " 'Lithuania',\n",
       " 'Luxembourg',\n",
       " 'Macao',\n",
       " 'Macedonia the former Yugoslav Republic of',\n",
       " 'Madagascar',\n",
       " 'Malawi',\n",
       " 'Malaysia',\n",
       " 'Maldives',\n",
       " 'Mali',\n",
       " 'Malta',\n",
       " 'Marshall Islands',\n",
       " 'Martinique',\n",
       " 'Mauritania',\n",
       " 'Mauritius',\n",
       " 'Mayotte',\n",
       " 'Mexico',\n",
       " 'Micronesia Federated States of',\n",
       " 'Moldova Republic of',\n",
       " 'Monaco',\n",
       " 'Mongolia',\n",
       " 'Montenegro',\n",
       " 'Montserrat',\n",
       " 'Morocco',\n",
       " 'Mozambique',\n",
       " 'Myanmar',\n",
       " 'Namibia',\n",
       " 'Nauru',\n",
       " 'Nepal',\n",
       " 'Netherlands',\n",
       " 'New Caledonia',\n",
       " 'New Zealand',\n",
       " 'Nicaragua',\n",
       " 'Niger',\n",
       " 'Nigeria',\n",
       " 'Niue',\n",
       " 'Norfolk Island',\n",
       " 'Northern Mariana Islands',\n",
       " 'Norway',\n",
       " 'Oman',\n",
       " 'Pakistan',\n",
       " 'Palau',\n",
       " 'Palestinian Territory Occupied',\n",
       " 'Panama',\n",
       " 'Papua New Guinea',\n",
       " 'Paraguay',\n",
       " 'Peru',\n",
       " 'Philippines',\n",
       " 'Pitcairn',\n",
       " 'Poland',\n",
       " 'Portugal',\n",
       " 'Puerto Rico',\n",
       " 'Qatar',\n",
       " 'Romania',\n",
       " 'Russian Federation',\n",
       " 'Rwanda',\n",
       " 'Réunion',\n",
       " 'Saint Barthélemy',\n",
       " 'Saint Helena Ascension and Tristan da Cunha',\n",
       " 'Saint Kitts and Nevis',\n",
       " 'Saint Lucia',\n",
       " 'Saint Martin French part',\n",
       " 'Saint Pierre and Miquelon',\n",
       " 'Saint Vincent and the Grenadines',\n",
       " 'Samoa',\n",
       " 'San Marino',\n",
       " 'Sao Tome and Principe',\n",
       " 'Saudi Arabia',\n",
       " 'Senegal',\n",
       " 'Serbia',\n",
       " 'Seychelles',\n",
       " 'Sierra Leone',\n",
       " 'Singapore',\n",
       " 'Sint Maarten Dutch part',\n",
       " 'Slovakia',\n",
       " 'Slovenia',\n",
       " 'Solomon Islands',\n",
       " 'Somalia',\n",
       " 'South Africa',\n",
       " 'South Georgia and the South Sandwich Islands',\n",
       " 'South Sudan',\n",
       " 'Spain',\n",
       " 'Sri Lanka',\n",
       " 'Sudan',\n",
       " 'Suriname',\n",
       " 'Svalbard and Jan Mayen',\n",
       " 'Swaziland',\n",
       " 'Sweden',\n",
       " 'Switzerland',\n",
       " 'Syrian Arab Republic',\n",
       " 'Taiwan Province of China',\n",
       " 'Tajikistan',\n",
       " 'Tanzania United Republic of',\n",
       " 'Thailand',\n",
       " 'Timor-Leste',\n",
       " 'Togo',\n",
       " 'Tokelau',\n",
       " 'Tonga',\n",
       " 'Trinidad and Tobago',\n",
       " 'Tunisia',\n",
       " 'Turkey',\n",
       " 'Turkmenistan',\n",
       " 'Turks and Caicos Islands',\n",
       " 'Tuvalu',\n",
       " 'Uganda',\n",
       " 'Ukraine',\n",
       " 'United Arab Emirates',\n",
       " 'United Kingdom',\n",
       " 'United States',\n",
       " 'United States Minor Outlying Islands',\n",
       " 'Uruguay',\n",
       " 'Uzbekistan',\n",
       " 'Vanuatu',\n",
       " 'Venezuela Bolivarian Republic of',\n",
       " 'Viet Nam',\n",
       " 'Virgin Islands British',\n",
       " 'Virgin Islands U.S',\n",
       " 'Wallis and Futuna',\n",
       " 'Western Sahara',\n",
       " 'Yemen',\n",
       " 'Zambia',\n",
       " 'Zimbabwe',\n",
       " 'Åland Islands'}"
      ]
     },
     "execution_count": 14,
     "metadata": {},
     "output_type": "execute_result"
    }
   ],
   "source": [
    "country_names = set([\" \".join([part.strip().strip(\".,!?;:()[]'\\\"\") for part in country_name.split(\" \")]) for country_name in df[\"英語名\"].to_list()])\n",
    "country_names"
   ]
  },
  {
   "cell_type": "code",
   "execution_count": 15,
   "metadata": {},
   "outputs": [],
   "source": [
    "with open(\"output_80.txt\", mode=\"r\") as f:\n",
    "     text = f.readlines()"
   ]
  },
  {
   "cell_type": "code",
   "execution_count": 16,
   "metadata": {
    "scrolled": false
   },
   "outputs": [],
   "source": [
    "replaced_lines = []\n",
    "\n",
    "for line in text:\n",
    "    line = line.strip()\n",
    "    for country in country_names:\n",
    "        if country in line:\n",
    "            line = line.replace(country, country.replace(\" \", \"_\"))\n",
    "    replaced_lines.append(line)"
   ]
  },
  {
   "cell_type": "code",
   "execution_count": 17,
   "metadata": {},
   "outputs": [
    {
     "data": {
      "text/plain": [
       "['Anarchism',\n",
       " '',\n",
       " 'Anarchism is a political philosophy that advocates stateless societies often defined as self-governed voluntary institutions but that several authors have defined as more specific institutions based on non-hierarchical free associations Anarchism holds the state to be undesirable unnecessary or harmful While anti-statism is central anarchism entails opposing authority or hierarchical organisation in the conduct of human relations including but not limited to the state system',\n",
       " 'As a subtle and anti-dogmatic philosophy anarchism draws on many currents of thought and strategy Anarchism does not offer a fixed body of doctrine from a single particular world view instead fluxing and flowing as a philosophy There are many types and traditions of anarchism not all of which are mutually exclusive Anarchist schools of thought can differ fundamentally supporting anything from extreme individualism to complete collectivism Strains of anarchism have often been divided into the categories of social and individualist anarchism or similar dual classifications Anarchism is usually considered a radical left-wing ideology and much of anarchist economics and anarchist legal philosophy reflect anti-authoritarian interpretations of communism collectivism syndicalism mutualism or participatory economics',\n",
       " 'The central tendency of anarchism as a social movement has been represented by anarcho-communism and anarcho-syndicalism with individualist anarchism being primarily a literary phenomenon which nevertheless did have an impact on the bigger currents and individualists have also participated in large anarchist organisations Many anarchists oppose all forms of aggression supporting self-defense or non-violence anarcho-pacifism while others have supported the use of some coercive measures including violent revolution and propaganda of the deed as means to achieve anarchist ends']"
      ]
     },
     "execution_count": 17,
     "metadata": {},
     "output_type": "execute_result"
    }
   ],
   "source": [
    "replaced_lines[:5]"
   ]
  },
  {
   "cell_type": "code",
   "execution_count": 18,
   "metadata": {},
   "outputs": [],
   "source": [
    "with open(\"output_81.txt\", mode=\"w\") as f:\n",
    "    f.write(\"\\n\".join(replaced_lines))"
   ]
  },
  {
   "cell_type": "code",
   "execution_count": 19,
   "metadata": {},
   "outputs": [
    {
     "name": "stdout",
     "output_type": "stream",
     "text": [
      "Anarchism\r\n",
      "\r\n",
      "Anarchism is a political philosophy that advocates stateless societies often defined as self-governed voluntary institutions but that several authors have defined as more specific institutions based on non-hierarchical free associations Anarchism holds the state to be undesirable unnecessary or harmful While anti-statism is central anarchism entails opposing authority or hierarchical organisation in the conduct of human relations including but not limited to the state system\r\n",
      "As a subtle and anti-dogmatic philosophy anarchism draws on many currents of thought and strategy Anarchism does not offer a fixed body of doctrine from a single particular world view instead fluxing and flowing as a philosophy There are many types and traditions of anarchism not all of which are mutually exclusive Anarchist schools of thought can differ fundamentally supporting anything from extreme individualism to complete collectivism Strains of anarchism have often been divided into the categories of social and individualist anarchism or similar dual classifications Anarchism is usually considered a radical left-wing ideology and much of anarchist economics and anarchist legal philosophy reflect anti-authoritarian interpretations of communism collectivism syndicalism mutualism or participatory economics\r\n",
      "The central tendency of anarchism as a social movement has been represented by anarcho-communism and anarcho-syndicalism with individualist anarchism being primarily a literary phenomenon which nevertheless did have an impact on the bigger currents and individualists have also participated in large anarchist organisations Many anarchists oppose all forms of aggression supporting self-defense or non-violence anarcho-pacifism while others have supported the use of some coercive measures including violent revolution and propaganda of the deed as means to achieve anarchist ends\r\n"
     ]
    }
   ],
   "source": [
    "! head -n 5 output_81.txt"
   ]
  },
  {
   "cell_type": "markdown",
   "metadata": {},
   "source": [
    "## 82. 文脈の抽出\n",
    "81で作成したコーパス中に出現するすべての単語tに関して，単語tと文脈語cのペアをタブ区切り形式ですべて書き出せ．ただし，文脈語の定義は次の通りとする．\n",
    "\n",
    "- ある単語$t$の前後$d$単語を文脈語$c$として抽出する（ただし，文脈語に単語$t$そのものは含まない）\n",
    "- 単語$t$を選ぶ度に，文脈幅$d$は${1,2,3,4,5}$の範囲でランダムに決める．"
   ]
  },
  {
   "cell_type": "code",
   "execution_count": 20,
   "metadata": {},
   "outputs": [],
   "source": [
    "with open(\"output_81.txt\", mode=\"r\") as f:\n",
    "     text = f.readlines()"
   ]
  },
  {
   "cell_type": "code",
   "execution_count": 21,
   "metadata": {},
   "outputs": [],
   "source": [
    "from random import randint"
   ]
  },
  {
   "cell_type": "code",
   "execution_count": 22,
   "metadata": {},
   "outputs": [],
   "source": [
    "f = open(\"output_82.tsv\", mode=\"w\")\n",
    "\n",
    "for line in text:\n",
    "    words = line.strip().split(\" \")\n",
    "    words_num = len(words)\n",
    "    for i in range(words_num):\n",
    "        d = randint(1, 5)\n",
    "        for j in range(-d, d, 1):\n",
    "            if j == 0:\n",
    "                continue\n",
    "            if 0 <= i + j < words_num:\n",
    "                f.write(\"%s\\t%s\\n\" % (words[i], words[i + j]))\n",
    "f.close()"
   ]
  },
  {
   "cell_type": "code",
   "execution_count": 23,
   "metadata": {},
   "outputs": [
    {
     "name": "stdout",
     "output_type": "stream",
     "text": [
      "Anarchism\tis\r\n",
      "Anarchism\ta\r\n",
      "Anarchism\tpolitical\r\n",
      "is\tAnarchism\r\n",
      "is\ta\r\n"
     ]
    }
   ],
   "source": [
    "! head -n 5 output_82.tsv"
   ]
  },
  {
   "cell_type": "markdown",
   "metadata": {},
   "source": [
    "## 83. 単語／文脈の頻度の計測\n",
    "82の出力を利用し，以下の出現分布，および定数を求めよ．\n",
    "\n",
    "- $f(t,c)$: 単語$t$と文脈語$c$の共起回数\n",
    "- $f(t,∗)$: 単語$t$の出現回数\n",
    "- $f(∗,c)$: 文脈語$c$の出現回数\n",
    "- $N$: 単語と文脈語のペアの総出現回数"
   ]
  },
  {
   "cell_type": "code",
   "execution_count": 24,
   "metadata": {},
   "outputs": [],
   "source": [
    "with open(\"output_82.tsv\", mode=\"r\") as f:\n",
    "     text = f.readlines()"
   ]
  },
  {
   "cell_type": "code",
   "execution_count": 25,
   "metadata": {},
   "outputs": [],
   "source": [
    "from collections import Counter"
   ]
  },
  {
   "cell_type": "code",
   "execution_count": 26,
   "metadata": {},
   "outputs": [],
   "source": [
    "t_counter, c_counter, tc_counter = Counter(), Counter(), Counter()"
   ]
  },
  {
   "cell_type": "code",
   "execution_count": 27,
   "metadata": {},
   "outputs": [],
   "source": [
    "for batch_start in range(0, len(text), 10000):\n",
    "    batch_end = batch_start + 10000 if batch_start + 10000 < len(text) else len(text)\n",
    "    t_list, c_list, tc_list  = [], [], []\n",
    "    for line in text[batch_start:batch_end]:\n",
    "        try:\n",
    "            tc = line.strip().split(\"\\t\")\n",
    "            t_list.append(tc[0])\n",
    "            c_list.append(tc[1])\n",
    "            tc_list.append(line.strip())\n",
    "        except IndexError:\n",
    "            print(tc)\n",
    "    t_counter.update(t_list)\n",
    "    c_counter.update(c_list)\n",
    "    tc_counter.update(tc_list)"
   ]
  },
  {
   "cell_type": "code",
   "execution_count": 28,
   "metadata": {},
   "outputs": [],
   "source": [
    "import joblib"
   ]
  },
  {
   "cell_type": "code",
   "execution_count": 29,
   "metadata": {},
   "outputs": [
    {
     "data": {
      "text/plain": [
       "['tc_counter.pcl']"
      ]
     },
     "execution_count": 29,
     "metadata": {},
     "output_type": "execute_result"
    }
   ],
   "source": [
    "joblib.dump(t_counter, \"t_counter.pcl\", compress=3)\n",
    "joblib.dump(c_counter, \"c_counter.pcl\", compress=3)\n",
    "joblib.dump(tc_counter, \"tc_counter.pcl\", compress=3)"
   ]
  },
  {
   "cell_type": "code",
   "execution_count": 30,
   "metadata": {},
   "outputs": [
    {
     "data": {
      "text/plain": [
       "56826521"
      ]
     },
     "execution_count": 30,
     "metadata": {},
     "output_type": "execute_result"
    }
   ],
   "source": [
    "N = len(text)\n",
    "N"
   ]
  },
  {
   "cell_type": "markdown",
   "metadata": {},
   "source": [
    "## 84. 単語文脈行列の作成\n",
    "83の出力を利用し，単語文脈行列Xを作成せよ．ただし，行列Xの各要素Xtcは次のように定義する．\n",
    "\n",
    "$f(t,c)≥10$ならば，$X_{tc}=PPMI(t,c)=max{\\log \\frac{N×f(t,c)}{f(t,∗)×f(∗,c)},0}$\n",
    "\n",
    "$f(t,c)<10$ならば，$X_{tc}=0$\n",
    "\n",
    "ここで，PPMI(t,c)はPositive Pointwise Mutual Information（正の相互情報量）と呼ばれる統計量である．なお，行列Xの行数・列数は数百万オーダとなり，行列のすべての要素を主記憶上に載せることは無理なので注意すること．幸い，行列Xのほとんどの要素は0になるので，非0の要素だけを書き出せばよい．"
   ]
  },
  {
   "cell_type": "code",
   "execution_count": 31,
   "metadata": {},
   "outputs": [],
   "source": [
    "from scipy import sparse"
   ]
  },
  {
   "cell_type": "code",
   "execution_count": 32,
   "metadata": {},
   "outputs": [],
   "source": [
    "from collections import OrderedDict"
   ]
  },
  {
   "cell_type": "code",
   "execution_count": 33,
   "metadata": {},
   "outputs": [],
   "source": [
    "size_t = len(t_counter)\n",
    "size_c = len(c_counter)\n",
    "matrix_x = sparse.lil_matrix((size_t, size_c))"
   ]
  },
  {
   "cell_type": "code",
   "execution_count": 34,
   "metadata": {},
   "outputs": [],
   "source": [
    "ordered_t_index = OrderedDict([(t, i) for i, t in enumerate(t_counter)])\n",
    "ordered_c_index = OrderedDict([(c, i) for i, c in enumerate(c_counter)])\n",
    "ordered_tc_counter = OrderedDict(tc_counter)"
   ]
  },
  {
   "cell_type": "code",
   "execution_count": 35,
   "metadata": {},
   "outputs": [],
   "source": [
    "import math"
   ]
  },
  {
   "cell_type": "code",
   "execution_count": 36,
   "metadata": {},
   "outputs": [],
   "source": [
    "for tc in tc_counter.keys():\n",
    "    t, c = tc.split(\"\\t\")\n",
    "    if tc_counter[tc] >= 10:\n",
    "        matrix_x[ordered_t_index[t], ordered_c_index[c]] = max(math.log((N * tc_counter[tc]) / (t_counter[t] * c_counter[c])), 0)"
   ]
  },
  {
   "cell_type": "code",
   "execution_count": 37,
   "metadata": {},
   "outputs": [
    {
     "data": {
      "text/plain": [
       "['ordered_c_index.pcl']"
      ]
     },
     "execution_count": 37,
     "metadata": {},
     "output_type": "execute_result"
    }
   ],
   "source": [
    "joblib.dump(matrix_x, \"matrix_x.pcl\", compress=3)\n",
    "joblib.dump(ordered_t_index, \"ordered_t_index.pcl\", compress=3)\n",
    "joblib.dump(ordered_c_index, \"ordered_c_index.pcl\", compress=3)"
   ]
  },
  {
   "cell_type": "markdown",
   "metadata": {},
   "source": [
    "## 85. 主成分分析による次元圧縮\n",
    "84で得られた単語文脈行列に対して，主成分分析を適用し，単語の意味ベクトルを300次元に圧縮せよ．"
   ]
  },
  {
   "cell_type": "code",
   "execution_count": 38,
   "metadata": {},
   "outputs": [],
   "source": [
    "from sklearn.decomposition import TruncatedSVD"
   ]
  },
  {
   "cell_type": "code",
   "execution_count": 39,
   "metadata": {},
   "outputs": [],
   "source": [
    "matrix_x = matrix_x.tocsr()"
   ]
  },
  {
   "cell_type": "code",
   "execution_count": 40,
   "metadata": {},
   "outputs": [],
   "source": [
    "truncated_svd = TruncatedSVD(300)"
   ]
  },
  {
   "cell_type": "code",
   "execution_count": 41,
   "metadata": {},
   "outputs": [],
   "source": [
    "vectors = truncated_svd.fit_transform(matrix_x)"
   ]
  },
  {
   "cell_type": "code",
   "execution_count": 42,
   "metadata": {},
   "outputs": [
    {
     "data": {
      "text/plain": [
       "['vectors.pcl']"
      ]
     },
     "execution_count": 42,
     "metadata": {},
     "output_type": "execute_result"
    }
   ],
   "source": [
    "joblib.dump(vectors, \"vectors.pcl\", compress=3)"
   ]
  },
  {
   "cell_type": "markdown",
   "metadata": {},
   "source": [
    "## 86. 単語ベクトルの表示\n",
    "85で得た単語の意味ベクトルを読み込み，\"United States\"のベクトルを表示せよ．ただし，\"United States\"は内部的には\"United_States\"と表現されていることに注意せよ．"
   ]
  },
  {
   "cell_type": "code",
   "execution_count": 43,
   "metadata": {
    "scrolled": true
   },
   "outputs": [
    {
     "data": {
      "text/plain": [
       "array([ 3.07490977e+00, -9.89788667e-01,  4.04423546e-01,  5.61225235e+00,\n",
       "        3.06839028e+00, -1.47914245e+00, -9.61723503e-01, -1.70230518e+00,\n",
       "        1.64244284e-01, -6.38937693e-01,  1.48440960e-01,  8.54868805e-01,\n",
       "        7.65930381e-01, -1.29570267e+00, -9.73075980e-01,  1.28957384e+00,\n",
       "        1.36926506e+00,  1.28855518e+00, -3.91967455e+00,  4.89049916e-01,\n",
       "       -9.05196626e-01,  6.88094499e-01,  4.29975891e-01,  9.02012837e-01,\n",
       "        1.72041897e+00,  1.81778766e+00,  1.26183622e+00, -9.96291402e-01,\n",
       "        3.96315609e-01,  2.54087157e-01,  6.48039273e-01,  2.98638699e+00,\n",
       "        2.88841615e+00,  2.43710338e+00,  9.03396511e-01, -2.09227847e+00,\n",
       "        1.19951202e+00,  9.29493255e-01,  8.84044060e-01,  4.35153511e-01,\n",
       "       -1.01629752e+00,  4.97123965e-01, -9.55659645e-01, -3.72146728e-01,\n",
       "        1.87197628e+00, -6.40559488e-01, -1.22621915e+00, -1.00612788e+00,\n",
       "       -5.73709853e-01,  4.11046774e-01, -1.95633757e+00,  1.05544842e+00,\n",
       "        8.01075572e-01,  6.11470239e-01,  1.07037843e+00, -5.21541210e-01,\n",
       "       -6.68040248e-01, -2.30384025e-01, -8.10779228e-01, -9.84067381e-01,\n",
       "       -2.43348298e-01, -3.12717747e-01,  7.83498536e-01,  1.89111684e+00,\n",
       "       -8.98034204e-02, -2.96416285e-01, -8.69944212e-01,  5.60044907e-01,\n",
       "       -6.54795118e-01,  1.16874090e+00,  1.30027817e+00, -2.12555581e+00,\n",
       "       -1.53484693e+00, -8.46416566e-01, -2.99438519e-01, -1.85907213e+00,\n",
       "       -6.86451037e-01, -1.97961693e+00, -1.39982294e+00,  8.84136386e-01,\n",
       "        6.19813254e-01,  3.71710074e-01, -5.58503857e-01, -3.14946463e-01,\n",
       "        2.05191775e+00,  8.66745212e-01,  1.60730730e+00, -3.34302042e-01,\n",
       "        1.39797195e-01, -1.45166344e+00, -6.99033658e-01, -4.03926633e-01,\n",
       "        8.41112422e-01, -1.44461557e+00, -4.71959393e-01,  2.96039495e-01,\n",
       "       -3.74446387e-01, -1.08390613e+00, -3.96087132e-01,  1.97842842e+00,\n",
       "       -3.12941569e-01,  4.39262197e-02, -4.68672476e-01,  1.23783250e-01,\n",
       "        2.23567970e-01,  1.31275090e+00,  5.05372511e-01, -1.37439062e+00,\n",
       "       -1.43779283e-01,  6.39962535e-01,  1.58152597e+00,  5.14383580e-02,\n",
       "       -2.63171625e+00, -3.08661681e-01,  1.87593164e+00,  9.13322950e-01,\n",
       "        5.41090604e-01, -5.12304450e-01,  2.38555335e-01,  5.49883659e-01,\n",
       "        9.60293173e-01,  4.22388439e-01,  1.60100230e-02,  5.28054876e-02,\n",
       "       -3.56478373e-01,  9.75580407e-01,  1.03845275e+00, -1.22830925e+00,\n",
       "        2.60913944e-01,  5.44504034e-01,  6.74603452e-02, -1.58104000e+00,\n",
       "        2.65171249e+00,  8.80573762e-01, -8.17434935e-01, -9.70137212e-01,\n",
       "       -1.28247964e-01,  9.18012468e-01,  1.13170495e+00,  2.08264964e+00,\n",
       "       -2.88103009e-01,  1.91668221e+00, -1.75822213e+00, -9.54288677e-01,\n",
       "        1.43397093e+00, -1.09304820e+00,  1.91260219e+00,  6.32764214e-02,\n",
       "        1.38239267e+00,  5.86366450e-01,  1.72255862e+00, -7.77081401e-02,\n",
       "        2.19249871e-01, -1.14975219e+00,  1.97120133e+00,  1.27195986e+00,\n",
       "       -7.17316083e-01,  2.66325917e+00, -6.51904647e-01, -1.48729202e+00,\n",
       "       -1.82571216e+00,  4.82484239e-01,  1.63318735e+00, -1.13253719e+00,\n",
       "        5.74540290e-01, -1.78049111e-01,  4.49859677e-01,  1.18504856e+00,\n",
       "       -3.01418205e-01,  2.17757117e+00, -1.40559950e+00, -6.27044717e-01,\n",
       "        3.33716354e-01,  1.62810580e+00,  1.95221222e+00,  1.03790641e+00,\n",
       "        5.72633518e-01, -8.82417019e-01, -1.30821931e+00,  1.09056206e+00,\n",
       "       -1.19221966e+00,  6.19255004e-01, -9.19864197e-02, -8.76291924e-01,\n",
       "       -1.70140936e+00, -1.35332476e+00,  4.11063029e-01,  4.87465221e-01,\n",
       "        6.46253632e-01, -9.56190968e-01,  6.50550033e-01,  1.08581800e+00,\n",
       "        2.20829775e+00,  1.09118695e+00, -3.18271999e-02, -5.68835957e-01,\n",
       "       -2.42484486e+00, -2.55373666e-01, -2.11743519e-01,  2.35108321e-01,\n",
       "        1.48540055e+00, -1.00261154e+00, -2.85208139e-03, -1.55357549e+00,\n",
       "       -7.20980492e-01, -5.03427944e-01, -1.72979109e+00, -1.17913312e+00,\n",
       "        8.42442736e-02, -5.45213411e-01, -1.37924311e+00,  1.62349480e+00,\n",
       "       -3.62348832e-01, -1.83023560e-01, -2.76235257e-01, -1.18706548e+00,\n",
       "        7.20698692e-01, -6.28641066e-02, -7.86671475e-01,  9.68601853e-01,\n",
       "       -1.36612058e-03, -5.73594740e-01,  1.31636354e+00,  3.46067698e-01,\n",
       "        7.23829768e-01, -2.87788919e-01, -7.43427732e-01,  1.26067515e+00,\n",
       "       -4.53365203e-01,  6.73717214e-02, -7.81603477e-03,  1.30047874e+00,\n",
       "        1.27744416e-01, -1.30314678e+00, -9.35556254e-01, -8.75000062e-01,\n",
       "       -4.98065935e-03,  4.59655585e-01, -2.93863254e-01,  4.31978129e-01,\n",
       "        1.65677832e-01, -8.91224970e-01, -1.10233819e+00,  4.35827281e-01,\n",
       "       -1.39724427e-01, -5.43412816e-01,  6.79215102e-01, -1.40743254e-01,\n",
       "       -5.82411113e-01, -8.26505500e-02,  4.61460264e-01,  1.95153586e-01,\n",
       "       -1.23627170e+00, -8.93957737e-01,  2.48542919e-02, -1.18242599e+00,\n",
       "       -2.36843127e-01, -1.63767814e+00,  7.88224867e-01,  2.64896795e-01,\n",
       "       -3.67267767e-01, -4.03951681e-01, -1.72798036e-01,  9.71085217e-01,\n",
       "       -4.75408738e-04,  5.73440366e-01,  6.39703306e-02,  4.71188921e-01,\n",
       "        6.35205788e-01, -1.76722432e-01,  3.52164586e-01, -4.79796537e-01,\n",
       "        6.69241168e-02, -2.47148957e-01,  2.81653383e-02,  1.15254320e+00,\n",
       "       -2.05935620e-01, -3.85917088e-01,  4.77812901e-01,  6.25239682e-01,\n",
       "        3.23241982e-01,  7.20873387e-01, -2.84235525e-01,  2.25881352e-01,\n",
       "       -9.58467316e-02,  4.09127036e-02, -1.00642718e+00, -8.62386724e-01,\n",
       "       -2.19127242e-01,  6.10756516e-01, -4.43010405e-01,  5.81863755e-02,\n",
       "       -8.49587386e-01,  4.97882972e-01, -5.27270162e-01, -8.73034641e-01,\n",
       "        1.69497987e-01,  7.03725777e-01, -5.73583736e-01,  9.74337156e-01])"
      ]
     },
     "execution_count": 43,
     "metadata": {},
     "output_type": "execute_result"
    }
   ],
   "source": [
    "vectors[ordered_t_index[\"United_States\"]]"
   ]
  },
  {
   "cell_type": "markdown",
   "metadata": {},
   "source": [
    "## 87. 単語の類似度\n",
    "85で得た単語の意味ベクトルを読み込み，\"United States\"と\"U.S.\"のコサイン類似度を計算せよ．ただし，\"U.S.\"は内部的に\"U.S\"と表現されていることに注意せよ．"
   ]
  },
  {
   "cell_type": "code",
   "execution_count": 44,
   "metadata": {},
   "outputs": [],
   "source": [
    "from scipy.spatial.distance import cosine"
   ]
  },
  {
   "cell_type": "code",
   "execution_count": 45,
   "metadata": {},
   "outputs": [],
   "source": [
    "def cosine_sim(v1, v2):\n",
    "    return max(1- cosine(v1, v2), 0)"
   ]
  },
  {
   "cell_type": "code",
   "execution_count": 46,
   "metadata": {},
   "outputs": [
    {
     "data": {
      "text/plain": [
       "0.8322623439521307"
      ]
     },
     "execution_count": 46,
     "metadata": {},
     "output_type": "execute_result"
    }
   ],
   "source": [
    "cosine_sim(vectors[ordered_t_index[\"United_States\"]], vectors[ordered_t_index[\"U.S\"]])"
   ]
  },
  {
   "cell_type": "markdown",
   "metadata": {},
   "source": [
    "## 88. 類似度の高い単語10件\n",
    "85で得た単語の意味ベクトルを読み込み，\"England\"とコサイン類似度が高い10語と，その類似度を出力せよ．"
   ]
  },
  {
   "cell_type": "code",
   "execution_count": 47,
   "metadata": {},
   "outputs": [],
   "source": [
    "def similary_n_words(target_word, n=10):\n",
    "    target_vector = vectors[ordered_t_index[target_word]]\n",
    "    sorted_results = sorted([(t, cosine_sim(target_vector, vectors[ordered_t_index[t]])) for t in ordered_t_index.keys() if t != target_word], key=lambda x: x[1], reverse=True)\n",
    "    return sorted_results[:n]"
   ]
  },
  {
   "cell_type": "code",
   "execution_count": 48,
   "metadata": {},
   "outputs": [
    {
     "name": "stderr",
     "output_type": "stream",
     "text": [
      "/usr/local/lib/python3.7/site-packages/scipy/spatial/distance.py:720: RuntimeWarning: invalid value encountered in double_scalars\n",
      "  dist = 1.0 - uv / np.sqrt(uu * vv)\n"
     ]
    },
    {
     "data": {
      "text/plain": [
       "[('France', 0.5755248166065686),\n",
       " ('central', 0.3253569526222403),\n",
       " ('United_States', 0.23512570808150945),\n",
       " ('Anarchism', 0.22671875799909047),\n",
       " ('entails', 0.21905797216762113),\n",
       " ('outside', 0.21702476872718646),\n",
       " ('world', 0.20551952901843906),\n",
       " ('represented', 0.19866953814569666),\n",
       " ('William', 0.179357048368322),\n",
       " ('himself', 0.1661710153653937)]"
      ]
     },
     "execution_count": 48,
     "metadata": {},
     "output_type": "execute_result"
    }
   ],
   "source": [
    "similary_n_words(\"England\")"
   ]
  },
  {
   "cell_type": "markdown",
   "metadata": {},
   "source": [
    "## 89. 加法構成性によるアナロジー\n",
    "85で得た単語の意味ベクトルを読み込み，vec(\"Spain\") - vec(\"Madrid\") + vec(\"Athens\")を計算し，そのベクトルと類似度の高い10語とその類似度を出力せよ．"
   ]
  },
  {
   "cell_type": "code",
   "execution_count": 49,
   "metadata": {},
   "outputs": [],
   "source": [
    "vector = vectors[ordered_t_index[\"Spain\"]] - vectors[ordered_t_index[\"Madrid\"]] + vectors[ordered_t_index[\"Athens\"]]"
   ]
  },
  {
   "cell_type": "code",
   "execution_count": 50,
   "metadata": {},
   "outputs": [],
   "source": [
    "def similary_n_words_by_vector(target_vector, n=10):\n",
    "    sorted_results = sorted([(t, cosine_sim(target_vector, vectors[ordered_t_index[t]])) for t in ordered_t_index.keys()], key=lambda x: x[1], reverse=True)\n",
    "    return sorted_results[:n]"
   ]
  },
  {
   "cell_type": "code",
   "execution_count": 51,
   "metadata": {
    "scrolled": true
   },
   "outputs": [
    {
     "data": {
      "text/plain": [
       "[('France', 0.728885547591208),\n",
       " ('revolt', 0.3872498303243571),\n",
       " ('propaganda', 0.25298317499551426),\n",
       " ('self-defense', 0.1989096965512358),\n",
       " ('United_States', 0.1930412228885292),\n",
       " ('represented', 0.18335020003175317),\n",
       " ('participated', 0.1766665103943208),\n",
       " ('measures', 0.1746038724408474),\n",
       " ('himself', 0.1681772508271817),\n",
       " ('individualistic', 0.16545124376838416)]"
      ]
     },
     "execution_count": 51,
     "metadata": {},
     "output_type": "execute_result"
    }
   ],
   "source": [
    "similary_n_words_by_vector(vector)"
   ]
  },
  {
   "cell_type": "code",
   "execution_count": 52,
   "metadata": {},
   "outputs": [
    {
     "data": {
      "text/plain": [
       "[('France', 0.7314337601671989),\n",
       " ('Warped', 0.2873526712754353),\n",
       " ('United_States', 0.18467060669987956),\n",
       " ('entails', 0.17896708303825437),\n",
       " ('himself', 0.14803849727475726),\n",
       " ('individualistic', 0.1409582228428432),\n",
       " ('represented', 0.1346687874808794),\n",
       " ('anti-statism', 0.13270729826289596),\n",
       " ('outside', 0.11838884211714795),\n",
       " ('relations', 0.11458092949163756)]"
      ]
     },
     "execution_count": 52,
     "metadata": {},
     "output_type": "execute_result"
    }
   ],
   "source": [
    "vector = vectors[ordered_t_index[\"Spain\"]] - vectors[ordered_t_index[\"Madrid\"]]\n",
    "similary_n_words_by_vector(vector)"
   ]
  },
  {
   "cell_type": "code",
   "execution_count": null,
   "metadata": {},
   "outputs": [],
   "source": []
  }
 ],
 "metadata": {
  "kernelspec": {
   "display_name": "Python 3",
   "language": "python",
   "name": "python3"
  },
  "language_info": {
   "codemirror_mode": {
    "name": "ipython",
    "version": 3
   },
   "file_extension": ".py",
   "mimetype": "text/x-python",
   "name": "python",
   "nbconvert_exporter": "python",
   "pygments_lexer": "ipython3",
   "version": "3.7.3"
  }
 },
 "nbformat": 4,
 "nbformat_minor": 2
}
